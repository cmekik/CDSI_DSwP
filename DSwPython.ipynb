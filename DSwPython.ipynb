{
 "cells": [
  {
   "cell_type": "markdown",
   "metadata": {
    "slideshow": {
     "slide_type": "slide"
    }
   },
   "source": [
    "# Data Science with Python (Pandas)\n",
    "\n",
    "Can Şerif Mekik\n",
    "\n",
    "December 6, 2021\n",
    "\n",
    "<table align=\"left\">\n",
    "<tr>\n",
    "<td><img src=CDSI_Fac.of.Sc_logo.png alt=\"CDSI Logo\" width=\"300\"/></td>\n",
    "<td><img src=mcgill_ccr_approval_croppedforblock_0.png alt=\"CCR Approved Logo\" width=\"300\"/></td>\n",
    "</tr>\n",
    "</table>"
   ]
  },
  {
   "cell_type": "markdown",
   "metadata": {
    "slideshow": {
     "slide_type": "slide"
    }
   },
   "source": [
    "## Introductory Remarks\n",
    "\n",
    "This workshop assumes minimal working knowledge of Python. \n",
    "\n",
    "Pandas is a great place to start using Python for data science\n",
    "- Similar feel to other stats software like R or Stata\n",
    "- Works well on its own but also integrates well with the Python data science ecosystem\n",
    "\n",
    "`Pandas` is excellent for [Data Wrangling](https://en.wikipedia.org/wiki/Data_wrangling), our main topic. \n",
    "\n",
    "This is the process making raw data ready for statistical analysis and/or modeling."
   ]
  },
  {
   "cell_type": "markdown",
   "metadata": {
    "slideshow": {
     "slide_type": "slide"
    }
   },
   "source": [
    "## Useful Resources\n",
    "\n",
    "The [Pandas Cheatsheet](https://pandas.pydata.org/Pandas_Cheat_Sheet.pdf) is an excellent two-page summary of essential `pandas` features.\n",
    "\n",
    "The [Official Pandas Docs](https://pandas.pydata.org/docs/) are the single best resource for information on `pandas` short of the source code.\n",
    "\n",
    "If you are looking to learn about a specific function or feature, go into the API section.\n",
    "\n",
    "The docs also offer tutorials and other helpful material."
   ]
  },
  {
   "cell_type": "markdown",
   "metadata": {
    "slideshow": {
     "slide_type": "slide"
    }
   },
   "source": [
    "## Contents\n",
    "\n",
    "1. Setup\n",
    "2. Main Data Structures\n",
    "3. Basic Data Wrangling: Loading, Viewing, Cleaning, and Enriching Data\n",
    "4. More Data Wrangling: Aggregating, Merging and Concatenating Data\n",
    "5. Data Exploration\n",
    "6. Advanced Topics (if time allows)"
   ]
  },
  {
   "cell_type": "markdown",
   "metadata": {
    "slideshow": {
     "slide_type": "slide"
    }
   },
   "source": [
    "## Setup\n",
    "\n",
    "We will walk through the first steps of analyzing a sample dataset.\n",
    "\n",
    "To follow the workshop on your own machine, you should have Anaconda already installed.\n",
    "\n",
    "This will automatically include the necessary dependencies.\n",
    "\n",
    "Our data set is Semra Sevi's Canadian Federal Elections dataset.\n",
    "\n",
    "You can find a copy of the dataset and this jupyter notebook at the following address.\n",
    "\n",
    "```https://link.to.materials```"
   ]
  },
  {
   "cell_type": "markdown",
   "metadata": {
    "slideshow": {
     "slide_type": "slide"
    }
   },
   "source": [
    "### Getting Ready to Code\n",
    "\n",
    "`Jupyter` is a python tool for rich interactive coding.\n",
    "\n",
    "This presentation uses `Jupyter` notebook, in fact!\n",
    "\n",
    "To get set, create a new folder in which you will work and copy the materials into it.\n",
    "\n",
    "I would call it `CDSI_DSwP`, or something like that.\n",
    "\n",
    "Then launch your machines console, activate your conda environment and run the following.\n",
    "\n",
    "```jupyter notebook```\n",
    "\n",
    "This should launch Jupyter notebook in your browser. When it does, you can open the notebook."
   ]
  },
  {
   "cell_type": "markdown",
   "metadata": {
    "slideshow": {
     "slide_type": "slide"
    }
   },
   "source": [
    "### Installing and Importing pandas\n",
    "\n",
    "`pandas` comes pre-packaged in Anaconda.\n",
    "\n",
    "Base `pandas` has only a few dependencies, but you may have to install optional dependencies depending on your work and your setup.\n",
    "\n",
    "For a full list of optional dependencies see the\n",
    "[Installation Documentation](https://pandas.pydata.org/docs/getting_started/install.html)\n"
   ]
  },
  {
   "cell_type": "code",
   "execution_count": 2,
   "metadata": {
    "slideshow": {
     "slide_type": "fragment"
    }
   },
   "outputs": [],
   "source": [
    "# import the pandas library!\n",
    "\n",
    "import pandas as pd"
   ]
  },
  {
   "cell_type": "markdown",
   "metadata": {
    "slideshow": {
     "slide_type": "slide"
    }
   },
   "source": [
    "## Main Data Structures\n",
    "\n",
    "There are two main data structures in `pandas`. \n",
    "- `Series` represent one single column of data\n",
    "- `DataFrame` represents a two dimensional array of data\n",
    "\n",
    "These are *array-like* data structures. \n",
    "\n",
    "- They have fixed dimensions.\n",
    "- Their entries are of a homogeneous datatype.\n",
    "- They are associated with indices, which help with data access\n",
    "- They support a variety of mathematical operations."
   ]
  },
  {
   "cell_type": "markdown",
   "metadata": {
    "slideshow": {
     "slide_type": "slide"
    }
   },
   "source": [
    "### Pandas Series\n",
    "\n",
    "> Series is a one-dimensional labeled array capable of holding any data type (integers, strings, floating point numbers, Python objects, etc.). The axis labels are collectively referred to as the index. "
   ]
  },
  {
   "cell_type": "code",
   "execution_count": 3,
   "metadata": {
    "slideshow": {
     "slide_type": "-"
    }
   },
   "outputs": [
    {
     "data": {
      "text/plain": [
       "Label1    1\n",
       "Label2    2\n",
       "Label3    3\n",
       "Label4    4\n",
       "Label5    5\n",
       "dtype: int64"
      ]
     },
     "execution_count": 3,
     "metadata": {},
     "output_type": "execute_result"
    }
   ],
   "source": [
    "s = pd.Series([1, 2, 3, 4, 5], index=[\"Label1\", \"Label2\", \"Label3\", \"Label4\", \"Label5\"])"
   ]
  },
  {
   "cell_type": "code",
   "execution_count": 4,
   "metadata": {},
   "outputs": [
    {
     "data": {
      "text/plain": [
       "Index(['Label1', 'Label2', 'Label3', 'Label4', 'Label5'], dtype='object')"
      ]
     },
     "execution_count": 4,
     "metadata": {},
     "output_type": "execute_result"
    }
   ],
   "source": [
    "s.index"
   ]
  },
  {
   "cell_type": "code",
   "execution_count": 7,
   "metadata": {},
   "outputs": [
    {
     "data": {
      "text/plain": [
       "dtype('int64')"
      ]
     },
     "execution_count": 7,
     "metadata": {},
     "output_type": "execute_result"
    }
   ],
   "source": [
    "s.dtype"
   ]
  },
  {
   "cell_type": "markdown",
   "metadata": {
    "slideshow": {
     "slide_type": "slide"
    }
   },
   "source": [
    "### Series Data Access\n",
    "\n",
    "There are *many* ways to access data with Series objects.\n",
    "\n",
    "Which one you use will depend on the situation.\n",
    "\n",
    "Let's look at some common patterns.\n",
    "\n",
    "See the docs on [Indexing and Selecting Data](https://pandas.pydata.org/docs/user_guide/indexing.html) for more details."
   ]
  },
  {
   "cell_type": "markdown",
   "metadata": {
    "slideshow": {
     "slide_type": "slide"
    }
   },
   "source": [
    "#### Using `loc` and `iloc`\n",
    "\n",
    "These are the basic data access methods"
   ]
  },
  {
   "cell_type": "code",
   "execution_count": 26,
   "metadata": {
    "scrolled": true,
    "slideshow": {
     "slide_type": "-"
    }
   },
   "outputs": [
    {
     "data": {
      "text/plain": [
       "(1, 1)"
      ]
     },
     "execution_count": 26,
     "metadata": {},
     "output_type": "execute_result"
    }
   ],
   "source": [
    "s.loc[\"Label1\"]  # access data by index label"
   ]
  },
  {
   "cell_type": "code",
   "execution_count": null,
   "metadata": {},
   "outputs": [],
   "source": [
    "s.iloc[0] # access data by position in index"
   ]
  },
  {
   "cell_type": "markdown",
   "metadata": {
    "slideshow": {
     "slide_type": "-"
    }
   },
   "source": [
    "#### Using Regular Subscripts\n",
    "\n",
    "Subscripts try to behave intelligently depending on the data type you pass in."
   ]
  },
  {
   "cell_type": "code",
   "execution_count": 27,
   "metadata": {
    "slideshow": {
     "slide_type": "-"
    }
   },
   "outputs": [
    {
     "data": {
      "text/plain": [
       "1"
      ]
     },
     "execution_count": 27,
     "metadata": {},
     "output_type": "execute_result"
    }
   ],
   "source": [
    "s[\"Label1\"] \n",
    "# direct indexing; multifunction, tries to be smart"
   ]
  },
  {
   "cell_type": "code",
   "execution_count": 28,
   "metadata": {},
   "outputs": [
    {
     "data": {
      "text/plain": [
       "1"
      ]
     },
     "execution_count": 28,
     "metadata": {},
     "output_type": "execute_result"
    }
   ],
   "source": [
    "s[0]"
   ]
  },
  {
   "cell_type": "markdown",
   "metadata": {
    "slideshow": {
     "slide_type": "slide"
    }
   },
   "source": [
    "#### Subsetting Data\n",
    "\n",
    "We can use boolean/logical expressions to select data.\n",
    "\n",
    "See the cheat sheet for a quick list of different operators."
   ]
  },
  {
   "cell_type": "code",
   "execution_count": 48,
   "metadata": {},
   "outputs": [
    {
     "data": {
      "text/plain": [
       "Label1    False\n",
       "Label2    False\n",
       "Label3     True\n",
       "Label4     True\n",
       "Label5     True\n",
       "dtype: bool"
      ]
     },
     "execution_count": 48,
     "metadata": {},
     "output_type": "execute_result"
    }
   ],
   "source": [
    "2 < s # Constructing a boolean series"
   ]
  },
  {
   "cell_type": "code",
   "execution_count": 49,
   "metadata": {},
   "outputs": [
    {
     "data": {
      "text/plain": [
       "Label3    3\n",
       "Label4    4\n",
       "Label5    5\n",
       "dtype: int64"
      ]
     },
     "execution_count": 49,
     "metadata": {},
     "output_type": "execute_result"
    }
   ],
   "source": [
    "s[2 < s] # Simple boolean query"
   ]
  },
  {
   "cell_type": "code",
   "execution_count": 47,
   "metadata": {},
   "outputs": [
    {
     "data": {
      "text/plain": [
       "Label3    3\n",
       "Label4    4\n",
       "dtype: int64"
      ]
     },
     "execution_count": 47,
     "metadata": {},
     "output_type": "execute_result"
    }
   ],
   "source": [
    "s[(2 < s) & (s < 5)] # More complex boolean; watch operator precedence!"
   ]
  },
  {
   "cell_type": "markdown",
   "metadata": {
    "slideshow": {
     "slide_type": "slide"
    }
   },
   "source": [
    "Look at what happens to the index with a boolean selection."
   ]
  },
  {
   "cell_type": "code",
   "execution_count": 50,
   "metadata": {},
   "outputs": [
    {
     "data": {
      "text/plain": [
       "Label3    3\n",
       "Label4    4\n",
       "Label5    5\n",
       "dtype: int64"
      ]
     },
     "execution_count": 50,
     "metadata": {},
     "output_type": "execute_result"
    }
   ],
   "source": [
    "s[2 < s] "
   ]
  },
  {
   "cell_type": "markdown",
   "metadata": {},
   "source": [
    "We lose some index entries! \n",
    "\n",
    "But, sometimes, we want to keep the index intact. Here is how to do that."
   ]
  },
  {
   "cell_type": "code",
   "execution_count": 30,
   "metadata": {
    "slideshow": {
     "slide_type": "-"
    }
   },
   "outputs": [
    {
     "data": {
      "text/plain": [
       "Label1    NaN\n",
       "Label2    NaN\n",
       "Label3    3.0\n",
       "Label4    4.0\n",
       "Label5    5.0\n",
       "dtype: float64"
      ]
     },
     "execution_count": 30,
     "metadata": {},
     "output_type": "execute_result"
    }
   ],
   "source": [
    "s.where(s > 2) # boolean indexing again, but preserving the original index"
   ]
  },
  {
   "cell_type": "markdown",
   "metadata": {
    "slideshow": {
     "slide_type": "slide"
    }
   },
   "source": [
    "### Pandas DataFrames\n",
    "\n",
    "> DataFrame is a 2-dimensional labeled data structure with columns of potentially different types. You can think of it like a spreadsheet or SQL table, or a dict of Series objects. It is generally the most commonly used pandas object.\n"
   ]
  },
  {
   "cell_type": "code",
   "execution_count": 57,
   "metadata": {},
   "outputs": [
    {
     "data": {
      "text/html": [
       "<div>\n",
       "<style scoped>\n",
       "    .dataframe tbody tr th:only-of-type {\n",
       "        vertical-align: middle;\n",
       "    }\n",
       "\n",
       "    .dataframe tbody tr th {\n",
       "        vertical-align: top;\n",
       "    }\n",
       "\n",
       "    .dataframe thead th {\n",
       "        text-align: right;\n",
       "    }\n",
       "</style>\n",
       "<table border=\"1\" class=\"dataframe\">\n",
       "  <thead>\n",
       "    <tr style=\"text-align: right;\">\n",
       "      <th></th>\n",
       "      <th>another_s</th>\n",
       "      <th>yet another</th>\n",
       "    </tr>\n",
       "  </thead>\n",
       "  <tbody>\n",
       "    <tr>\n",
       "      <th>Label1</th>\n",
       "      <td>6</td>\n",
       "      <td>NaN</td>\n",
       "    </tr>\n",
       "    <tr>\n",
       "      <th>Label2</th>\n",
       "      <td>7</td>\n",
       "      <td>NaN</td>\n",
       "    </tr>\n",
       "    <tr>\n",
       "      <th>Label3</th>\n",
       "      <td>8</td>\n",
       "      <td>11.0</td>\n",
       "    </tr>\n",
       "    <tr>\n",
       "      <th>Label4</th>\n",
       "      <td>9</td>\n",
       "      <td>12.0</td>\n",
       "    </tr>\n",
       "    <tr>\n",
       "      <th>Label5</th>\n",
       "      <td>10</td>\n",
       "      <td>13.0</td>\n",
       "    </tr>\n",
       "  </tbody>\n",
       "</table>\n",
       "</div>"
      ],
      "text/plain": [
       "        another_s  yet another\n",
       "Label1          6          NaN\n",
       "Label2          7          NaN\n",
       "Label3          8         11.0\n",
       "Label4          9         12.0\n",
       "Label5         10         13.0"
      ]
     },
     "execution_count": 57,
     "metadata": {},
     "output_type": "execute_result"
    }
   ],
   "source": [
    "df = pd.DataFrame({\"another_s\": [6, 7, 8, 9, 10],\n",
    "                   \"yet another\": [None, None, 11, 12, 13]},\n",
    "    index=[\"Label1\", \"Label2\", \"Label3\", \"Label4\", \"Label5\"])\n",
    "df"
   ]
  },
  {
   "cell_type": "code",
   "execution_count": 59,
   "metadata": {},
   "outputs": [
    {
     "data": {
      "text/plain": [
       "Index(['another_s', 'yet another'], dtype='object')"
      ]
     },
     "execution_count": 59,
     "metadata": {},
     "output_type": "execute_result"
    }
   ],
   "source": [
    "df.columns # dfs have column indices!"
   ]
  },
  {
   "cell_type": "markdown",
   "metadata": {
    "slideshow": {
     "slide_type": "slide"
    }
   },
   "source": [
    "### DataFrame Data Access\n",
    "\n",
    "You can use the same methods as Series to access and subset DataFrame data.\n",
    "\n",
    "The behaviour is slightly different in some cases, and there some additional functionality that allows you to work with columns.\n",
    "\n",
    "For further details, see "
   ]
  },
  {
   "cell_type": "markdown",
   "metadata": {
    "slideshow": {
     "slide_type": "slide"
    }
   },
   "source": [
    "#### Accessing Rows and Columns"
   ]
  },
  {
   "cell_type": "code",
   "execution_count": 63,
   "metadata": {},
   "outputs": [
    {
     "data": {
      "text/plain": [
       "Label1     6\n",
       "Label2     7\n",
       "Label3     8\n",
       "Label4     9\n",
       "Label5    10\n",
       "Name: another_s, dtype: int64"
      ]
     },
     "execution_count": 63,
     "metadata": {},
     "output_type": "execute_result"
    }
   ],
   "source": [
    "df.another_s"
   ]
  },
  {
   "cell_type": "code",
   "execution_count": 65,
   "metadata": {},
   "outputs": [
    {
     "data": {
      "text/plain": [
       "Label1     NaN\n",
       "Label2     NaN\n",
       "Label3    11.0\n",
       "Label4    12.0\n",
       "Label5    13.0\n",
       "Name: yet another, dtype: float64"
      ]
     },
     "execution_count": 65,
     "metadata": {},
     "output_type": "execute_result"
    }
   ],
   "source": [
    "# 'df.yet another' invalid!\n",
    "df[\"yet another\"]"
   ]
  },
  {
   "cell_type": "markdown",
   "metadata": {
    "slideshow": {
     "slide_type": "slide"
    }
   },
   "source": [
    "To select rows, use `loc` and `iloc`"
   ]
  },
  {
   "cell_type": "code",
   "execution_count": 68,
   "metadata": {},
   "outputs": [
    {
     "data": {
      "text/plain": [
       "another_s      6.0\n",
       "yet another    NaN\n",
       "Name: Label1, dtype: float64"
      ]
     },
     "execution_count": 68,
     "metadata": {},
     "output_type": "execute_result"
    }
   ],
   "source": [
    "df.loc[\"Label1\"]"
   ]
  },
  {
   "cell_type": "code",
   "execution_count": 69,
   "metadata": {},
   "outputs": [
    {
     "data": {
      "text/plain": [
       "another_s      6.0\n",
       "yet another    NaN\n",
       "Name: Label1, dtype: float64"
      ]
     },
     "execution_count": 69,
     "metadata": {},
     "output_type": "execute_result"
    }
   ],
   "source": [
    "df.iloc[0]"
   ]
  },
  {
   "cell_type": "markdown",
   "metadata": {
    "slideshow": {
     "slide_type": "slide"
    }
   },
   "source": [
    "#### Adding, Selecting and Reordering Columns"
   ]
  },
  {
   "cell_type": "code",
   "execution_count": 72,
   "metadata": {},
   "outputs": [
    {
     "data": {
      "text/html": [
       "<div>\n",
       "<style scoped>\n",
       "    .dataframe tbody tr th:only-of-type {\n",
       "        vertical-align: middle;\n",
       "    }\n",
       "\n",
       "    .dataframe tbody tr th {\n",
       "        vertical-align: top;\n",
       "    }\n",
       "\n",
       "    .dataframe thead th {\n",
       "        text-align: right;\n",
       "    }\n",
       "</style>\n",
       "<table border=\"1\" class=\"dataframe\">\n",
       "  <thead>\n",
       "    <tr style=\"text-align: right;\">\n",
       "      <th></th>\n",
       "      <th>another_s</th>\n",
       "      <th>yet another</th>\n",
       "      <th>s</th>\n",
       "    </tr>\n",
       "  </thead>\n",
       "  <tbody>\n",
       "    <tr>\n",
       "      <th>Label1</th>\n",
       "      <td>6</td>\n",
       "      <td>NaN</td>\n",
       "      <td>1</td>\n",
       "    </tr>\n",
       "    <tr>\n",
       "      <th>Label2</th>\n",
       "      <td>7</td>\n",
       "      <td>NaN</td>\n",
       "      <td>2</td>\n",
       "    </tr>\n",
       "    <tr>\n",
       "      <th>Label3</th>\n",
       "      <td>8</td>\n",
       "      <td>11.0</td>\n",
       "      <td>3</td>\n",
       "    </tr>\n",
       "    <tr>\n",
       "      <th>Label4</th>\n",
       "      <td>9</td>\n",
       "      <td>12.0</td>\n",
       "      <td>4</td>\n",
       "    </tr>\n",
       "    <tr>\n",
       "      <th>Label5</th>\n",
       "      <td>10</td>\n",
       "      <td>13.0</td>\n",
       "      <td>5</td>\n",
       "    </tr>\n",
       "  </tbody>\n",
       "</table>\n",
       "</div>"
      ],
      "text/plain": [
       "        another_s  yet another  s\n",
       "Label1          6          NaN  1\n",
       "Label2          7          NaN  2\n",
       "Label3          8         11.0  3\n",
       "Label4          9         12.0  4\n",
       "Label5         10         13.0  5"
      ]
     },
     "execution_count": 72,
     "metadata": {},
     "output_type": "execute_result"
    }
   ],
   "source": [
    "df[\"s\"] = s # Remeber s?\n",
    "df"
   ]
  },
  {
   "cell_type": "code",
   "execution_count": 73,
   "metadata": {},
   "outputs": [
    {
     "data": {
      "text/html": [
       "<div>\n",
       "<style scoped>\n",
       "    .dataframe tbody tr th:only-of-type {\n",
       "        vertical-align: middle;\n",
       "    }\n",
       "\n",
       "    .dataframe tbody tr th {\n",
       "        vertical-align: top;\n",
       "    }\n",
       "\n",
       "    .dataframe thead th {\n",
       "        text-align: right;\n",
       "    }\n",
       "</style>\n",
       "<table border=\"1\" class=\"dataframe\">\n",
       "  <thead>\n",
       "    <tr style=\"text-align: right;\">\n",
       "      <th></th>\n",
       "      <th>s</th>\n",
       "      <th>another_s</th>\n",
       "    </tr>\n",
       "  </thead>\n",
       "  <tbody>\n",
       "    <tr>\n",
       "      <th>Label1</th>\n",
       "      <td>1</td>\n",
       "      <td>6</td>\n",
       "    </tr>\n",
       "    <tr>\n",
       "      <th>Label2</th>\n",
       "      <td>2</td>\n",
       "      <td>7</td>\n",
       "    </tr>\n",
       "    <tr>\n",
       "      <th>Label3</th>\n",
       "      <td>3</td>\n",
       "      <td>8</td>\n",
       "    </tr>\n",
       "    <tr>\n",
       "      <th>Label4</th>\n",
       "      <td>4</td>\n",
       "      <td>9</td>\n",
       "    </tr>\n",
       "    <tr>\n",
       "      <th>Label5</th>\n",
       "      <td>5</td>\n",
       "      <td>10</td>\n",
       "    </tr>\n",
       "  </tbody>\n",
       "</table>\n",
       "</div>"
      ],
      "text/plain": [
       "        s  another_s\n",
       "Label1  1          6\n",
       "Label2  2          7\n",
       "Label3  3          8\n",
       "Label4  4          9\n",
       "Label5  5         10"
      ]
     },
     "execution_count": 73,
     "metadata": {},
     "output_type": "execute_result"
    }
   ],
   "source": [
    "df[[\"s\", \"another_s\"]]"
   ]
  },
  {
   "cell_type": "markdown",
   "metadata": {
    "slideshow": {
     "slide_type": "slide"
    }
   },
   "source": [
    "### Basic DataFrame Subsetting\n",
    "\n",
    "You can use boolean expressions as with series, but with different columns too!"
   ]
  },
  {
   "cell_type": "code",
   "execution_count": 76,
   "metadata": {},
   "outputs": [
    {
     "data": {
      "text/html": [
       "<div>\n",
       "<style scoped>\n",
       "    .dataframe tbody tr th:only-of-type {\n",
       "        vertical-align: middle;\n",
       "    }\n",
       "\n",
       "    .dataframe tbody tr th {\n",
       "        vertical-align: top;\n",
       "    }\n",
       "\n",
       "    .dataframe thead th {\n",
       "        text-align: right;\n",
       "    }\n",
       "</style>\n",
       "<table border=\"1\" class=\"dataframe\">\n",
       "  <thead>\n",
       "    <tr style=\"text-align: right;\">\n",
       "      <th></th>\n",
       "      <th>another_s</th>\n",
       "      <th>yet another</th>\n",
       "      <th>s</th>\n",
       "      <th>s2</th>\n",
       "    </tr>\n",
       "  </thead>\n",
       "  <tbody>\n",
       "    <tr>\n",
       "      <th>Label1</th>\n",
       "      <td>6</td>\n",
       "      <td>NaN</td>\n",
       "      <td>1</td>\n",
       "      <td>NaN</td>\n",
       "    </tr>\n",
       "  </tbody>\n",
       "</table>\n",
       "</div>"
      ],
      "text/plain": [
       "        another_s  yet another  s  s2\n",
       "Label1          6          NaN  1 NaN"
      ]
     },
     "execution_count": 76,
     "metadata": {},
     "output_type": "execute_result"
    }
   ],
   "source": [
    "df[df.s < 2]"
   ]
  },
  {
   "cell_type": "code",
   "execution_count": 77,
   "metadata": {},
   "outputs": [
    {
     "data": {
      "text/html": [
       "<div>\n",
       "<style scoped>\n",
       "    .dataframe tbody tr th:only-of-type {\n",
       "        vertical-align: middle;\n",
       "    }\n",
       "\n",
       "    .dataframe tbody tr th {\n",
       "        vertical-align: top;\n",
       "    }\n",
       "\n",
       "    .dataframe thead th {\n",
       "        text-align: right;\n",
       "    }\n",
       "</style>\n",
       "<table border=\"1\" class=\"dataframe\">\n",
       "  <thead>\n",
       "    <tr style=\"text-align: right;\">\n",
       "      <th></th>\n",
       "      <th>another_s</th>\n",
       "      <th>yet another</th>\n",
       "      <th>s</th>\n",
       "      <th>s2</th>\n",
       "    </tr>\n",
       "  </thead>\n",
       "  <tbody>\n",
       "    <tr>\n",
       "      <th>Label3</th>\n",
       "      <td>8</td>\n",
       "      <td>11.0</td>\n",
       "      <td>3</td>\n",
       "      <td>3.0</td>\n",
       "    </tr>\n",
       "    <tr>\n",
       "      <th>Label4</th>\n",
       "      <td>9</td>\n",
       "      <td>12.0</td>\n",
       "      <td>4</td>\n",
       "      <td>4.0</td>\n",
       "    </tr>\n",
       "    <tr>\n",
       "      <th>Label5</th>\n",
       "      <td>10</td>\n",
       "      <td>13.0</td>\n",
       "      <td>5</td>\n",
       "      <td>5.0</td>\n",
       "    </tr>\n",
       "  </tbody>\n",
       "</table>\n",
       "</div>"
      ],
      "text/plain": [
       "        another_s  yet another  s   s2\n",
       "Label3          8         11.0  3  3.0\n",
       "Label4          9         12.0  4  4.0\n",
       "Label5         10         13.0  5  5.0"
      ]
     },
     "execution_count": 77,
     "metadata": {},
     "output_type": "execute_result"
    }
   ],
   "source": [
    "df[df[\"yet another\"] > df.s]"
   ]
  },
  {
   "cell_type": "markdown",
   "metadata": {
    "slideshow": {
     "slide_type": "slide"
    }
   },
   "source": [
    "## Basic Data Wrangling: Loading, Viewing, Cleaning and Enriching Data\n",
    "\n",
    "You can divide data wrangling into three broad activities.\n",
    "1. Inspection - Get familiar with the data and check for potential problems\n",
    "2. Preparation - Create or clean variables, deal with missing values\n",
    "3. Exploration - Compute descriptives statistics and identify basic patterns in the data\n",
    "\n",
    "The ordering above is typical, but not absolute. \n",
    "\n",
    "The different activities often tend to blend together. "
   ]
  },
  {
   "cell_type": "markdown",
   "metadata": {
    "slideshow": {
     "slide_type": "slide"
    }
   },
   "source": [
    "### Reading and Writing Data\n",
    "\n",
    "`pandas` can import a wide variety of common data formats. \n",
    "\n",
    "Some supported file types include the following.\n",
    "- CSV\n",
    "- Excel\n",
    "- SPSS\n",
    "- STATA\n",
    "\n",
    "For a full list, see the [I/O documentation](https://pandas.pydata.org/docs/reference/io.html)."
   ]
  },
  {
   "cell_type": "code",
   "execution_count": 111,
   "metadata": {
    "slideshow": {
     "slide_type": "slide"
    }
   },
   "outputs": [
    {
     "name": "stderr",
     "output_type": "stream",
     "text": [
      "/home/mekikc/.conda/envs/CDSI/lib/python3.9/site-packages/IPython/core/interactiveshell.py:3444: DtypeWarning: Columns (10,11) have mixed types.Specify dtype option on import or set low_memory=False.\n",
      "  exec(code_obj, self.user_global_ns, self.user_ns)\n"
     ]
    }
   ],
   "source": [
    "# For this workshop, we will work with the following data\n",
    "load_path = \"federal-candidates-2021-10-20.csv\"\n",
    "\n",
    "# Load the data \n",
    "df = pd.read_csv(load_path)\n"
   ]
  },
  {
   "cell_type": "markdown",
   "metadata": {
    "slideshow": {
     "slide_type": "skip"
    }
   },
   "source": [
    "Writing to these formats is also generally supported."
   ]
  },
  {
   "cell_type": "code",
   "execution_count": 80,
   "metadata": {
    "slideshow": {
     "slide_type": "fragment"
    }
   },
   "outputs": [],
   "source": [
    "# Let's save a copy of the data to this file\n",
    "save_path = \"federal-candidates-copy.csv\"\n",
    "\n",
    "# To write a dataframe, call the write method for the chosen format\n",
    "df.to_csv(save_path)\n"
   ]
  },
  {
   "cell_type": "markdown",
   "metadata": {
    "slideshow": {
     "slide_type": "slide"
    }
   },
   "source": [
    "### Viewing the Data\n",
    "\n",
    "The first step in analyzing data is to get familiar with it.\n",
    "\n",
    "This way, we get a feel for how much cleaning will be necessary.\n",
    "\n",
    "We also give ourselves a chance to catch anything weird."
   ]
  },
  {
   "cell_type": "markdown",
   "metadata": {
    "slideshow": {
     "slide_type": "slide"
    }
   },
   "source": [
    "To get our bearings, let's take a look at the metadata."
   ]
  },
  {
   "cell_type": "code",
   "execution_count": 21,
   "metadata": {
    "slideshow": {
     "slide_type": "-"
    }
   },
   "outputs": [
    {
     "name": "stdout",
     "output_type": "stream",
     "text": [
      "<class 'pandas.core.frame.DataFrame'>\n",
      "RangeIndex: 46526 entries, 0 to 46525\n",
      "Data columns (total 10 columns):\n",
      " #   Column          Non-Null Count  Dtype  \n",
      "---  ------          --------------  -----  \n",
      " 0   id              46526 non-null  int64  \n",
      " 1   parliament      46526 non-null  int64  \n",
      " 2   year            46526 non-null  int64  \n",
      " 3   type_elxn       46526 non-null  object \n",
      " 4   elected         46526 non-null  object \n",
      " 5   candidate_name  46526 non-null  object \n",
      " 6   edate           46526 non-null  object \n",
      " 7   incumbent       46458 non-null  object \n",
      " 8   gender          46525 non-null  object \n",
      " 9   birth_year      12276 non-null  float64\n",
      "dtypes: float64(1), int64(3), object(6)\n",
      "memory usage: 3.5+ MB\n"
     ]
    }
   ],
   "source": [
    "df[df.columns[:10]].info()"
   ]
  },
  {
   "cell_type": "markdown",
   "metadata": {
    "slideshow": {
     "slide_type": "slide"
    }
   },
   "source": [
    "A good next step is to inspect the data directly and continue to look for\n",
    "anything weird.\n",
    "\n",
    "We can look at the top or bottom of the dataset or to randomly sample rows from the data set."
   ]
  },
  {
   "cell_type": "code",
   "execution_count": 16,
   "metadata": {
    "slideshow": {
     "slide_type": "-"
    }
   },
   "outputs": [
    {
     "ename": "NameError",
     "evalue": "name 'df' is not defined",
     "output_type": "error",
     "traceback": [
      "\u001b[0;31m---------------------------------------------------------------------------\u001b[0m",
      "\u001b[0;31mNameError\u001b[0m                                 Traceback (most recent call last)",
      "\u001b[0;32m/tmp/ipykernel_550860/4060646332.py\u001b[0m in \u001b[0;36m<module>\u001b[0;34m\u001b[0m\n\u001b[0;32m----> 1\u001b[0;31m \u001b[0mdf\u001b[0m\u001b[0;34m.\u001b[0m\u001b[0mhead\u001b[0m\u001b[0;34m(\u001b[0m\u001b[0;36m5\u001b[0m\u001b[0;34m)\u001b[0m \u001b[0;31m# Peek at the first n rows. See anything weird?\u001b[0m\u001b[0;34m\u001b[0m\u001b[0;34m\u001b[0m\u001b[0m\n\u001b[0m",
      "\u001b[0;31mNameError\u001b[0m: name 'df' is not defined"
     ]
    }
   ],
   "source": [
    "df.head(5) # Peek at the first n rows. See anything weird?"
   ]
  },
  {
   "cell_type": "code",
   "execution_count": null,
   "metadata": {
    "slideshow": {
     "slide_type": "-"
    }
   },
   "outputs": [],
   "source": [
    "df.tail(5) # Peek at the last n rows."
   ]
  },
  {
   "cell_type": "code",
   "execution_count": null,
   "metadata": {
    "slideshow": {
     "slide_type": "-"
    }
   },
   "outputs": [],
   "source": [
    "df.sample(5) # Peek at a random sample of rows."
   ]
  },
  {
   "cell_type": "markdown",
   "metadata": {
    "slideshow": {
     "slide_type": "slide"
    }
   },
   "source": [
    "### Data Cleaning\n",
    "\n",
    "Let's get familiar with some `pandas` data cleaning tools.\n",
    "\n",
    "Our first data cleaning step is to clean up the data types.\n",
    "\n",
    "Sometimes `pandas` fails to assign the right dtype when constructing a variable. "
   ]
  },
  {
   "cell_type": "markdown",
   "metadata": {
    "slideshow": {
     "slide_type": "slide"
    }
   },
   "source": [
    "#### Adjusting Datatypes\n",
    "\n",
    "String data are typically assigned the 'object' type.\n",
    "\n",
    "This is `pandas`'s way of signaling it doesn't really know how to interpret the data.\n",
    "\n",
    "In this dataset, almost all columns with string data represent categorical\n",
    "variables. \n",
    "\n",
    "However, edate is a date, and candidate_name and occupation are a free-form strings."
   ]
  },
  {
   "cell_type": "code",
   "execution_count": 81,
   "metadata": {
    "slideshow": {
     "slide_type": "-"
    }
   },
   "outputs": [
    {
     "name": "stdout",
     "output_type": "stream",
     "text": [
      "Object-type columns: Index(['type_elxn', 'elected', 'candidate_name', 'edate', 'incumbent',\n",
      "       'gender', 'country_birth', 'lgbtq2_out', 'indigenousorigins',\n",
      "       'occupation', 'lawyer', 'censuscategory', 'riding', 'province',\n",
      "       'acclaimed', 'switcher', 'multiple_candidacy', 'party_raw',\n",
      "       'party_minor_group', 'party_major_group', 'gov_party_raw',\n",
      "       'gov_minor_group', 'gov_major_group'],\n",
      "      dtype='object').\n"
     ]
    }
   ],
   "source": [
    "object_cols = df.select_dtypes(include=\"object\").columns\n",
    "print(f\"Object-type columns: {object_cols}.\")"
   ]
  },
  {
   "cell_type": "markdown",
   "metadata": {
    "slideshow": {
     "slide_type": "slide"
    }
   },
   "source": [
    "We can cast the affected variables to the correct dtypes as follows."
   ]
  },
  {
   "cell_type": "code",
   "execution_count": 113,
   "metadata": {
    "slideshow": {
     "slide_type": "-"
    }
   },
   "outputs": [],
   "source": [
    "# Cast edate as a datetime variable\n",
    "df.edate = pd.to_datetime(df.edate, yearfirst=True) \n",
    "\n",
    "# Cast object variables as categorical\n",
    "for col in df.select_dtypes(include=\"object\").columns:\n",
    "    if col not in [\"candidate_name\", \"occupation\"]: \n",
    "        df[col] = df[col].astype(\"category\")"
   ]
  },
  {
   "cell_type": "markdown",
   "metadata": {
    "slideshow": {
     "slide_type": "slide"
    }
   },
   "source": [
    " Let's check what happened to the object-type columns."
   ]
  },
  {
   "cell_type": "code",
   "execution_count": 83,
   "metadata": {
    "slideshow": {
     "slide_type": "-"
    }
   },
   "outputs": [
    {
     "data": {
      "text/plain": [
       "type_elxn                   category\n",
       "elected                     category\n",
       "candidate_name                object\n",
       "edate                 datetime64[ns]\n",
       "incumbent                   category\n",
       "gender                      category\n",
       "country_birth               category\n",
       "lgbtq2_out                  category\n",
       "indigenousorigins           category\n",
       "occupation                    object\n",
       "lawyer                      category\n",
       "censuscategory              category\n",
       "riding                      category\n",
       "province                    category\n",
       "acclaimed                   category\n",
       "switcher                    category\n",
       "multiple_candidacy          category\n",
       "party_raw                   category\n",
       "party_minor_group           category\n",
       "party_major_group           category\n",
       "gov_party_raw               category\n",
       "gov_minor_group             category\n",
       "gov_major_group             category\n",
       "dtype: object"
      ]
     },
     "execution_count": 83,
     "metadata": {},
     "output_type": "execute_result"
    }
   ],
   "source": [
    "df[object_cols].dtypes"
   ]
  },
  {
   "cell_type": "markdown",
   "metadata": {
    "slideshow": {
     "slide_type": "slide"
    }
   },
   "source": [
    "Finally, let's take a look at the numerical data.\n",
    "\n",
    "Do you notice anything weird?"
   ]
  },
  {
   "cell_type": "code",
   "execution_count": 84,
   "metadata": {
    "slideshow": {
     "slide_type": "-"
    }
   },
   "outputs": [
    {
     "name": "stdout",
     "output_type": "stream",
     "text": [
      "Float columns: Index(['birth_year', 'riding_id', 'votes', 'percent_votes'], dtype='object')\n",
      "Int columns: Index(['id', 'parliament', 'year', 'num_candidates'], dtype='object')\n"
     ]
    }
   ],
   "source": [
    "float_cols = df.select_dtypes(\"float\").columns\n",
    "print(f\"Float columns: {float_cols}\")\n",
    "\n",
    "int_cols = df.select_dtypes(\"int\").columns\n",
    "print(f\"Int columns: {int_cols}\")"
   ]
  },
  {
   "cell_type": "markdown",
   "metadata": {
    "slideshow": {
     "slide_type": "fragment"
    }
   },
   "source": [
    "Of the four float columns, it is only natural to represent `percent_votes` as a \n",
    "float type variable. \n",
    "\n",
    "For `riding_id`, we are better off using a categorical datatype, even though the \n",
    "values look like integers. \n",
    "\n",
    "Likewise, the `id` column should also be viewed as a\n",
    "categorical. In both cases, the ordering of the values is not meaningful."
   ]
  },
  {
   "cell_type": "markdown",
   "metadata": {
    "slideshow": {
     "slide_type": "slide"
    }
   },
   "source": [
    "Here is how we convert the dataype of `riding_id` and `id`."
   ]
  },
  {
   "cell_type": "code",
   "execution_count": 114,
   "metadata": {
    "slideshow": {
     "slide_type": "-"
    }
   },
   "outputs": [],
   "source": [
    "df.riding_id = df.riding_id.astype(\"category\")\n",
    "df.id = df.id.astype(\"category\")"
   ]
  },
  {
   "cell_type": "markdown",
   "metadata": {
    "slideshow": {
     "slide_type": "slide"
    }
   },
   "source": [
    "The `birth_year` and `votes` columns should be using an integer dtype.\n",
    "\n",
    "But why were three variables get 'mis-coded' as float in the first place? \n",
    "\n",
    "Perhaps we can get a clue by comparing to correct int variables"
   ]
  },
  {
   "cell_type": "code",
   "execution_count": 86,
   "metadata": {
    "slideshow": {
     "slide_type": "-"
    }
   },
   "outputs": [
    {
     "name": "stdout",
     "output_type": "stream",
     "text": [
      "<class 'pandas.core.frame.DataFrame'>\n",
      "RangeIndex: 46526 entries, 0 to 46525\n",
      "Data columns (total 4 columns):\n",
      " #   Column          Non-Null Count  Dtype  \n",
      "---  ------          --------------  -----  \n",
      " 0   birth_year      12276 non-null  float64\n",
      " 1   votes           45835 non-null  float64\n",
      " 2   year            46526 non-null  int64  \n",
      " 3   num_candidates  46526 non-null  int64  \n",
      "dtypes: float64(2), int64(2)\n",
      "memory usage: 1.4 MB\n"
     ]
    }
   ],
   "source": [
    "df[[\"birth_year\", \"votes\", \"year\", \"num_candidates\"]].info()"
   ]
  },
  {
   "cell_type": "markdown",
   "metadata": {
    "slideshow": {
     "slide_type": "slide"
    }
   },
   "source": [
    "It's because the default integer datatype does not support missing\n",
    "values! \n",
    "\n",
    "Luckily, `pandas` has another integer datatype that supports missing values. We\n",
    "can just cast to that."
   ]
  },
  {
   "cell_type": "code",
   "execution_count": 115,
   "metadata": {
    "slideshow": {
     "slide_type": "-"
    }
   },
   "outputs": [],
   "source": [
    "df.birth_year = df.birth_year.astype(\"Int64\")\n",
    "df.votes = df.votes.astype(\"Int64\")"
   ]
  },
  {
   "cell_type": "markdown",
   "metadata": {
    "slideshow": {
     "slide_type": "fragment"
    }
   },
   "source": [
    "Don't mix up 'int64' with 'Int64'! In pandas, they are different: \n",
    "- `int64` refers to the regular int type that has no missing value support\n",
    "- `Int64` refers to the to the int type with missing value support"
   ]
  },
  {
   "cell_type": "markdown",
   "metadata": {
    "slideshow": {
     "slide_type": "slide"
    }
   },
   "source": [
    "#### Cleaning Categorical Variables\n",
    "\n",
    "Categorical variables tend to require some extra attention, even in the most\n",
    "well-curated datasets."
   ]
  },
  {
   "cell_type": "markdown",
   "metadata": {
    "slideshow": {
     "slide_type": "fragment"
    }
   },
   "source": [
    "Take a look at the values of the `gender` variable. \n",
    "\n",
    "Keep in mind what the data's README file says about this variable:\n",
    "> gender is a binary factor variable encoding candidate gender."
   ]
  },
  {
   "cell_type": "code",
   "execution_count": 88,
   "metadata": {
    "slideshow": {
     "slide_type": "-"
    }
   },
   "outputs": [
    {
     "data": {
      "text/plain": [
       "Index(['2', 'F', 'M'], dtype='object')"
      ]
     },
     "execution_count": 88,
     "metadata": {},
     "output_type": "execute_result"
    }
   ],
   "source": [
    "df.gender.cat.categories # This is how we access category names"
   ]
  },
  {
   "cell_type": "markdown",
   "metadata": {
    "slideshow": {
     "slide_type": "slide"
    }
   },
   "source": [
    "We were told `gender` is supposed to be a binary variable, but we got three values?\n",
    "\n",
    "So what's going on here? \n",
    "\n",
    "To get a better idea, let's tabulate the variable."
   ]
  },
  {
   "cell_type": "code",
   "execution_count": 89,
   "metadata": {
    "slideshow": {
     "slide_type": "-"
    }
   },
   "outputs": [
    {
     "data": {
      "text/plain": [
       "M    39938\n",
       "F     6585\n",
       "2        2\n",
       "Name: gender, dtype: int64"
      ]
     },
     "execution_count": 89,
     "metadata": {},
     "output_type": "execute_result"
    }
   ],
   "source": [
    "df.gender.value_counts()"
   ]
  },
  {
   "cell_type": "markdown",
   "metadata": {
    "slideshow": {
     "slide_type": "slide"
    }
   },
   "source": [
    "Let's look up these cases by subsetting the data. "
   ]
  },
  {
   "cell_type": "code",
   "execution_count": 90,
   "metadata": {
    "slideshow": {
     "slide_type": "-"
    }
   },
   "outputs": [
    {
     "data": {
      "text/html": [
       "<div>\n",
       "<style scoped>\n",
       "    .dataframe tbody tr th:only-of-type {\n",
       "        vertical-align: middle;\n",
       "    }\n",
       "\n",
       "    .dataframe tbody tr th {\n",
       "        vertical-align: top;\n",
       "    }\n",
       "\n",
       "    .dataframe thead th {\n",
       "        text-align: right;\n",
       "    }\n",
       "</style>\n",
       "<table border=\"1\" class=\"dataframe\">\n",
       "  <thead>\n",
       "    <tr style=\"text-align: right;\">\n",
       "      <th></th>\n",
       "      <th>id</th>\n",
       "      <th>parliament</th>\n",
       "      <th>year</th>\n",
       "      <th>type_elxn</th>\n",
       "      <th>elected</th>\n",
       "      <th>candidate_name</th>\n",
       "      <th>edate</th>\n",
       "      <th>incumbent</th>\n",
       "      <th>gender</th>\n",
       "      <th>birth_year</th>\n",
       "      <th>...</th>\n",
       "      <th>acclaimed</th>\n",
       "      <th>switcher</th>\n",
       "      <th>multiple_candidacy</th>\n",
       "      <th>party_raw</th>\n",
       "      <th>party_minor_group</th>\n",
       "      <th>party_major_group</th>\n",
       "      <th>gov_party_raw</th>\n",
       "      <th>gov_minor_group</th>\n",
       "      <th>gov_major_group</th>\n",
       "      <th>num_candidates</th>\n",
       "    </tr>\n",
       "  </thead>\n",
       "  <tbody>\n",
       "    <tr>\n",
       "      <th>45911</th>\n",
       "      <td>34718</td>\n",
       "      <td>44</td>\n",
       "      <td>2021</td>\n",
       "      <td>General</td>\n",
       "      <td>Not elected</td>\n",
       "      <td>Walker, Gillian</td>\n",
       "      <td>2021-09-20</td>\n",
       "      <td>Not incumbent</td>\n",
       "      <td>2</td>\n",
       "      <td>&lt;NA&gt;</td>\n",
       "      <td>...</td>\n",
       "      <td>Not acclaimed</td>\n",
       "      <td>Not switcher</td>\n",
       "      <td>Single</td>\n",
       "      <td>Green Party of Canada</td>\n",
       "      <td>Green</td>\n",
       "      <td>Third_Party</td>\n",
       "      <td>Liberal Party of Canada</td>\n",
       "      <td>Liberal</td>\n",
       "      <td>Liberal</td>\n",
       "      <td>5</td>\n",
       "    </tr>\n",
       "    <tr>\n",
       "      <th>46045</th>\n",
       "      <td>35663</td>\n",
       "      <td>44</td>\n",
       "      <td>2021</td>\n",
       "      <td>General</td>\n",
       "      <td>Not elected</td>\n",
       "      <td>Woodmass, Rowan</td>\n",
       "      <td>2021-09-20</td>\n",
       "      <td>Not incumbent</td>\n",
       "      <td>2</td>\n",
       "      <td>&lt;NA&gt;</td>\n",
       "      <td>...</td>\n",
       "      <td>Not acclaimed</td>\n",
       "      <td>Not switcher</td>\n",
       "      <td>Single</td>\n",
       "      <td>New Democratic Party</td>\n",
       "      <td>NDP</td>\n",
       "      <td>CCF_NDP</td>\n",
       "      <td>Liberal Party of Canada</td>\n",
       "      <td>Liberal</td>\n",
       "      <td>Liberal</td>\n",
       "      <td>6</td>\n",
       "    </tr>\n",
       "  </tbody>\n",
       "</table>\n",
       "<p>2 rows × 31 columns</p>\n",
       "</div>"
      ],
      "text/plain": [
       "          id  parliament  year type_elxn      elected   candidate_name  \\\n",
       "45911  34718          44  2021   General  Not elected  Walker, Gillian   \n",
       "46045  35663          44  2021   General  Not elected  Woodmass, Rowan   \n",
       "\n",
       "           edate      incumbent gender  birth_year  ...      acclaimed  \\\n",
       "45911 2021-09-20  Not incumbent      2        <NA>  ...  Not acclaimed   \n",
       "46045 2021-09-20  Not incumbent      2        <NA>  ...  Not acclaimed   \n",
       "\n",
       "           switcher multiple_candidacy              party_raw  \\\n",
       "45911  Not switcher             Single  Green Party of Canada   \n",
       "46045  Not switcher             Single   New Democratic Party   \n",
       "\n",
       "      party_minor_group party_major_group            gov_party_raw  \\\n",
       "45911             Green       Third_Party  Liberal Party of Canada   \n",
       "46045               NDP           CCF_NDP  Liberal Party of Canada   \n",
       "\n",
       "      gov_minor_group gov_major_group  num_candidates  \n",
       "45911         Liberal         Liberal               5  \n",
       "46045         Liberal         Liberal               6  \n",
       "\n",
       "[2 rows x 31 columns]"
      ]
     },
     "execution_count": 90,
     "metadata": {},
     "output_type": "execute_result"
    }
   ],
   "source": [
    "df[df.gender == \"2\"]"
   ]
  },
  {
   "cell_type": "markdown",
   "metadata": {},
   "source": [
    "These candidates are from the most recent election and, if you look them up, you'll find that they both have non-binary gender identity. "
   ]
  },
  {
   "cell_type": "markdown",
   "metadata": {
    "slideshow": {
     "slide_type": "slide"
    }
   },
   "source": [
    "We can recode the data to give those two cases more explicit labels. "
   ]
  },
  {
   "cell_type": "code",
   "execution_count": 116,
   "metadata": {
    "slideshow": {
     "slide_type": "-"
    }
   },
   "outputs": [
    {
     "data": {
      "text/plain": [
       "Index(['NB', 'F', 'M'], dtype='object')"
      ]
     },
     "execution_count": 116,
     "metadata": {},
     "output_type": "execute_result"
    }
   ],
   "source": [
    "df.gender = df.gender.replace({\"2\": \"NB\"})\n",
    "df.gender.cat.categories"
   ]
  },
  {
   "cell_type": "markdown",
   "metadata": {
    "slideshow": {
     "slide_type": "fragment"
    }
   },
   "source": [
    "Replace is very powerful and works with other variable types as well!\n",
    "\n",
    "It is particularly handy when you want to collapse multiple categories."
   ]
  },
  {
   "cell_type": "markdown",
   "metadata": {
    "slideshow": {
     "slide_type": "slide"
    }
   },
   "source": [
    "Another adjustment we can make is to rename categories. \n",
    "\n",
    "Why? Because it is confusing and difficult to work with\n",
    "poorly named categories."
   ]
  },
  {
   "cell_type": "markdown",
   "metadata": {
    "slideshow": {
     "slide_type": "fragment"
    }
   },
   "source": [
    "Take a look at the category names in the `censuscategory` variable. "
   ]
  },
  {
   "cell_type": "code",
   "execution_count": 92,
   "metadata": {
    "slideshow": {
     "slide_type": "-"
    }
   },
   "outputs": [
    {
     "data": {
      "text/plain": [
       "Index(['Business, finance and administration occupations',\n",
       "       'Health occupations', 'Management occupations', 'Members of Parliament',\n",
       "       'Natural and applied sciences and related occupations',\n",
       "       'Natural resources, agriculture and related production occupations',\n",
       "       'Occupations in art, culture, recreation and sport',\n",
       "       'Occupations in education, law and social, community and government services',\n",
       "       'Occupations in manufacturing and utilities',\n",
       "       'Sales and service occupations',\n",
       "       'Trades, transport and equipment operators and related occupations'],\n",
       "      dtype='object')"
      ]
     },
     "execution_count": 92,
     "metadata": {},
     "output_type": "execute_result"
    }
   ],
   "source": [
    "df.censuscategory.cat.categories"
   ]
  },
  {
   "cell_type": "markdown",
   "metadata": {
    "slideshow": {
     "slide_type": "slide"
    }
   },
   "source": [
    "`censuscategory` gives candidates' occupation according to the Census Canada taxonomy.\n",
    "\n",
    "These names are precise, but wordy. Let's abbreviate them. "
   ]
  },
  {
   "cell_type": "code",
   "execution_count": 117,
   "metadata": {
    "slideshow": {
     "slide_type": "-"
    }
   },
   "outputs": [
    {
     "data": {
      "text/plain": [
       "0       Sales\n",
       "1       Sales\n",
       "2      Social\n",
       "3      Social\n",
       "4      Health\n",
       "5    Business\n",
       "6         NaN\n",
       "7      Social\n",
       "8      Health\n",
       "9         NaN\n",
       "Name: censuscategory, dtype: category\n",
       "Categories (11, object): ['Business', 'Health', 'Management', 'MP', ..., 'Social', 'Manufacturing', 'Sales', 'Trades']"
      ]
     },
     "execution_count": 117,
     "metadata": {},
     "output_type": "execute_result"
    }
   ],
   "source": [
    "df.censuscategory = df.censuscategory.cat.rename_categories([\n",
    "    \"Business\", \"Health\", \"Management\", \"MP\", \"Science\", \"Resources\", \"Culture\",\n",
    "    \"Social\", \"Manufacturing\", \"Sales\", \"Trades\"\n",
    "])\n",
    "df.censuscategory.head(10)"
   ]
  },
  {
   "cell_type": "markdown",
   "metadata": {
    "slideshow": {
     "slide_type": "slide"
    }
   },
   "source": [
    "### Subsetting Data\n",
    "\n",
    "Often, we are not interested in the entirety of the data. It then makes sense to subset the data. \n",
    "\n",
    "The exact timing of this step can change depending on the case. We do it here to reduce clutter. "
   ]
  },
  {
   "cell_type": "code",
   "execution_count": 131,
   "metadata": {},
   "outputs": [
    {
     "data": {
      "text/html": [
       "<div>\n",
       "<style scoped>\n",
       "    .dataframe tbody tr th:only-of-type {\n",
       "        vertical-align: middle;\n",
       "    }\n",
       "\n",
       "    .dataframe tbody tr th {\n",
       "        vertical-align: top;\n",
       "    }\n",
       "\n",
       "    .dataframe thead th {\n",
       "        text-align: right;\n",
       "    }\n",
       "</style>\n",
       "<table border=\"1\" class=\"dataframe\">\n",
       "  <thead>\n",
       "    <tr style=\"text-align: right;\">\n",
       "      <th></th>\n",
       "      <th>parliament</th>\n",
       "      <th>edate</th>\n",
       "      <th>province</th>\n",
       "      <th>riding</th>\n",
       "      <th>type_elxn</th>\n",
       "      <th>id</th>\n",
       "      <th>candidate_name</th>\n",
       "      <th>gender</th>\n",
       "      <th>birth_year</th>\n",
       "      <th>party_major_group</th>\n",
       "      <th>gov_major_group</th>\n",
       "      <th>acclaimed</th>\n",
       "      <th>votes</th>\n",
       "      <th>percent_votes</th>\n",
       "    </tr>\n",
       "  </thead>\n",
       "  <tbody>\n",
       "    <tr>\n",
       "      <th>0</th>\n",
       "      <td>1</td>\n",
       "      <td>1867-08-07</td>\n",
       "      <td>Nova Scotia</td>\n",
       "      <td>HALIFAX</td>\n",
       "      <td>General</td>\n",
       "      <td>26093</td>\n",
       "      <td>POWER,</td>\n",
       "      <td>M</td>\n",
       "      <td>1815</td>\n",
       "      <td>Third_Party</td>\n",
       "      <td>Conservative</td>\n",
       "      <td>Not acclaimed</td>\n",
       "      <td>2367</td>\n",
       "      <td>26.125828</td>\n",
       "    </tr>\n",
       "    <tr>\n",
       "      <th>1</th>\n",
       "      <td>1</td>\n",
       "      <td>1867-08-07</td>\n",
       "      <td>Nova Scotia</td>\n",
       "      <td>HALIFAX</td>\n",
       "      <td>General</td>\n",
       "      <td>13011</td>\n",
       "      <td>JONES,</td>\n",
       "      <td>M</td>\n",
       "      <td>1824</td>\n",
       "      <td>Third_Party</td>\n",
       "      <td>Conservative</td>\n",
       "      <td>Not acclaimed</td>\n",
       "      <td>2381</td>\n",
       "      <td>26.280354</td>\n",
       "    </tr>\n",
       "    <tr>\n",
       "      <th>2</th>\n",
       "      <td>1</td>\n",
       "      <td>1867-08-07</td>\n",
       "      <td>Nova Scotia</td>\n",
       "      <td>HALIFAX</td>\n",
       "      <td>General</td>\n",
       "      <td>27974</td>\n",
       "      <td>SHANNON, S.L.</td>\n",
       "      <td>M</td>\n",
       "      <td>&lt;NA&gt;</td>\n",
       "      <td>Independent</td>\n",
       "      <td>Conservative</td>\n",
       "      <td>Not acclaimed</td>\n",
       "      <td>2154</td>\n",
       "      <td>23.774834</td>\n",
       "    </tr>\n",
       "    <tr>\n",
       "      <th>3</th>\n",
       "      <td>1</td>\n",
       "      <td>1867-08-07</td>\n",
       "      <td>Ontario</td>\n",
       "      <td>FRONTENAC</td>\n",
       "      <td>General</td>\n",
       "      <td>18040</td>\n",
       "      <td>KIRKPATRICK, Thomas</td>\n",
       "      <td>M</td>\n",
       "      <td>1805</td>\n",
       "      <td>Conservative</td>\n",
       "      <td>Conservative</td>\n",
       "      <td>Not acclaimed</td>\n",
       "      <td>1242</td>\n",
       "      <td>64.186043</td>\n",
       "    </tr>\n",
       "    <tr>\n",
       "      <th>4</th>\n",
       "      <td>1</td>\n",
       "      <td>1867-08-07</td>\n",
       "      <td>Quebec</td>\n",
       "      <td>LÉVIS</td>\n",
       "      <td>General</td>\n",
       "      <td>1798</td>\n",
       "      <td>BLANCHET, Hon. J.G.</td>\n",
       "      <td>M</td>\n",
       "      <td>1829</td>\n",
       "      <td>Conservative</td>\n",
       "      <td>Conservative</td>\n",
       "      <td>Acclaimed</td>\n",
       "      <td>&lt;NA&gt;</td>\n",
       "      <td>100.000000</td>\n",
       "    </tr>\n",
       "  </tbody>\n",
       "</table>\n",
       "</div>"
      ],
      "text/plain": [
       "   parliament      edate     province     riding type_elxn     id  \\\n",
       "0           1 1867-08-07  Nova Scotia    HALIFAX   General  26093   \n",
       "1           1 1867-08-07  Nova Scotia    HALIFAX   General  13011   \n",
       "2           1 1867-08-07  Nova Scotia    HALIFAX   General  27974   \n",
       "3           1 1867-08-07      Ontario  FRONTENAC   General  18040   \n",
       "4           1 1867-08-07       Quebec      LÉVIS   General   1798   \n",
       "\n",
       "        candidate_name gender  birth_year party_major_group gov_major_group  \\\n",
       "0               POWER,      M        1815       Third_Party    Conservative   \n",
       "1               JONES,      M        1824       Third_Party    Conservative   \n",
       "2        SHANNON, S.L.      M        <NA>       Independent    Conservative   \n",
       "3  KIRKPATRICK, Thomas      M        1805      Conservative    Conservative   \n",
       "4  BLANCHET, Hon. J.G.      M        1829      Conservative    Conservative   \n",
       "\n",
       "       acclaimed  votes  percent_votes  \n",
       "0  Not acclaimed   2367      26.125828  \n",
       "1  Not acclaimed   2381      26.280354  \n",
       "2  Not acclaimed   2154      23.774834  \n",
       "3  Not acclaimed   1242      64.186043  \n",
       "4      Acclaimed   <NA>     100.000000  "
      ]
     },
     "execution_count": 131,
     "metadata": {},
     "output_type": "execute_result"
    }
   ],
   "source": [
    "df = df[df.edate < pd.to_datetime(1990)] # keep data from 1990 on\n",
    "df = df[[\"parliament\", \"edate\", \"province\", \"riding\", \"type_elxn\", \"id\", \"candidate_name\",\n",
    "         \"gender\", \"birth_year\", \"party_major_group\", \"gov_major_group\", \"acclaimed\", \"votes\", \"percent_votes\"]]\n",
    "df.head(5)"
   ]
  },
  {
   "cell_type": "markdown",
   "metadata": {
    "slideshow": {
     "slide_type": "slide"
    }
   },
   "source": [
    "### Handling Missing Data\n",
    "\n",
    "There will almost always be some missing values."
   ]
  },
  {
   "cell_type": "code",
   "execution_count": 120,
   "metadata": {},
   "outputs": [
    {
     "data": {
      "text/plain": [
       "incumbent            67\n",
       "birth_year        11885\n",
       "country_birth     19338\n",
       "lgbtq2_out        19338\n",
       "occupation         2172\n",
       "lawyer             2172\n",
       "censuscategory     2289\n",
       "riding_id         19338\n",
       "votes               669\n",
       "percent_votes        51\n",
       "acclaimed             1\n",
       "dtype: int64"
      ]
     },
     "execution_count": 120,
     "metadata": {},
     "output_type": "execute_result"
    }
   ],
   "source": [
    "na_counts = df.isna().sum() # .sum() is an aggregation function!\n",
    "na_counts[na_counts > 0]"
   ]
  },
  {
   "cell_type": "markdown",
   "metadata": {},
   "source": [
    "It's good to first understand why there are missing values. \n",
    "\n",
    "We then have to decide whether we want to keep, drop, or impute (i.e., fill in) these values."
   ]
  },
  {
   "cell_type": "code",
   "execution_count": 130,
   "metadata": {
    "slideshow": {
     "slide_type": "slide"
    }
   },
   "outputs": [
    {
     "data": {
      "text/html": [
       "<div>\n",
       "<style scoped>\n",
       "    .dataframe tbody tr th:only-of-type {\n",
       "        vertical-align: middle;\n",
       "    }\n",
       "\n",
       "    .dataframe tbody tr th {\n",
       "        vertical-align: top;\n",
       "    }\n",
       "\n",
       "    .dataframe thead th {\n",
       "        text-align: right;\n",
       "    }\n",
       "</style>\n",
       "<table border=\"1\" class=\"dataframe\">\n",
       "  <thead>\n",
       "    <tr style=\"text-align: right;\">\n",
       "      <th></th>\n",
       "      <th>id</th>\n",
       "      <th>parliament</th>\n",
       "      <th>year</th>\n",
       "      <th>type_elxn</th>\n",
       "      <th>elected</th>\n",
       "      <th>candidate_name</th>\n",
       "      <th>edate</th>\n",
       "      <th>incumbent</th>\n",
       "      <th>gender</th>\n",
       "      <th>birth_year</th>\n",
       "      <th>...</th>\n",
       "      <th>acclaimed</th>\n",
       "      <th>switcher</th>\n",
       "      <th>multiple_candidacy</th>\n",
       "      <th>party_raw</th>\n",
       "      <th>party_minor_group</th>\n",
       "      <th>party_major_group</th>\n",
       "      <th>gov_party_raw</th>\n",
       "      <th>gov_minor_group</th>\n",
       "      <th>gov_major_group</th>\n",
       "      <th>num_candidates</th>\n",
       "    </tr>\n",
       "  </thead>\n",
       "  <tbody>\n",
       "    <tr>\n",
       "      <th>6</th>\n",
       "      <td>6004</td>\n",
       "      <td>1</td>\n",
       "      <td>1867</td>\n",
       "      <td>General</td>\n",
       "      <td>Not elected</td>\n",
       "      <td>DUFRESNE, A.</td>\n",
       "      <td>1867-08-07</td>\n",
       "      <td>Not incumbent</td>\n",
       "      <td>M</td>\n",
       "      <td>&lt;NA&gt;</td>\n",
       "      <td>...</td>\n",
       "      <td>Not acclaimed</td>\n",
       "      <td>Not switcher</td>\n",
       "      <td>Single</td>\n",
       "      <td>Unknown</td>\n",
       "      <td>Independent</td>\n",
       "      <td>Independent</td>\n",
       "      <td>Conservative</td>\n",
       "      <td>Conservative</td>\n",
       "      <td>Conservative</td>\n",
       "      <td>2</td>\n",
       "    </tr>\n",
       "    <tr>\n",
       "      <th>9</th>\n",
       "      <td>20986</td>\n",
       "      <td>1</td>\n",
       "      <td>1867</td>\n",
       "      <td>General</td>\n",
       "      <td>Not elected</td>\n",
       "      <td>LEEMING,</td>\n",
       "      <td>1867-08-07</td>\n",
       "      <td>Not incumbent</td>\n",
       "      <td>M</td>\n",
       "      <td>&lt;NA&gt;</td>\n",
       "      <td>...</td>\n",
       "      <td>Not acclaimed</td>\n",
       "      <td>Not switcher</td>\n",
       "      <td>Single</td>\n",
       "      <td>Unknown</td>\n",
       "      <td>Independent</td>\n",
       "      <td>Independent</td>\n",
       "      <td>Conservative</td>\n",
       "      <td>Conservative</td>\n",
       "      <td>Conservative</td>\n",
       "      <td>2</td>\n",
       "    </tr>\n",
       "    <tr>\n",
       "      <th>10</th>\n",
       "      <td>27272</td>\n",
       "      <td>1</td>\n",
       "      <td>1867</td>\n",
       "      <td>General</td>\n",
       "      <td>Not elected</td>\n",
       "      <td>ROUSSEAU,</td>\n",
       "      <td>1867-08-07</td>\n",
       "      <td>Not incumbent</td>\n",
       "      <td>M</td>\n",
       "      <td>&lt;NA&gt;</td>\n",
       "      <td>...</td>\n",
       "      <td>Not acclaimed</td>\n",
       "      <td>Not switcher</td>\n",
       "      <td>Single</td>\n",
       "      <td>Unknown</td>\n",
       "      <td>Independent</td>\n",
       "      <td>Independent</td>\n",
       "      <td>Conservative</td>\n",
       "      <td>Conservative</td>\n",
       "      <td>Conservative</td>\n",
       "      <td>2</td>\n",
       "    </tr>\n",
       "    <tr>\n",
       "      <th>17</th>\n",
       "      <td>8133</td>\n",
       "      <td>1</td>\n",
       "      <td>1867</td>\n",
       "      <td>General</td>\n",
       "      <td>Not elected</td>\n",
       "      <td>GORDON,</td>\n",
       "      <td>1867-08-07</td>\n",
       "      <td>Not incumbent</td>\n",
       "      <td>M</td>\n",
       "      <td>&lt;NA&gt;</td>\n",
       "      <td>...</td>\n",
       "      <td>Not acclaimed</td>\n",
       "      <td>Not switcher</td>\n",
       "      <td>Single</td>\n",
       "      <td>Unknown</td>\n",
       "      <td>Independent</td>\n",
       "      <td>Independent</td>\n",
       "      <td>Conservative</td>\n",
       "      <td>Conservative</td>\n",
       "      <td>Conservative</td>\n",
       "      <td>2</td>\n",
       "    </tr>\n",
       "    <tr>\n",
       "      <th>18</th>\n",
       "      <td>5349</td>\n",
       "      <td>1</td>\n",
       "      <td>1867</td>\n",
       "      <td>General</td>\n",
       "      <td>Not elected</td>\n",
       "      <td>DES BRISAY,</td>\n",
       "      <td>1867-08-07</td>\n",
       "      <td>Not incumbent</td>\n",
       "      <td>M</td>\n",
       "      <td>&lt;NA&gt;</td>\n",
       "      <td>...</td>\n",
       "      <td>Not acclaimed</td>\n",
       "      <td>Not switcher</td>\n",
       "      <td>Single</td>\n",
       "      <td>Unknown</td>\n",
       "      <td>Independent</td>\n",
       "      <td>Independent</td>\n",
       "      <td>Conservative</td>\n",
       "      <td>Conservative</td>\n",
       "      <td>Conservative</td>\n",
       "      <td>4</td>\n",
       "    </tr>\n",
       "    <tr>\n",
       "      <th>...</th>\n",
       "      <td>...</td>\n",
       "      <td>...</td>\n",
       "      <td>...</td>\n",
       "      <td>...</td>\n",
       "      <td>...</td>\n",
       "      <td>...</td>\n",
       "      <td>...</td>\n",
       "      <td>...</td>\n",
       "      <td>...</td>\n",
       "      <td>...</td>\n",
       "      <td>...</td>\n",
       "      <td>...</td>\n",
       "      <td>...</td>\n",
       "      <td>...</td>\n",
       "      <td>...</td>\n",
       "      <td>...</td>\n",
       "      <td>...</td>\n",
       "      <td>...</td>\n",
       "      <td>...</td>\n",
       "      <td>...</td>\n",
       "      <td>...</td>\n",
       "    </tr>\n",
       "    <tr>\n",
       "      <th>16857</th>\n",
       "      <td>8203</td>\n",
       "      <td>26</td>\n",
       "      <td>1963</td>\n",
       "      <td>General</td>\n",
       "      <td>Not elected</td>\n",
       "      <td>GOUGH, Grace</td>\n",
       "      <td>1963-04-08</td>\n",
       "      <td>Not incumbent</td>\n",
       "      <td>F</td>\n",
       "      <td>&lt;NA&gt;</td>\n",
       "      <td>...</td>\n",
       "      <td>Not acclaimed</td>\n",
       "      <td>Not switcher</td>\n",
       "      <td>Single</td>\n",
       "      <td>Social Credit Party of Canada</td>\n",
       "      <td>Social_Credit</td>\n",
       "      <td>Third_Party</td>\n",
       "      <td>Liberal Party of Canada</td>\n",
       "      <td>Liberal</td>\n",
       "      <td>Liberal</td>\n",
       "      <td>4</td>\n",
       "    </tr>\n",
       "    <tr>\n",
       "      <th>17858</th>\n",
       "      <td>28750</td>\n",
       "      <td>27</td>\n",
       "      <td>1965</td>\n",
       "      <td>General</td>\n",
       "      <td>Elected</td>\n",
       "      <td>STANBURY, Robert</td>\n",
       "      <td>1965-11-08</td>\n",
       "      <td>Not incumbent</td>\n",
       "      <td>M</td>\n",
       "      <td>1929</td>\n",
       "      <td>...</td>\n",
       "      <td>Not acclaimed</td>\n",
       "      <td>Not switcher</td>\n",
       "      <td>Single</td>\n",
       "      <td>Liberal</td>\n",
       "      <td>Liberal</td>\n",
       "      <td>Liberal</td>\n",
       "      <td>Liberal Party of Canada</td>\n",
       "      <td>Liberal</td>\n",
       "      <td>Liberal</td>\n",
       "      <td>4</td>\n",
       "    </tr>\n",
       "    <tr>\n",
       "      <th>18064</th>\n",
       "      <td>3710</td>\n",
       "      <td>27</td>\n",
       "      <td>1965</td>\n",
       "      <td>General</td>\n",
       "      <td>Not elected</td>\n",
       "      <td>CHEFURKA, Pat</td>\n",
       "      <td>1965-11-08</td>\n",
       "      <td>Not incumbent</td>\n",
       "      <td>F</td>\n",
       "      <td>&lt;NA&gt;</td>\n",
       "      <td>...</td>\n",
       "      <td>Not acclaimed</td>\n",
       "      <td>Not switcher</td>\n",
       "      <td>Single</td>\n",
       "      <td>New Democratic Party</td>\n",
       "      <td>NDP</td>\n",
       "      <td>CCF_NDP</td>\n",
       "      <td>Liberal Party of Canada</td>\n",
       "      <td>Liberal</td>\n",
       "      <td>Liberal</td>\n",
       "      <td>3</td>\n",
       "    </tr>\n",
       "    <tr>\n",
       "      <th>18642</th>\n",
       "      <td>29469</td>\n",
       "      <td>28</td>\n",
       "      <td>1968</td>\n",
       "      <td>General</td>\n",
       "      <td>Not elected</td>\n",
       "      <td>THÉBERGE, Gaétan</td>\n",
       "      <td>1968-06-25</td>\n",
       "      <td>Not incumbent</td>\n",
       "      <td>M</td>\n",
       "      <td>&lt;NA&gt;</td>\n",
       "      <td>...</td>\n",
       "      <td>Not acclaimed</td>\n",
       "      <td>Not switcher</td>\n",
       "      <td>Single</td>\n",
       "      <td>Liberal</td>\n",
       "      <td>Liberal</td>\n",
       "      <td>Liberal</td>\n",
       "      <td>Liberal Party of Canada</td>\n",
       "      <td>Liberal</td>\n",
       "      <td>Liberal</td>\n",
       "      <td>4</td>\n",
       "    </tr>\n",
       "    <tr>\n",
       "      <th>18958</th>\n",
       "      <td>9429</td>\n",
       "      <td>28</td>\n",
       "      <td>1968</td>\n",
       "      <td>General</td>\n",
       "      <td>Not elected</td>\n",
       "      <td>HILL, George</td>\n",
       "      <td>1968-06-25</td>\n",
       "      <td>Not incumbent</td>\n",
       "      <td>M</td>\n",
       "      <td>&lt;NA&gt;</td>\n",
       "      <td>...</td>\n",
       "      <td>Not acclaimed</td>\n",
       "      <td>Not switcher</td>\n",
       "      <td>Single</td>\n",
       "      <td>New Democratic Party</td>\n",
       "      <td>NDP</td>\n",
       "      <td>CCF_NDP</td>\n",
       "      <td>Liberal Party of Canada</td>\n",
       "      <td>Liberal</td>\n",
       "      <td>Liberal</td>\n",
       "      <td>3</td>\n",
       "    </tr>\n",
       "  </tbody>\n",
       "</table>\n",
       "<p>2172 rows × 31 columns</p>\n",
       "</div>"
      ],
      "text/plain": [
       "          id  parliament  year type_elxn      elected    candidate_name  \\\n",
       "6       6004           1  1867   General  Not elected      DUFRESNE, A.   \n",
       "9      20986           1  1867   General  Not elected          LEEMING,   \n",
       "10     27272           1  1867   General  Not elected         ROUSSEAU,   \n",
       "17      8133           1  1867   General  Not elected           GORDON,   \n",
       "18      5349           1  1867   General  Not elected       DES BRISAY,   \n",
       "...      ...         ...   ...       ...          ...               ...   \n",
       "16857   8203          26  1963   General  Not elected      GOUGH, Grace   \n",
       "17858  28750          27  1965   General      Elected  STANBURY, Robert   \n",
       "18064   3710          27  1965   General  Not elected     CHEFURKA, Pat   \n",
       "18642  29469          28  1968   General  Not elected  THÉBERGE, Gaétan   \n",
       "18958   9429          28  1968   General  Not elected      HILL, George   \n",
       "\n",
       "           edate      incumbent gender  birth_year  ...      acclaimed  \\\n",
       "6     1867-08-07  Not incumbent      M        <NA>  ...  Not acclaimed   \n",
       "9     1867-08-07  Not incumbent      M        <NA>  ...  Not acclaimed   \n",
       "10    1867-08-07  Not incumbent      M        <NA>  ...  Not acclaimed   \n",
       "17    1867-08-07  Not incumbent      M        <NA>  ...  Not acclaimed   \n",
       "18    1867-08-07  Not incumbent      M        <NA>  ...  Not acclaimed   \n",
       "...          ...            ...    ...         ...  ...            ...   \n",
       "16857 1963-04-08  Not incumbent      F        <NA>  ...  Not acclaimed   \n",
       "17858 1965-11-08  Not incumbent      M        1929  ...  Not acclaimed   \n",
       "18064 1965-11-08  Not incumbent      F        <NA>  ...  Not acclaimed   \n",
       "18642 1968-06-25  Not incumbent      M        <NA>  ...  Not acclaimed   \n",
       "18958 1968-06-25  Not incumbent      M        <NA>  ...  Not acclaimed   \n",
       "\n",
       "           switcher multiple_candidacy                      party_raw  \\\n",
       "6      Not switcher             Single                        Unknown   \n",
       "9      Not switcher             Single                        Unknown   \n",
       "10     Not switcher             Single                        Unknown   \n",
       "17     Not switcher             Single                        Unknown   \n",
       "18     Not switcher             Single                        Unknown   \n",
       "...             ...                ...                            ...   \n",
       "16857  Not switcher             Single  Social Credit Party of Canada   \n",
       "17858  Not switcher             Single                        Liberal   \n",
       "18064  Not switcher             Single           New Democratic Party   \n",
       "18642  Not switcher             Single                        Liberal   \n",
       "18958  Not switcher             Single           New Democratic Party   \n",
       "\n",
       "      party_minor_group party_major_group            gov_party_raw  \\\n",
       "6           Independent       Independent             Conservative   \n",
       "9           Independent       Independent             Conservative   \n",
       "10          Independent       Independent             Conservative   \n",
       "17          Independent       Independent             Conservative   \n",
       "18          Independent       Independent             Conservative   \n",
       "...                 ...               ...                      ...   \n",
       "16857     Social_Credit       Third_Party  Liberal Party of Canada   \n",
       "17858           Liberal           Liberal  Liberal Party of Canada   \n",
       "18064               NDP           CCF_NDP  Liberal Party of Canada   \n",
       "18642           Liberal           Liberal  Liberal Party of Canada   \n",
       "18958               NDP           CCF_NDP  Liberal Party of Canada   \n",
       "\n",
       "      gov_minor_group gov_major_group  num_candidates  \n",
       "6        Conservative    Conservative               2  \n",
       "9        Conservative    Conservative               2  \n",
       "10       Conservative    Conservative               2  \n",
       "17       Conservative    Conservative               2  \n",
       "18       Conservative    Conservative               4  \n",
       "...               ...             ...             ...  \n",
       "16857         Liberal         Liberal               4  \n",
       "17858         Liberal         Liberal               4  \n",
       "18064         Liberal         Liberal               3  \n",
       "18642         Liberal         Liberal               4  \n",
       "18958         Liberal         Liberal               3  \n",
       "\n",
       "[2172 rows x 31 columns]"
      ]
     },
     "execution_count": 130,
     "metadata": {},
     "output_type": "execute_result"
    }
   ],
   "source": [
    "df[df.lawyer.isna()]"
   ]
  },
  {
   "cell_type": "markdown",
   "metadata": {
    "slideshow": {
     "slide_type": "slide"
    }
   },
   "source": [
    "### Creating New Columns\n",
    "\n"
   ]
  },
  {
   "cell_type": "code",
   "execution_count": 44,
   "metadata": {
    "slideshow": {
     "slide_type": "skip"
    }
   },
   "outputs": [],
   "source": [
    "df[\"age\"] = df.year - df.birth_year"
   ]
  },
  {
   "cell_type": "code",
   "execution_count": 50,
   "metadata": {},
   "outputs": [
    {
     "data": {
      "text/plain": [
       "count    12276.000000\n",
       "mean        49.195422\n",
       "std         10.273206\n",
       "min        -54.000000\n",
       "25%         42.000000\n",
       "50%         49.000000\n",
       "75%         56.000000\n",
       "max         84.000000\n",
       "Name: age, dtype: float64"
      ]
     },
     "execution_count": 50,
     "metadata": {},
     "output_type": "execute_result"
    }
   ],
   "source": [
    "df.age.describe()"
   ]
  },
  {
   "cell_type": "code",
   "execution_count": 51,
   "metadata": {},
   "outputs": [
    {
     "data": {
      "text/html": [
       "<div>\n",
       "<style scoped>\n",
       "    .dataframe tbody tr th:only-of-type {\n",
       "        vertical-align: middle;\n",
       "    }\n",
       "\n",
       "    .dataframe tbody tr th {\n",
       "        vertical-align: top;\n",
       "    }\n",
       "\n",
       "    .dataframe thead th {\n",
       "        text-align: right;\n",
       "    }\n",
       "</style>\n",
       "<table border=\"1\" class=\"dataframe\">\n",
       "  <thead>\n",
       "    <tr style=\"text-align: right;\">\n",
       "      <th></th>\n",
       "      <th>id</th>\n",
       "      <th>parliament</th>\n",
       "      <th>year</th>\n",
       "      <th>type_elxn</th>\n",
       "      <th>elected</th>\n",
       "      <th>candidate_name</th>\n",
       "      <th>edate</th>\n",
       "      <th>incumbent</th>\n",
       "      <th>gender</th>\n",
       "      <th>birth_year</th>\n",
       "      <th>...</th>\n",
       "      <th>switcher</th>\n",
       "      <th>multiple_candidacy</th>\n",
       "      <th>party_raw</th>\n",
       "      <th>party_minor_group</th>\n",
       "      <th>party_major_group</th>\n",
       "      <th>gov_party_raw</th>\n",
       "      <th>gov_minor_group</th>\n",
       "      <th>gov_major_group</th>\n",
       "      <th>num_candidates</th>\n",
       "      <th>age</th>\n",
       "    </tr>\n",
       "  </thead>\n",
       "  <tbody>\n",
       "    <tr>\n",
       "      <th>1200</th>\n",
       "      <td>24412</td>\n",
       "      <td>3</td>\n",
       "      <td>1874</td>\n",
       "      <td>By-election</td>\n",
       "      <td>Elected</td>\n",
       "      <td>MURRAY, Thomas</td>\n",
       "      <td>1874-11-04</td>\n",
       "      <td>Not incumbent</td>\n",
       "      <td>M</td>\n",
       "      <td>1898</td>\n",
       "      <td>...</td>\n",
       "      <td>Not switcher</td>\n",
       "      <td>Single</td>\n",
       "      <td>Liberal</td>\n",
       "      <td>Liberal</td>\n",
       "      <td>Liberal</td>\n",
       "      <td>Liberal Party of Canada</td>\n",
       "      <td>Liberal</td>\n",
       "      <td>Liberal</td>\n",
       "      <td>2</td>\n",
       "      <td>-24</td>\n",
       "    </tr>\n",
       "    <tr>\n",
       "      <th>1291</th>\n",
       "      <td>24412</td>\n",
       "      <td>3</td>\n",
       "      <td>1876</td>\n",
       "      <td>By-election</td>\n",
       "      <td>Not elected</td>\n",
       "      <td>MURRAY, William</td>\n",
       "      <td>1876-01-21</td>\n",
       "      <td>Incumbent</td>\n",
       "      <td>M</td>\n",
       "      <td>1898</td>\n",
       "      <td>...</td>\n",
       "      <td>Not switcher</td>\n",
       "      <td>Single</td>\n",
       "      <td>Liberal</td>\n",
       "      <td>Liberal</td>\n",
       "      <td>Liberal</td>\n",
       "      <td>Liberal Party of Canada</td>\n",
       "      <td>Liberal</td>\n",
       "      <td>Liberal</td>\n",
       "      <td>2</td>\n",
       "      <td>-22</td>\n",
       "    </tr>\n",
       "    <tr>\n",
       "      <th>2923</th>\n",
       "      <td>52</td>\n",
       "      <td>7</td>\n",
       "      <td>1891</td>\n",
       "      <td>General</td>\n",
       "      <td>Elected</td>\n",
       "      <td>ADAMS, Michael</td>\n",
       "      <td>1891-03-05</td>\n",
       "      <td>Not incumbent</td>\n",
       "      <td>M</td>\n",
       "      <td>1945</td>\n",
       "      <td>...</td>\n",
       "      <td>Not switcher</td>\n",
       "      <td>Single</td>\n",
       "      <td>Conservative</td>\n",
       "      <td>Conservative</td>\n",
       "      <td>Conservative</td>\n",
       "      <td>Conservative</td>\n",
       "      <td>Conservative</td>\n",
       "      <td>Conservative</td>\n",
       "      <td>2</td>\n",
       "      <td>-54</td>\n",
       "    </tr>\n",
       "    <tr>\n",
       "      <th>3337</th>\n",
       "      <td>24392</td>\n",
       "      <td>7</td>\n",
       "      <td>1892</td>\n",
       "      <td>By-election</td>\n",
       "      <td>Not elected</td>\n",
       "      <td>MURRAY, Thomas</td>\n",
       "      <td>1892-06-26</td>\n",
       "      <td>Incumbent</td>\n",
       "      <td>M</td>\n",
       "      <td>1898</td>\n",
       "      <td>...</td>\n",
       "      <td>Not switcher</td>\n",
       "      <td>Single</td>\n",
       "      <td>Liberal</td>\n",
       "      <td>Liberal</td>\n",
       "      <td>Liberal</td>\n",
       "      <td>Conservative</td>\n",
       "      <td>Conservative</td>\n",
       "      <td>Conservative</td>\n",
       "      <td>2</td>\n",
       "      <td>-6</td>\n",
       "    </tr>\n",
       "  </tbody>\n",
       "</table>\n",
       "<p>4 rows × 32 columns</p>\n",
       "</div>"
      ],
      "text/plain": [
       "         id  parliament  year    type_elxn      elected   candidate_name  \\\n",
       "1200  24412           3  1874  By-election      Elected   MURRAY, Thomas   \n",
       "1291  24412           3  1876  By-election  Not elected  MURRAY, William   \n",
       "2923     52           7  1891      General      Elected   ADAMS, Michael   \n",
       "3337  24392           7  1892  By-election  Not elected   MURRAY, Thomas   \n",
       "\n",
       "          edate      incumbent gender  birth_year  ...      switcher  \\\n",
       "1200 1874-11-04  Not incumbent      M        1898  ...  Not switcher   \n",
       "1291 1876-01-21      Incumbent      M        1898  ...  Not switcher   \n",
       "2923 1891-03-05  Not incumbent      M        1945  ...  Not switcher   \n",
       "3337 1892-06-26      Incumbent      M        1898  ...  Not switcher   \n",
       "\n",
       "     multiple_candidacy     party_raw party_minor_group party_major_group  \\\n",
       "1200             Single       Liberal           Liberal           Liberal   \n",
       "1291             Single       Liberal           Liberal           Liberal   \n",
       "2923             Single  Conservative      Conservative      Conservative   \n",
       "3337             Single       Liberal           Liberal           Liberal   \n",
       "\n",
       "                gov_party_raw  gov_minor_group gov_major_group num_candidates  \\\n",
       "1200  Liberal Party of Canada          Liberal         Liberal              2   \n",
       "1291  Liberal Party of Canada          Liberal         Liberal              2   \n",
       "2923             Conservative     Conservative    Conservative              2   \n",
       "3337             Conservative     Conservative    Conservative              2   \n",
       "\n",
       "      age  \n",
       "1200  -24  \n",
       "1291  -22  \n",
       "2923  -54  \n",
       "3337   -6  \n",
       "\n",
       "[4 rows x 32 columns]"
      ]
     },
     "execution_count": 51,
     "metadata": {},
     "output_type": "execute_result"
    }
   ],
   "source": [
    "df[df.year < df.birth_year]"
   ]
  },
  {
   "cell_type": "code",
   "execution_count": null,
   "metadata": {},
   "outputs": [],
   "source": [
    "df."
   ]
  }
 ],
 "metadata": {
  "celltoolbar": "Slideshow",
  "interpreter": {
   "hash": "7bb8eae9c2297506b9894494f89ab8d67c41d115c2354c72d7d438870909f850"
  },
  "kernelspec": {
   "display_name": "Python 3 (ipykernel)",
   "language": "python",
   "name": "python3"
  },
  "language_info": {
   "codemirror_mode": {
    "name": "ipython",
    "version": 3
   },
   "file_extension": ".py",
   "mimetype": "text/x-python",
   "name": "python",
   "nbconvert_exporter": "python",
   "pygments_lexer": "ipython3",
   "version": "3.9.0"
  }
 },
 "nbformat": 4,
 "nbformat_minor": 2
}
