{
 "cells": [
  {
   "cell_type": "markdown",
   "metadata": {
    "slideshow": {
     "slide_type": "slide"
    }
   },
   "source": [
    "# Data Science with Python (Pandas)\n",
    "\n",
    "Can Şerif Mekik\n",
    "\n",
    "December 6, 2021\n",
    "\n",
    "<table align=\"left\">\n",
    "<tr>\n",
    "<td><img src=CDSI_Fac.of.Sc_logo.png alt=\"CDSI Logo\" width=\"300\"/></td>\n",
    "<td><img src=mcgill_ccr_approval_croppedforblock_0.png alt=\"CCR Approved Logo\" width=\"300\"/></td>\n",
    "</tr>\n",
    "</table>"
   ]
  },
  {
   "cell_type": "markdown",
   "metadata": {
    "slideshow": {
     "slide_type": "slide"
    }
   },
   "source": [
    "## Introductory Remarks\n",
    "\n",
    "This workshop assumes minimal working knowledge of Python. \n",
    "\n",
    "Pandas is a great place to start using Python for data science\n",
    "- Similar feel to other stats software like R or Stata\n",
    "- Works well on its own but also integrates well with the Python data science ecosystem\n",
    "\n",
    "`Pandas` is excellent for [Data Wrangling](https://en.wikipedia.org/wiki/Data_wrangling), our main topic. \n",
    "\n",
    "This is the process making raw data ready for statistical analysis and/or modeling."
   ]
  },
  {
   "cell_type": "markdown",
   "metadata": {
    "slideshow": {
     "slide_type": "slide"
    }
   },
   "source": [
    "## Useful Resources\n",
    "\n",
    "The [Pandas Cheatsheet](https://pandas.pydata.org/Pandas_Cheat_Sheet.pdf) is an excellent two-page summary of essential `pandas` features.\n",
    "\n",
    "The [Official Pandas Docs](https://pandas.pydata.org/docs/) are the single best resource for information on `pandas` short of the source code.\n",
    "\n",
    "If you are looking to learn about a specific function or feature, go into the API section.\n",
    "\n",
    "The docs also offer tutorials and other helpful material."
   ]
  },
  {
   "cell_type": "markdown",
   "metadata": {
    "slideshow": {
     "slide_type": "slide"
    }
   },
   "source": [
    "## Contents\n",
    "\n",
    "1. Setup\n",
    "2. Main Data Structures\n",
    "3. Basic Data Wrangling: Loading, Viewing, Cleaning, and Enriching Data\n",
    "4. More Data Wrangling: Aggregating, Merging and Concatenating Data\n",
    "5. Conclusion"
   ]
  },
  {
   "cell_type": "markdown",
   "metadata": {
    "slideshow": {
     "slide_type": "slide"
    }
   },
   "source": [
    "## Setup\n",
    "\n",
    "We will walk through the first steps of analyzing a sample dataset.\n",
    "\n",
    "To follow the workshop on your own machine, you should have Anaconda already installed.\n",
    "\n",
    "This will automatically include the necessary dependencies.\n",
    "\n",
    "Our data set is Semra Sevi's Canadian Federal Elections dataset.\n",
    "\n",
    "You can find a copy of the dataset and this jupyter notebook at the following address.\n",
    "\n",
    "```https://link.to.materials```"
   ]
  },
  {
   "cell_type": "markdown",
   "metadata": {
    "slideshow": {
     "slide_type": "slide"
    }
   },
   "source": [
    "### Getting Ready to Code\n",
    "\n",
    "`Jupyter` is a python tool for rich interactive coding.\n",
    "\n",
    "This presentation uses `Jupyter` notebook, in fact!\n",
    "\n",
    "To get set, create a new folder in which you will work and copy the materials into it.\n",
    "\n",
    "I would call it `CDSI_DSwP`, or something like that.\n",
    "\n",
    "Then launch your machines console, activate your conda environment and run the following.\n",
    "\n",
    "```jupyter notebook```\n",
    "\n",
    "This should launch Jupyter notebook in your browser. When it does, you can open the notebook."
   ]
  },
  {
   "cell_type": "markdown",
   "metadata": {
    "slideshow": {
     "slide_type": "slide"
    }
   },
   "source": [
    "### Installing and Importing pandas\n",
    "\n",
    "`pandas` comes pre-packaged in Anaconda.\n",
    "\n",
    "You can always install it using the following pip command: ```pip install pandas```\n",
    "\n",
    "If you have conda, but not pandas, you can also do: ```conda install pandas```\n",
    "\n",
    "Base `pandas` has only a few dependencies, but you may have to install optional dependencies depending on your work and your setup.\n",
    "\n",
    "For a full list of optional dependencies see the\n",
    "[Installation Documentation](https://pandas.pydata.org/docs/getting_started/install.html)\n"
   ]
  },
  {
   "cell_type": "code",
   "execution_count": 1,
   "metadata": {
    "slideshow": {
     "slide_type": "fragment"
    }
   },
   "outputs": [],
   "source": [
    "# import the pandas library!\n",
    "\n",
    "import pandas as pd"
   ]
  },
  {
   "cell_type": "markdown",
   "metadata": {
    "slideshow": {
     "slide_type": "slide"
    }
   },
   "source": [
    "## Main Data Structures\n",
    "\n",
    "There are two main data structures in `pandas`. \n",
    "- `Series` represent one single column of data\n",
    "- `DataFrame` represents a two dimensional array of data\n",
    "\n",
    "These are *array-like* data structures. \n",
    "\n",
    "- They have fixed dimensions.\n",
    "- Their entries are of a homogeneous datatype.\n",
    "- They are associated with indices, which help with data access\n",
    "- They support a variety of mathematical operations."
   ]
  },
  {
   "cell_type": "markdown",
   "metadata": {
    "slideshow": {
     "slide_type": "slide"
    }
   },
   "source": [
    "### Pandas Series\n",
    "\n",
    "> Series is a one-dimensional labeled array capable of holding any data type (integers, strings, floating point numbers, Python objects, etc.). The axis labels are collectively referred to as the index. "
   ]
  },
  {
   "cell_type": "code",
   "execution_count": 2,
   "metadata": {
    "slideshow": {
     "slide_type": "-"
    }
   },
   "outputs": [
    {
     "data": {
      "text/plain": [
       "Label1    1\n",
       "Label2    2\n",
       "Label3    3\n",
       "Label4    4\n",
       "Label5    5\n",
       "dtype: int64"
      ]
     },
     "execution_count": 2,
     "metadata": {},
     "output_type": "execute_result"
    }
   ],
   "source": [
    "s = pd.Series([1, 2, 3, 4, 5], index=[\"Label1\", \"Label2\", \"Label3\", \"Label4\", \"Label5\"])\n",
    "s"
   ]
  },
  {
   "cell_type": "code",
   "execution_count": 3,
   "metadata": {},
   "outputs": [
    {
     "data": {
      "text/plain": [
       "((5,), dtype('int64'))"
      ]
     },
     "execution_count": 3,
     "metadata": {},
     "output_type": "execute_result"
    }
   ],
   "source": [
    "s.shape, s.dtype"
   ]
  },
  {
   "cell_type": "code",
   "execution_count": 4,
   "metadata": {},
   "outputs": [
    {
     "data": {
      "text/plain": [
       "Index(['Label1', 'Label2', 'Label3', 'Label4', 'Label5'], dtype='object')"
      ]
     },
     "execution_count": 4,
     "metadata": {},
     "output_type": "execute_result"
    }
   ],
   "source": [
    "s.index"
   ]
  },
  {
   "cell_type": "markdown",
   "metadata": {
    "slideshow": {
     "slide_type": "slide"
    }
   },
   "source": [
    "### Series Data Access\n",
    "\n",
    "There are *many* ways to access data with Series objects.\n",
    "\n",
    "Which one you use will depend on the situation.\n",
    "\n",
    "Let's look at some common patterns.\n",
    "\n",
    "See the docs on [Indexing and Selecting Data](https://pandas.pydata.org/docs/user_guide/indexing.html) for more details."
   ]
  },
  {
   "cell_type": "markdown",
   "metadata": {
    "slideshow": {
     "slide_type": "slide"
    }
   },
   "source": [
    "#### Using `loc` and `iloc`\n",
    "\n",
    "These are the basic data access methods"
   ]
  },
  {
   "cell_type": "code",
   "execution_count": 5,
   "metadata": {
    "scrolled": true,
    "slideshow": {
     "slide_type": "-"
    }
   },
   "outputs": [
    {
     "data": {
      "text/plain": [
       "1"
      ]
     },
     "execution_count": 5,
     "metadata": {},
     "output_type": "execute_result"
    }
   ],
   "source": [
    "s.loc[\"Label1\"]  # access data by index label"
   ]
  },
  {
   "cell_type": "code",
   "execution_count": 6,
   "metadata": {},
   "outputs": [
    {
     "data": {
      "text/plain": [
       "1"
      ]
     },
     "execution_count": 6,
     "metadata": {},
     "output_type": "execute_result"
    }
   ],
   "source": [
    "s.iloc[0] # access data by position in index"
   ]
  },
  {
   "cell_type": "markdown",
   "metadata": {
    "slideshow": {
     "slide_type": "-"
    }
   },
   "source": [
    "#### Using Regular Subscripts\n",
    "\n",
    "Subscripts try to behave intelligently depending on the data type you pass in."
   ]
  },
  {
   "cell_type": "code",
   "execution_count": 7,
   "metadata": {
    "slideshow": {
     "slide_type": "-"
    }
   },
   "outputs": [
    {
     "data": {
      "text/plain": [
       "1"
      ]
     },
     "execution_count": 7,
     "metadata": {},
     "output_type": "execute_result"
    }
   ],
   "source": [
    "s[\"Label1\"] \n",
    "# direct indexing; multifunction, tries to be smart"
   ]
  },
  {
   "cell_type": "code",
   "execution_count": 8,
   "metadata": {},
   "outputs": [
    {
     "data": {
      "text/plain": [
       "1"
      ]
     },
     "execution_count": 8,
     "metadata": {},
     "output_type": "execute_result"
    }
   ],
   "source": [
    "s[0]"
   ]
  },
  {
   "cell_type": "markdown",
   "metadata": {
    "slideshow": {
     "slide_type": "slide"
    }
   },
   "source": [
    "#### Subsetting Data\n",
    "\n",
    "We can use boolean/logical expressions to select data.\n",
    "\n",
    "See the cheat sheet for a quick list of different operators."
   ]
  },
  {
   "cell_type": "code",
   "execution_count": 9,
   "metadata": {},
   "outputs": [
    {
     "data": {
      "text/plain": [
       "Label1    False\n",
       "Label2    False\n",
       "Label3     True\n",
       "Label4     True\n",
       "Label5     True\n",
       "dtype: bool"
      ]
     },
     "execution_count": 9,
     "metadata": {},
     "output_type": "execute_result"
    }
   ],
   "source": [
    "2 < s # Constructing a boolean series"
   ]
  },
  {
   "cell_type": "code",
   "execution_count": 10,
   "metadata": {},
   "outputs": [
    {
     "data": {
      "text/plain": [
       "Label3    3\n",
       "Label4    4\n",
       "Label5    5\n",
       "dtype: int64"
      ]
     },
     "execution_count": 10,
     "metadata": {},
     "output_type": "execute_result"
    }
   ],
   "source": [
    "s[2 < s] # Simple boolean query"
   ]
  },
  {
   "cell_type": "code",
   "execution_count": 11,
   "metadata": {},
   "outputs": [
    {
     "data": {
      "text/plain": [
       "Label3    3\n",
       "Label4    4\n",
       "dtype: int64"
      ]
     },
     "execution_count": 11,
     "metadata": {},
     "output_type": "execute_result"
    }
   ],
   "source": [
    "s[(2 < s) & (s < 5)] # More complex boolean; watch operator precedence!"
   ]
  },
  {
   "cell_type": "markdown",
   "metadata": {
    "slideshow": {
     "slide_type": "slide"
    }
   },
   "source": [
    "Look at what happens to the index with a boolean selection."
   ]
  },
  {
   "cell_type": "code",
   "execution_count": 12,
   "metadata": {},
   "outputs": [
    {
     "data": {
      "text/plain": [
       "Label3    3\n",
       "Label4    4\n",
       "Label5    5\n",
       "dtype: int64"
      ]
     },
     "execution_count": 12,
     "metadata": {},
     "output_type": "execute_result"
    }
   ],
   "source": [
    "s[2 < s] "
   ]
  },
  {
   "cell_type": "markdown",
   "metadata": {},
   "source": [
    "We lose some index entries! \n",
    "\n",
    "But, sometimes, we want to keep the index intact. Here is how to do that."
   ]
  },
  {
   "cell_type": "code",
   "execution_count": 13,
   "metadata": {
    "slideshow": {
     "slide_type": "-"
    }
   },
   "outputs": [
    {
     "data": {
      "text/plain": [
       "Label1    NaN\n",
       "Label2    NaN\n",
       "Label3    3.0\n",
       "Label4    4.0\n",
       "Label5    5.0\n",
       "dtype: float64"
      ]
     },
     "execution_count": 13,
     "metadata": {},
     "output_type": "execute_result"
    }
   ],
   "source": [
    "s.where(s > 2) # boolean indexing again, but preserving the original index"
   ]
  },
  {
   "cell_type": "markdown",
   "metadata": {
    "slideshow": {
     "slide_type": "slide"
    }
   },
   "source": [
    "### Pandas DataFrames\n",
    "\n",
    "> DataFrame is a 2-dimensional labeled data structure with columns of potentially different types. You can think of it like a spreadsheet or SQL table, or a dict of Series objects. It is generally the most commonly used pandas object.\n"
   ]
  },
  {
   "cell_type": "code",
   "execution_count": 14,
   "metadata": {},
   "outputs": [
    {
     "data": {
      "text/html": [
       "<div>\n",
       "<style scoped>\n",
       "    .dataframe tbody tr th:only-of-type {\n",
       "        vertical-align: middle;\n",
       "    }\n",
       "\n",
       "    .dataframe tbody tr th {\n",
       "        vertical-align: top;\n",
       "    }\n",
       "\n",
       "    .dataframe thead th {\n",
       "        text-align: right;\n",
       "    }\n",
       "</style>\n",
       "<table border=\"1\" class=\"dataframe\">\n",
       "  <thead>\n",
       "    <tr style=\"text-align: right;\">\n",
       "      <th></th>\n",
       "      <th>another_s</th>\n",
       "      <th>yet another</th>\n",
       "    </tr>\n",
       "  </thead>\n",
       "  <tbody>\n",
       "    <tr>\n",
       "      <th>Label1</th>\n",
       "      <td>6</td>\n",
       "      <td>11.0</td>\n",
       "    </tr>\n",
       "    <tr>\n",
       "      <th>Label2</th>\n",
       "      <td>7</td>\n",
       "      <td>NaN</td>\n",
       "    </tr>\n",
       "    <tr>\n",
       "      <th>Label3</th>\n",
       "      <td>8</td>\n",
       "      <td>NaN</td>\n",
       "    </tr>\n",
       "    <tr>\n",
       "      <th>Label4</th>\n",
       "      <td>9</td>\n",
       "      <td>14.0</td>\n",
       "    </tr>\n",
       "    <tr>\n",
       "      <th>Label5</th>\n",
       "      <td>10</td>\n",
       "      <td>15.0</td>\n",
       "    </tr>\n",
       "  </tbody>\n",
       "</table>\n",
       "</div>"
      ],
      "text/plain": [
       "        another_s  yet another\n",
       "Label1          6         11.0\n",
       "Label2          7          NaN\n",
       "Label3          8          NaN\n",
       "Label4          9         14.0\n",
       "Label5         10         15.0"
      ]
     },
     "execution_count": 14,
     "metadata": {},
     "output_type": "execute_result"
    }
   ],
   "source": [
    "df = pd.DataFrame({\"another_s\": [6, 7, 8, 9, 10],\n",
    "                   \"yet another\": [11, None, None, 14, 15]},\n",
    "    index=[\"Label1\", \"Label2\", \"Label3\", \"Label4\", \"Label5\"])\n",
    "df"
   ]
  },
  {
   "cell_type": "code",
   "execution_count": 15,
   "metadata": {},
   "outputs": [
    {
     "data": {
      "text/plain": [
       "Index(['another_s', 'yet another'], dtype='object')"
      ]
     },
     "execution_count": 15,
     "metadata": {},
     "output_type": "execute_result"
    }
   ],
   "source": [
    "df.columns # dfs have column indices!"
   ]
  },
  {
   "cell_type": "markdown",
   "metadata": {
    "slideshow": {
     "slide_type": "slide"
    }
   },
   "source": [
    "### DataFrame Data Access\n",
    "\n",
    "You can use the same methods as Series to access and subset DataFrame data.\n",
    "\n",
    "The behaviour is slightly different in some cases, and there some additional functionality that allows you to work with columns.\n",
    "\n",
    "For further details, see "
   ]
  },
  {
   "cell_type": "markdown",
   "metadata": {
    "slideshow": {
     "slide_type": "slide"
    }
   },
   "source": [
    "#### Accessing Rows and Columns"
   ]
  },
  {
   "cell_type": "code",
   "execution_count": 16,
   "metadata": {},
   "outputs": [
    {
     "data": {
      "text/plain": [
       "Label1     6\n",
       "Label2     7\n",
       "Label3     8\n",
       "Label4     9\n",
       "Label5    10\n",
       "Name: another_s, dtype: int64"
      ]
     },
     "execution_count": 16,
     "metadata": {},
     "output_type": "execute_result"
    }
   ],
   "source": [
    "df.another_s"
   ]
  },
  {
   "cell_type": "code",
   "execution_count": 17,
   "metadata": {},
   "outputs": [
    {
     "data": {
      "text/plain": [
       "Label1    11.0\n",
       "Label2     NaN\n",
       "Label3     NaN\n",
       "Label4    14.0\n",
       "Label5    15.0\n",
       "Name: yet another, dtype: float64"
      ]
     },
     "execution_count": 17,
     "metadata": {},
     "output_type": "execute_result"
    }
   ],
   "source": [
    "# 'df.yet another' invalid!\n",
    "df[\"yet another\"]"
   ]
  },
  {
   "cell_type": "markdown",
   "metadata": {
    "slideshow": {
     "slide_type": "slide"
    }
   },
   "source": [
    "To select rows, use `loc` and `iloc`"
   ]
  },
  {
   "cell_type": "code",
   "execution_count": 18,
   "metadata": {},
   "outputs": [
    {
     "data": {
      "text/plain": [
       "another_s       6.0\n",
       "yet another    11.0\n",
       "Name: Label1, dtype: float64"
      ]
     },
     "execution_count": 18,
     "metadata": {},
     "output_type": "execute_result"
    }
   ],
   "source": [
    "df.loc[\"Label1\"]"
   ]
  },
  {
   "cell_type": "code",
   "execution_count": 19,
   "metadata": {},
   "outputs": [
    {
     "data": {
      "text/plain": [
       "another_s       6.0\n",
       "yet another    11.0\n",
       "Name: Label1, dtype: float64"
      ]
     },
     "execution_count": 19,
     "metadata": {},
     "output_type": "execute_result"
    }
   ],
   "source": [
    "df.iloc[0]"
   ]
  },
  {
   "cell_type": "markdown",
   "metadata": {
    "slideshow": {
     "slide_type": "slide"
    }
   },
   "source": [
    "#### Adding, Selecting and Reordering Columns"
   ]
  },
  {
   "cell_type": "code",
   "execution_count": 20,
   "metadata": {},
   "outputs": [
    {
     "data": {
      "text/html": [
       "<div>\n",
       "<style scoped>\n",
       "    .dataframe tbody tr th:only-of-type {\n",
       "        vertical-align: middle;\n",
       "    }\n",
       "\n",
       "    .dataframe tbody tr th {\n",
       "        vertical-align: top;\n",
       "    }\n",
       "\n",
       "    .dataframe thead th {\n",
       "        text-align: right;\n",
       "    }\n",
       "</style>\n",
       "<table border=\"1\" class=\"dataframe\">\n",
       "  <thead>\n",
       "    <tr style=\"text-align: right;\">\n",
       "      <th></th>\n",
       "      <th>another_s</th>\n",
       "      <th>yet another</th>\n",
       "      <th>s</th>\n",
       "    </tr>\n",
       "  </thead>\n",
       "  <tbody>\n",
       "    <tr>\n",
       "      <th>Label1</th>\n",
       "      <td>6</td>\n",
       "      <td>11.0</td>\n",
       "      <td>1</td>\n",
       "    </tr>\n",
       "    <tr>\n",
       "      <th>Label2</th>\n",
       "      <td>7</td>\n",
       "      <td>NaN</td>\n",
       "      <td>2</td>\n",
       "    </tr>\n",
       "    <tr>\n",
       "      <th>Label3</th>\n",
       "      <td>8</td>\n",
       "      <td>NaN</td>\n",
       "      <td>3</td>\n",
       "    </tr>\n",
       "    <tr>\n",
       "      <th>Label4</th>\n",
       "      <td>9</td>\n",
       "      <td>14.0</td>\n",
       "      <td>4</td>\n",
       "    </tr>\n",
       "    <tr>\n",
       "      <th>Label5</th>\n",
       "      <td>10</td>\n",
       "      <td>15.0</td>\n",
       "      <td>5</td>\n",
       "    </tr>\n",
       "  </tbody>\n",
       "</table>\n",
       "</div>"
      ],
      "text/plain": [
       "        another_s  yet another  s\n",
       "Label1          6         11.0  1\n",
       "Label2          7          NaN  2\n",
       "Label3          8          NaN  3\n",
       "Label4          9         14.0  4\n",
       "Label5         10         15.0  5"
      ]
     },
     "execution_count": 20,
     "metadata": {},
     "output_type": "execute_result"
    }
   ],
   "source": [
    "df[\"s\"] = s # Remeber s?\n",
    "df"
   ]
  },
  {
   "cell_type": "code",
   "execution_count": 21,
   "metadata": {},
   "outputs": [
    {
     "data": {
      "text/html": [
       "<div>\n",
       "<style scoped>\n",
       "    .dataframe tbody tr th:only-of-type {\n",
       "        vertical-align: middle;\n",
       "    }\n",
       "\n",
       "    .dataframe tbody tr th {\n",
       "        vertical-align: top;\n",
       "    }\n",
       "\n",
       "    .dataframe thead th {\n",
       "        text-align: right;\n",
       "    }\n",
       "</style>\n",
       "<table border=\"1\" class=\"dataframe\">\n",
       "  <thead>\n",
       "    <tr style=\"text-align: right;\">\n",
       "      <th></th>\n",
       "      <th>s</th>\n",
       "      <th>another_s</th>\n",
       "    </tr>\n",
       "  </thead>\n",
       "  <tbody>\n",
       "    <tr>\n",
       "      <th>Label1</th>\n",
       "      <td>1</td>\n",
       "      <td>6</td>\n",
       "    </tr>\n",
       "    <tr>\n",
       "      <th>Label2</th>\n",
       "      <td>2</td>\n",
       "      <td>7</td>\n",
       "    </tr>\n",
       "    <tr>\n",
       "      <th>Label3</th>\n",
       "      <td>3</td>\n",
       "      <td>8</td>\n",
       "    </tr>\n",
       "    <tr>\n",
       "      <th>Label4</th>\n",
       "      <td>4</td>\n",
       "      <td>9</td>\n",
       "    </tr>\n",
       "    <tr>\n",
       "      <th>Label5</th>\n",
       "      <td>5</td>\n",
       "      <td>10</td>\n",
       "    </tr>\n",
       "  </tbody>\n",
       "</table>\n",
       "</div>"
      ],
      "text/plain": [
       "        s  another_s\n",
       "Label1  1          6\n",
       "Label2  2          7\n",
       "Label3  3          8\n",
       "Label4  4          9\n",
       "Label5  5         10"
      ]
     },
     "execution_count": 21,
     "metadata": {},
     "output_type": "execute_result"
    }
   ],
   "source": [
    "df[[\"s\", \"another_s\"]]"
   ]
  },
  {
   "cell_type": "markdown",
   "metadata": {
    "slideshow": {
     "slide_type": "slide"
    }
   },
   "source": [
    "### DataFrame Subsetting\n",
    "\n",
    "You can use boolean expressions as with series, but with different columns too!"
   ]
  },
  {
   "cell_type": "code",
   "execution_count": 22,
   "metadata": {},
   "outputs": [
    {
     "data": {
      "text/html": [
       "<div>\n",
       "<style scoped>\n",
       "    .dataframe tbody tr th:only-of-type {\n",
       "        vertical-align: middle;\n",
       "    }\n",
       "\n",
       "    .dataframe tbody tr th {\n",
       "        vertical-align: top;\n",
       "    }\n",
       "\n",
       "    .dataframe thead th {\n",
       "        text-align: right;\n",
       "    }\n",
       "</style>\n",
       "<table border=\"1\" class=\"dataframe\">\n",
       "  <thead>\n",
       "    <tr style=\"text-align: right;\">\n",
       "      <th></th>\n",
       "      <th>another_s</th>\n",
       "      <th>yet another</th>\n",
       "      <th>s</th>\n",
       "    </tr>\n",
       "  </thead>\n",
       "  <tbody>\n",
       "    <tr>\n",
       "      <th>Label1</th>\n",
       "      <td>6</td>\n",
       "      <td>11.0</td>\n",
       "      <td>1</td>\n",
       "    </tr>\n",
       "  </tbody>\n",
       "</table>\n",
       "</div>"
      ],
      "text/plain": [
       "        another_s  yet another  s\n",
       "Label1          6         11.0  1"
      ]
     },
     "execution_count": 22,
     "metadata": {},
     "output_type": "execute_result"
    }
   ],
   "source": [
    "df[df.s < 2]"
   ]
  },
  {
   "cell_type": "code",
   "execution_count": 23,
   "metadata": {},
   "outputs": [
    {
     "data": {
      "text/html": [
       "<div>\n",
       "<style scoped>\n",
       "    .dataframe tbody tr th:only-of-type {\n",
       "        vertical-align: middle;\n",
       "    }\n",
       "\n",
       "    .dataframe tbody tr th {\n",
       "        vertical-align: top;\n",
       "    }\n",
       "\n",
       "    .dataframe thead th {\n",
       "        text-align: right;\n",
       "    }\n",
       "</style>\n",
       "<table border=\"1\" class=\"dataframe\">\n",
       "  <thead>\n",
       "    <tr style=\"text-align: right;\">\n",
       "      <th></th>\n",
       "      <th>another_s</th>\n",
       "      <th>yet another</th>\n",
       "      <th>s</th>\n",
       "    </tr>\n",
       "  </thead>\n",
       "  <tbody>\n",
       "    <tr>\n",
       "      <th>Label1</th>\n",
       "      <td>6</td>\n",
       "      <td>11.0</td>\n",
       "      <td>1</td>\n",
       "    </tr>\n",
       "    <tr>\n",
       "      <th>Label4</th>\n",
       "      <td>9</td>\n",
       "      <td>14.0</td>\n",
       "      <td>4</td>\n",
       "    </tr>\n",
       "    <tr>\n",
       "      <th>Label5</th>\n",
       "      <td>10</td>\n",
       "      <td>15.0</td>\n",
       "      <td>5</td>\n",
       "    </tr>\n",
       "  </tbody>\n",
       "</table>\n",
       "</div>"
      ],
      "text/plain": [
       "        another_s  yet another  s\n",
       "Label1          6         11.0  1\n",
       "Label4          9         14.0  4\n",
       "Label5         10         15.0  5"
      ]
     },
     "execution_count": 23,
     "metadata": {},
     "output_type": "execute_result"
    }
   ],
   "source": [
    "df[df[\"yet another\"] > df.s]"
   ]
  },
  {
   "cell_type": "markdown",
   "metadata": {
    "slideshow": {
     "slide_type": "slide"
    }
   },
   "source": [
    "### Working with Missing Data\n",
    "\n",
    "Take another look at the Dataframe."
   ]
  },
  {
   "cell_type": "code",
   "execution_count": 24,
   "metadata": {},
   "outputs": [
    {
     "data": {
      "text/html": [
       "<div>\n",
       "<style scoped>\n",
       "    .dataframe tbody tr th:only-of-type {\n",
       "        vertical-align: middle;\n",
       "    }\n",
       "\n",
       "    .dataframe tbody tr th {\n",
       "        vertical-align: top;\n",
       "    }\n",
       "\n",
       "    .dataframe thead th {\n",
       "        text-align: right;\n",
       "    }\n",
       "</style>\n",
       "<table border=\"1\" class=\"dataframe\">\n",
       "  <thead>\n",
       "    <tr style=\"text-align: right;\">\n",
       "      <th></th>\n",
       "      <th>another_s</th>\n",
       "      <th>yet another</th>\n",
       "      <th>s</th>\n",
       "    </tr>\n",
       "  </thead>\n",
       "  <tbody>\n",
       "    <tr>\n",
       "      <th>Label1</th>\n",
       "      <td>6</td>\n",
       "      <td>11.0</td>\n",
       "      <td>1</td>\n",
       "    </tr>\n",
       "    <tr>\n",
       "      <th>Label2</th>\n",
       "      <td>7</td>\n",
       "      <td>NaN</td>\n",
       "      <td>2</td>\n",
       "    </tr>\n",
       "    <tr>\n",
       "      <th>Label3</th>\n",
       "      <td>8</td>\n",
       "      <td>NaN</td>\n",
       "      <td>3</td>\n",
       "    </tr>\n",
       "    <tr>\n",
       "      <th>Label4</th>\n",
       "      <td>9</td>\n",
       "      <td>14.0</td>\n",
       "      <td>4</td>\n",
       "    </tr>\n",
       "    <tr>\n",
       "      <th>Label5</th>\n",
       "      <td>10</td>\n",
       "      <td>15.0</td>\n",
       "      <td>5</td>\n",
       "    </tr>\n",
       "  </tbody>\n",
       "</table>\n",
       "</div>"
      ],
      "text/plain": [
       "        another_s  yet another  s\n",
       "Label1          6         11.0  1\n",
       "Label2          7          NaN  2\n",
       "Label3          8          NaN  3\n",
       "Label4          9         14.0  4\n",
       "Label5         10         15.0  5"
      ]
     },
     "execution_count": 24,
     "metadata": {},
     "output_type": "execute_result"
    }
   ],
   "source": [
    "df"
   ]
  },
  {
   "cell_type": "markdown",
   "metadata": {},
   "source": [
    "The `NaN` values indicate missing data. \n",
    "\n",
    "Let's briefly review their behavior. We'll look into how to deal with them later."
   ]
  },
  {
   "cell_type": "markdown",
   "metadata": {
    "slideshow": {
     "slide_type": "slide"
    }
   },
   "source": [
    "We can check for missing values."
   ]
  },
  {
   "cell_type": "code",
   "execution_count": 25,
   "metadata": {
    "slideshow": {
     "slide_type": "-"
    }
   },
   "outputs": [
    {
     "data": {
      "text/html": [
       "<div>\n",
       "<style scoped>\n",
       "    .dataframe tbody tr th:only-of-type {\n",
       "        vertical-align: middle;\n",
       "    }\n",
       "\n",
       "    .dataframe tbody tr th {\n",
       "        vertical-align: top;\n",
       "    }\n",
       "\n",
       "    .dataframe thead th {\n",
       "        text-align: right;\n",
       "    }\n",
       "</style>\n",
       "<table border=\"1\" class=\"dataframe\">\n",
       "  <thead>\n",
       "    <tr style=\"text-align: right;\">\n",
       "      <th></th>\n",
       "      <th>another_s</th>\n",
       "      <th>yet another</th>\n",
       "      <th>yet another na</th>\n",
       "    </tr>\n",
       "  </thead>\n",
       "  <tbody>\n",
       "    <tr>\n",
       "      <th>Label1</th>\n",
       "      <td>6</td>\n",
       "      <td>11.0</td>\n",
       "      <td>False</td>\n",
       "    </tr>\n",
       "    <tr>\n",
       "      <th>Label2</th>\n",
       "      <td>7</td>\n",
       "      <td>NaN</td>\n",
       "      <td>True</td>\n",
       "    </tr>\n",
       "    <tr>\n",
       "      <th>Label3</th>\n",
       "      <td>8</td>\n",
       "      <td>NaN</td>\n",
       "      <td>True</td>\n",
       "    </tr>\n",
       "    <tr>\n",
       "      <th>Label4</th>\n",
       "      <td>9</td>\n",
       "      <td>14.0</td>\n",
       "      <td>False</td>\n",
       "    </tr>\n",
       "    <tr>\n",
       "      <th>Label5</th>\n",
       "      <td>10</td>\n",
       "      <td>15.0</td>\n",
       "      <td>False</td>\n",
       "    </tr>\n",
       "  </tbody>\n",
       "</table>\n",
       "</div>"
      ],
      "text/plain": [
       "        another_s  yet another  yet another na\n",
       "Label1          6         11.0           False\n",
       "Label2          7          NaN            True\n",
       "Label3          8          NaN            True\n",
       "Label4          9         14.0           False\n",
       "Label5         10         15.0           False"
      ]
     },
     "execution_count": 25,
     "metadata": {},
     "output_type": "execute_result"
    }
   ],
   "source": [
    "df[\"yet another na\"] = df[\"yet another\"].isna()\n",
    "df[[\"another_s\", \"yet another\", \"yet another na\"]]"
   ]
  },
  {
   "cell_type": "markdown",
   "metadata": {},
   "source": [
    "Missing values get propagated in mathematical operations and ignored in aggregation functions."
   ]
  },
  {
   "cell_type": "code",
   "execution_count": 26,
   "metadata": {},
   "outputs": [
    {
     "data": {
      "text/plain": [
       "Label1    17.0\n",
       "Label2     NaN\n",
       "Label3     NaN\n",
       "Label4    23.0\n",
       "Label5    25.0\n",
       "dtype: float64"
      ]
     },
     "execution_count": 26,
     "metadata": {},
     "output_type": "execute_result"
    }
   ],
   "source": [
    "df[\"another_s\"] + df[\"yet another\"]"
   ]
  },
  {
   "cell_type": "code",
   "execution_count": 27,
   "metadata": {},
   "outputs": [
    {
     "data": {
      "text/plain": [
       "40.0"
      ]
     },
     "execution_count": 27,
     "metadata": {},
     "output_type": "execute_result"
    }
   ],
   "source": [
    "df[\"yet another\"].sum()"
   ]
  },
  {
   "cell_type": "markdown",
   "metadata": {
    "slideshow": {
     "slide_type": "slide"
    }
   },
   "source": [
    "### Special Datatypes\n",
    "\n",
    "Pandas has special datatypes for categorical and time data.\n",
    "\n",
    "These datatypes support a number of sophisticated operations.\n",
    "\n",
    "We will see some of them later on, but for reference see the following:\n",
    "- [Categorical data](https://pandas.pydata.org/pandas-docs/stable/user_guide/categorical.html)\n",
    "- [Timeseries data](https://pandas.pydata.org/pandas-docs/stable/user_guide/timeseries.html)"
   ]
  },
  {
   "cell_type": "markdown",
   "metadata": {
    "slideshow": {
     "slide_type": "slide"
    }
   },
   "source": [
    "## Basic Data Wrangling: Loading, Viewing, Cleaning and Enriching Data\n",
    "\n",
    "You can divide data wrangling into three broad activities.\n",
    "1. Inspection - Get familiar with the data and check for potential problems\n",
    "2. Preparation - Create or clean variables, deal with missing values\n",
    "3. Exploration - Compute descriptives statistics and identify basic patterns in the data\n",
    "\n",
    "The ordering above is typical, but not absolute. \n",
    "\n",
    "The different activities often tend to blend together. "
   ]
  },
  {
   "cell_type": "markdown",
   "metadata": {
    "slideshow": {
     "slide_type": "slide"
    }
   },
   "source": [
    "### Reading and Writing Data\n",
    "\n",
    "`pandas` can import a wide variety of common data formats. \n",
    "\n",
    "Some supported file types include the following.\n",
    "- CSV\n",
    "- Excel\n",
    "- SPSS\n",
    "- STATA\n",
    "\n",
    "For a full list, see the [I/O documentation](https://pandas.pydata.org/docs/reference/io.html)."
   ]
  },
  {
   "cell_type": "markdown",
   "metadata": {
    "slideshow": {
     "slide_type": "slide"
    }
   },
   "source": [
    "We can load datasets by calling the appropriate read function."
   ]
  },
  {
   "cell_type": "code",
   "execution_count": 28,
   "metadata": {
    "slideshow": {
     "slide_type": "-"
    }
   },
   "outputs": [
    {
     "name": "stderr",
     "output_type": "stream",
     "text": [
      "/home/mekikc/.conda/envs/CDSI/lib/python3.9/site-packages/IPython/core/interactiveshell.py:3444: DtypeWarning: Columns (10,11) have mixed types.Specify dtype option on import or set low_memory=False.\n",
      "  exec(code_obj, self.user_global_ns, self.user_ns)\n"
     ]
    }
   ],
   "source": [
    "# For this workshop, we will work with the following data\n",
    "load_path = \"federal-candidates-2021-10-20.csv\"\n",
    "\n",
    "# Load the data \n",
    "df = pd.read_csv(load_path)"
   ]
  },
  {
   "cell_type": "markdown",
   "metadata": {
    "slideshow": {
     "slide_type": "fragment"
    }
   },
   "source": [
    "Writing to these formats is also generally supported."
   ]
  },
  {
   "cell_type": "code",
   "execution_count": 29,
   "metadata": {
    "slideshow": {
     "slide_type": "-"
    }
   },
   "outputs": [],
   "source": [
    "# Let's save a copy of the data to this file\n",
    "save_path = \"federal-candidates-copy.csv\"\n",
    "\n",
    "# To write a dataframe, call the write method for the chosen format\n",
    "df.to_csv(save_path)"
   ]
  },
  {
   "cell_type": "markdown",
   "metadata": {
    "slideshow": {
     "slide_type": "slide"
    }
   },
   "source": [
    "### Viewing the Data\n",
    "\n",
    "The first step in analyzing data is to get familiar with it.\n",
    "\n",
    "This way, we get a feel for how much cleaning will be necessary.\n",
    "\n",
    "We also give ourselves a chance to catch anything weird."
   ]
  },
  {
   "cell_type": "markdown",
   "metadata": {
    "slideshow": {
     "slide_type": "slide"
    }
   },
   "source": [
    "To get our bearings, let's take a look at the metadata."
   ]
  },
  {
   "cell_type": "code",
   "execution_count": 30,
   "metadata": {
    "slideshow": {
     "slide_type": "-"
    }
   },
   "outputs": [
    {
     "name": "stdout",
     "output_type": "stream",
     "text": [
      "<class 'pandas.core.frame.DataFrame'>\n",
      "RangeIndex: 46526 entries, 0 to 46525\n",
      "Data columns (total 10 columns):\n",
      " #   Column          Non-Null Count  Dtype  \n",
      "---  ------          --------------  -----  \n",
      " 0   id              46526 non-null  int64  \n",
      " 1   parliament      46526 non-null  int64  \n",
      " 2   year            46526 non-null  int64  \n",
      " 3   type_elxn       46526 non-null  object \n",
      " 4   elected         46526 non-null  object \n",
      " 5   candidate_name  46526 non-null  object \n",
      " 6   edate           46526 non-null  object \n",
      " 7   incumbent       46458 non-null  object \n",
      " 8   gender          46525 non-null  object \n",
      " 9   birth_year      12276 non-null  float64\n",
      "dtypes: float64(1), int64(3), object(6)\n",
      "memory usage: 3.5+ MB\n"
     ]
    }
   ],
   "source": [
    "df[df.columns[:10]].info()"
   ]
  },
  {
   "cell_type": "markdown",
   "metadata": {
    "slideshow": {
     "slide_type": "slide"
    }
   },
   "source": [
    "A good next step is to inspect the data directly and continue to look for\n",
    "anything weird.\n",
    "\n",
    "We can look at the top or bottom of the dataset or to randomly sample rows from the data set."
   ]
  },
  {
   "cell_type": "code",
   "execution_count": 31,
   "metadata": {
    "slideshow": {
     "slide_type": "-"
    }
   },
   "outputs": [
    {
     "data": {
      "text/html": [
       "<div>\n",
       "<style scoped>\n",
       "    .dataframe tbody tr th:only-of-type {\n",
       "        vertical-align: middle;\n",
       "    }\n",
       "\n",
       "    .dataframe tbody tr th {\n",
       "        vertical-align: top;\n",
       "    }\n",
       "\n",
       "    .dataframe thead th {\n",
       "        text-align: right;\n",
       "    }\n",
       "</style>\n",
       "<table border=\"1\" class=\"dataframe\">\n",
       "  <thead>\n",
       "    <tr style=\"text-align: right;\">\n",
       "      <th></th>\n",
       "      <th>id</th>\n",
       "      <th>parliament</th>\n",
       "      <th>year</th>\n",
       "      <th>type_elxn</th>\n",
       "      <th>elected</th>\n",
       "      <th>candidate_name</th>\n",
       "      <th>edate</th>\n",
       "      <th>incumbent</th>\n",
       "      <th>gender</th>\n",
       "      <th>birth_year</th>\n",
       "      <th>...</th>\n",
       "      <th>acclaimed</th>\n",
       "      <th>switcher</th>\n",
       "      <th>multiple_candidacy</th>\n",
       "      <th>party_raw</th>\n",
       "      <th>party_minor_group</th>\n",
       "      <th>party_major_group</th>\n",
       "      <th>gov_party_raw</th>\n",
       "      <th>gov_minor_group</th>\n",
       "      <th>gov_major_group</th>\n",
       "      <th>num_candidates</th>\n",
       "    </tr>\n",
       "  </thead>\n",
       "  <tbody>\n",
       "    <tr>\n",
       "      <th>0</th>\n",
       "      <td>26093</td>\n",
       "      <td>1</td>\n",
       "      <td>1867</td>\n",
       "      <td>General</td>\n",
       "      <td>Elected</td>\n",
       "      <td>POWER,</td>\n",
       "      <td>1867-08-07</td>\n",
       "      <td>Not incumbent</td>\n",
       "      <td>M</td>\n",
       "      <td>1815.0</td>\n",
       "      <td>...</td>\n",
       "      <td>Not acclaimed</td>\n",
       "      <td>Switcher</td>\n",
       "      <td>Single</td>\n",
       "      <td>Anti-Confederate</td>\n",
       "      <td>Third_Party</td>\n",
       "      <td>Third_Party</td>\n",
       "      <td>Conservative</td>\n",
       "      <td>Conservative</td>\n",
       "      <td>Conservative</td>\n",
       "      <td>4</td>\n",
       "    </tr>\n",
       "    <tr>\n",
       "      <th>1</th>\n",
       "      <td>13011</td>\n",
       "      <td>1</td>\n",
       "      <td>1867</td>\n",
       "      <td>General</td>\n",
       "      <td>Elected</td>\n",
       "      <td>JONES,</td>\n",
       "      <td>1867-08-07</td>\n",
       "      <td>Not incumbent</td>\n",
       "      <td>M</td>\n",
       "      <td>1824.0</td>\n",
       "      <td>...</td>\n",
       "      <td>Not acclaimed</td>\n",
       "      <td>Switcher</td>\n",
       "      <td>Single</td>\n",
       "      <td>Labour</td>\n",
       "      <td>Labour</td>\n",
       "      <td>Third_Party</td>\n",
       "      <td>Conservative</td>\n",
       "      <td>Conservative</td>\n",
       "      <td>Conservative</td>\n",
       "      <td>4</td>\n",
       "    </tr>\n",
       "    <tr>\n",
       "      <th>2</th>\n",
       "      <td>27974</td>\n",
       "      <td>1</td>\n",
       "      <td>1867</td>\n",
       "      <td>General</td>\n",
       "      <td>Not elected</td>\n",
       "      <td>SHANNON, S.L.</td>\n",
       "      <td>1867-08-07</td>\n",
       "      <td>Not incumbent</td>\n",
       "      <td>M</td>\n",
       "      <td>NaN</td>\n",
       "      <td>...</td>\n",
       "      <td>Not acclaimed</td>\n",
       "      <td>Not switcher</td>\n",
       "      <td>Single</td>\n",
       "      <td>Unknown</td>\n",
       "      <td>Independent</td>\n",
       "      <td>Independent</td>\n",
       "      <td>Conservative</td>\n",
       "      <td>Conservative</td>\n",
       "      <td>Conservative</td>\n",
       "      <td>4</td>\n",
       "    </tr>\n",
       "    <tr>\n",
       "      <th>3</th>\n",
       "      <td>18040</td>\n",
       "      <td>1</td>\n",
       "      <td>1867</td>\n",
       "      <td>General</td>\n",
       "      <td>Elected</td>\n",
       "      <td>KIRKPATRICK, Thomas</td>\n",
       "      <td>1867-08-07</td>\n",
       "      <td>Not incumbent</td>\n",
       "      <td>M</td>\n",
       "      <td>1805.0</td>\n",
       "      <td>...</td>\n",
       "      <td>Not acclaimed</td>\n",
       "      <td>Not switcher</td>\n",
       "      <td>Single</td>\n",
       "      <td>Conservative</td>\n",
       "      <td>Conservative</td>\n",
       "      <td>Conservative</td>\n",
       "      <td>Conservative</td>\n",
       "      <td>Conservative</td>\n",
       "      <td>Conservative</td>\n",
       "      <td>2</td>\n",
       "    </tr>\n",
       "    <tr>\n",
       "      <th>4</th>\n",
       "      <td>1798</td>\n",
       "      <td>1</td>\n",
       "      <td>1867</td>\n",
       "      <td>General</td>\n",
       "      <td>Elected</td>\n",
       "      <td>BLANCHET, Hon. J.G.</td>\n",
       "      <td>1867-08-07</td>\n",
       "      <td>Not incumbent</td>\n",
       "      <td>M</td>\n",
       "      <td>1829.0</td>\n",
       "      <td>...</td>\n",
       "      <td>Acclaimed</td>\n",
       "      <td>Not switcher</td>\n",
       "      <td>Single</td>\n",
       "      <td>Liberal-Conservative</td>\n",
       "      <td>Conservative</td>\n",
       "      <td>Conservative</td>\n",
       "      <td>Conservative</td>\n",
       "      <td>Conservative</td>\n",
       "      <td>Conservative</td>\n",
       "      <td>1</td>\n",
       "    </tr>\n",
       "  </tbody>\n",
       "</table>\n",
       "<p>5 rows × 31 columns</p>\n",
       "</div>"
      ],
      "text/plain": [
       "      id  parliament  year type_elxn      elected       candidate_name  \\\n",
       "0  26093           1  1867   General      Elected               POWER,   \n",
       "1  13011           1  1867   General      Elected               JONES,   \n",
       "2  27974           1  1867   General  Not elected        SHANNON, S.L.   \n",
       "3  18040           1  1867   General      Elected  KIRKPATRICK, Thomas   \n",
       "4   1798           1  1867   General      Elected  BLANCHET, Hon. J.G.   \n",
       "\n",
       "        edate      incumbent gender  birth_year  ...      acclaimed  \\\n",
       "0  1867-08-07  Not incumbent      M      1815.0  ...  Not acclaimed   \n",
       "1  1867-08-07  Not incumbent      M      1824.0  ...  Not acclaimed   \n",
       "2  1867-08-07  Not incumbent      M         NaN  ...  Not acclaimed   \n",
       "3  1867-08-07  Not incumbent      M      1805.0  ...  Not acclaimed   \n",
       "4  1867-08-07  Not incumbent      M      1829.0  ...      Acclaimed   \n",
       "\n",
       "       switcher multiple_candidacy             party_raw party_minor_group  \\\n",
       "0      Switcher             Single      Anti-Confederate       Third_Party   \n",
       "1      Switcher             Single                Labour            Labour   \n",
       "2  Not switcher             Single               Unknown       Independent   \n",
       "3  Not switcher             Single          Conservative      Conservative   \n",
       "4  Not switcher             Single  Liberal-Conservative      Conservative   \n",
       "\n",
       "  party_major_group  gov_party_raw gov_minor_group gov_major_group  \\\n",
       "0       Third_Party   Conservative    Conservative    Conservative   \n",
       "1       Third_Party   Conservative    Conservative    Conservative   \n",
       "2       Independent   Conservative    Conservative    Conservative   \n",
       "3      Conservative   Conservative    Conservative    Conservative   \n",
       "4      Conservative   Conservative    Conservative    Conservative   \n",
       "\n",
       "   num_candidates  \n",
       "0               4  \n",
       "1               4  \n",
       "2               4  \n",
       "3               2  \n",
       "4               1  \n",
       "\n",
       "[5 rows x 31 columns]"
      ]
     },
     "execution_count": 31,
     "metadata": {},
     "output_type": "execute_result"
    }
   ],
   "source": [
    "df.head(5) # Peek at the first n rows. See anything weird?"
   ]
  },
  {
   "cell_type": "code",
   "execution_count": 32,
   "metadata": {
    "slideshow": {
     "slide_type": "slide"
    }
   },
   "outputs": [
    {
     "data": {
      "text/html": [
       "<div>\n",
       "<style scoped>\n",
       "    .dataframe tbody tr th:only-of-type {\n",
       "        vertical-align: middle;\n",
       "    }\n",
       "\n",
       "    .dataframe tbody tr th {\n",
       "        vertical-align: top;\n",
       "    }\n",
       "\n",
       "    .dataframe thead th {\n",
       "        text-align: right;\n",
       "    }\n",
       "</style>\n",
       "<table border=\"1\" class=\"dataframe\">\n",
       "  <thead>\n",
       "    <tr style=\"text-align: right;\">\n",
       "      <th></th>\n",
       "      <th>id</th>\n",
       "      <th>parliament</th>\n",
       "      <th>year</th>\n",
       "      <th>type_elxn</th>\n",
       "      <th>elected</th>\n",
       "      <th>candidate_name</th>\n",
       "      <th>edate</th>\n",
       "      <th>incumbent</th>\n",
       "      <th>gender</th>\n",
       "      <th>birth_year</th>\n",
       "      <th>...</th>\n",
       "      <th>acclaimed</th>\n",
       "      <th>switcher</th>\n",
       "      <th>multiple_candidacy</th>\n",
       "      <th>party_raw</th>\n",
       "      <th>party_minor_group</th>\n",
       "      <th>party_major_group</th>\n",
       "      <th>gov_party_raw</th>\n",
       "      <th>gov_minor_group</th>\n",
       "      <th>gov_major_group</th>\n",
       "      <th>num_candidates</th>\n",
       "    </tr>\n",
       "  </thead>\n",
       "  <tbody>\n",
       "    <tr>\n",
       "      <th>46521</th>\n",
       "      <td>36038</td>\n",
       "      <td>44</td>\n",
       "      <td>2021</td>\n",
       "      <td>General</td>\n",
       "      <td>Not elected</td>\n",
       "      <td>Bandou, Rachid</td>\n",
       "      <td>2021-09-20</td>\n",
       "      <td>Not incumbent</td>\n",
       "      <td>M</td>\n",
       "      <td>NaN</td>\n",
       "      <td>...</td>\n",
       "      <td>Not acclaimed</td>\n",
       "      <td>Not switcher</td>\n",
       "      <td>Single</td>\n",
       "      <td>Bloc Québécois</td>\n",
       "      <td>Bloc</td>\n",
       "      <td>Bloc</td>\n",
       "      <td>Liberal Party of Canada</td>\n",
       "      <td>Liberal</td>\n",
       "      <td>Liberal</td>\n",
       "      <td>5</td>\n",
       "    </tr>\n",
       "    <tr>\n",
       "      <th>46522</th>\n",
       "      <td>33663</td>\n",
       "      <td>44</td>\n",
       "      <td>2021</td>\n",
       "      <td>General</td>\n",
       "      <td>Elected</td>\n",
       "      <td>Zahid, Salma</td>\n",
       "      <td>2021-09-20</td>\n",
       "      <td>Incumbent</td>\n",
       "      <td>F</td>\n",
       "      <td>1970.0</td>\n",
       "      <td>...</td>\n",
       "      <td>Not acclaimed</td>\n",
       "      <td>Not switcher</td>\n",
       "      <td>Single</td>\n",
       "      <td>Liberal Party of Canada</td>\n",
       "      <td>Liberal</td>\n",
       "      <td>Liberal</td>\n",
       "      <td>Liberal Party of Canada</td>\n",
       "      <td>Liberal</td>\n",
       "      <td>Liberal</td>\n",
       "      <td>5</td>\n",
       "    </tr>\n",
       "    <tr>\n",
       "      <th>46523</th>\n",
       "      <td>36037</td>\n",
       "      <td>44</td>\n",
       "      <td>2021</td>\n",
       "      <td>General</td>\n",
       "      <td>Not elected</td>\n",
       "      <td>Jemmah, Rachid</td>\n",
       "      <td>2021-09-20</td>\n",
       "      <td>Not incumbent</td>\n",
       "      <td>M</td>\n",
       "      <td>NaN</td>\n",
       "      <td>...</td>\n",
       "      <td>Not acclaimed</td>\n",
       "      <td>Not switcher</td>\n",
       "      <td>Single</td>\n",
       "      <td>Green Party of Canada</td>\n",
       "      <td>Green</td>\n",
       "      <td>Third_Party</td>\n",
       "      <td>Liberal Party of Canada</td>\n",
       "      <td>Liberal</td>\n",
       "      <td>Liberal</td>\n",
       "      <td>9</td>\n",
       "    </tr>\n",
       "    <tr>\n",
       "      <th>46524</th>\n",
       "      <td>32856</td>\n",
       "      <td>44</td>\n",
       "      <td>2021</td>\n",
       "      <td>General</td>\n",
       "      <td>Elected</td>\n",
       "      <td>McLeod, Michael</td>\n",
       "      <td>2021-09-20</td>\n",
       "      <td>Incumbent</td>\n",
       "      <td>M</td>\n",
       "      <td>1959.0</td>\n",
       "      <td>...</td>\n",
       "      <td>Not acclaimed</td>\n",
       "      <td>Not switcher</td>\n",
       "      <td>Single</td>\n",
       "      <td>Liberal Party of Canada</td>\n",
       "      <td>Liberal</td>\n",
       "      <td>Liberal</td>\n",
       "      <td>Liberal Party of Canada</td>\n",
       "      <td>Liberal</td>\n",
       "      <td>Liberal</td>\n",
       "      <td>5</td>\n",
       "    </tr>\n",
       "    <tr>\n",
       "      <th>46525</th>\n",
       "      <td>35991</td>\n",
       "      <td>44</td>\n",
       "      <td>2021</td>\n",
       "      <td>General</td>\n",
       "      <td>Not elected</td>\n",
       "      <td>Joshi, Medha</td>\n",
       "      <td>2021-09-20</td>\n",
       "      <td>Not incumbent</td>\n",
       "      <td>F</td>\n",
       "      <td>NaN</td>\n",
       "      <td>...</td>\n",
       "      <td>Not acclaimed</td>\n",
       "      <td>Not switcher</td>\n",
       "      <td>Single</td>\n",
       "      <td>Conservative Party of Canada</td>\n",
       "      <td>Conservative</td>\n",
       "      <td>Conservative</td>\n",
       "      <td>Liberal Party of Canada</td>\n",
       "      <td>Liberal</td>\n",
       "      <td>Liberal</td>\n",
       "      <td>3</td>\n",
       "    </tr>\n",
       "  </tbody>\n",
       "</table>\n",
       "<p>5 rows × 31 columns</p>\n",
       "</div>"
      ],
      "text/plain": [
       "          id  parliament  year type_elxn      elected   candidate_name  \\\n",
       "46521  36038          44  2021   General  Not elected   Bandou, Rachid   \n",
       "46522  33663          44  2021   General      Elected     Zahid, Salma   \n",
       "46523  36037          44  2021   General  Not elected   Jemmah, Rachid   \n",
       "46524  32856          44  2021   General      Elected  McLeod, Michael   \n",
       "46525  35991          44  2021   General  Not elected     Joshi, Medha   \n",
       "\n",
       "            edate      incumbent gender  birth_year  ...      acclaimed  \\\n",
       "46521  2021-09-20  Not incumbent      M         NaN  ...  Not acclaimed   \n",
       "46522  2021-09-20      Incumbent      F      1970.0  ...  Not acclaimed   \n",
       "46523  2021-09-20  Not incumbent      M         NaN  ...  Not acclaimed   \n",
       "46524  2021-09-20      Incumbent      M      1959.0  ...  Not acclaimed   \n",
       "46525  2021-09-20  Not incumbent      F         NaN  ...  Not acclaimed   \n",
       "\n",
       "           switcher multiple_candidacy                     party_raw  \\\n",
       "46521  Not switcher             Single                Bloc Québécois   \n",
       "46522  Not switcher             Single       Liberal Party of Canada   \n",
       "46523  Not switcher             Single         Green Party of Canada   \n",
       "46524  Not switcher             Single       Liberal Party of Canada   \n",
       "46525  Not switcher             Single  Conservative Party of Canada   \n",
       "\n",
       "      party_minor_group party_major_group            gov_party_raw  \\\n",
       "46521              Bloc              Bloc  Liberal Party of Canada   \n",
       "46522           Liberal           Liberal  Liberal Party of Canada   \n",
       "46523             Green       Third_Party  Liberal Party of Canada   \n",
       "46524           Liberal           Liberal  Liberal Party of Canada   \n",
       "46525      Conservative      Conservative  Liberal Party of Canada   \n",
       "\n",
       "      gov_minor_group gov_major_group  num_candidates  \n",
       "46521         Liberal         Liberal               5  \n",
       "46522         Liberal         Liberal               5  \n",
       "46523         Liberal         Liberal               9  \n",
       "46524         Liberal         Liberal               5  \n",
       "46525         Liberal         Liberal               3  \n",
       "\n",
       "[5 rows x 31 columns]"
      ]
     },
     "execution_count": 32,
     "metadata": {},
     "output_type": "execute_result"
    }
   ],
   "source": [
    "df.tail(5) # Peek at the last n rows."
   ]
  },
  {
   "cell_type": "code",
   "execution_count": 33,
   "metadata": {
    "slideshow": {
     "slide_type": "-"
    }
   },
   "outputs": [
    {
     "data": {
      "text/html": [
       "<div>\n",
       "<style scoped>\n",
       "    .dataframe tbody tr th:only-of-type {\n",
       "        vertical-align: middle;\n",
       "    }\n",
       "\n",
       "    .dataframe tbody tr th {\n",
       "        vertical-align: top;\n",
       "    }\n",
       "\n",
       "    .dataframe thead th {\n",
       "        text-align: right;\n",
       "    }\n",
       "</style>\n",
       "<table border=\"1\" class=\"dataframe\">\n",
       "  <thead>\n",
       "    <tr style=\"text-align: right;\">\n",
       "      <th></th>\n",
       "      <th>id</th>\n",
       "      <th>parliament</th>\n",
       "      <th>year</th>\n",
       "      <th>type_elxn</th>\n",
       "      <th>elected</th>\n",
       "      <th>candidate_name</th>\n",
       "      <th>edate</th>\n",
       "      <th>incumbent</th>\n",
       "      <th>gender</th>\n",
       "      <th>birth_year</th>\n",
       "      <th>...</th>\n",
       "      <th>acclaimed</th>\n",
       "      <th>switcher</th>\n",
       "      <th>multiple_candidacy</th>\n",
       "      <th>party_raw</th>\n",
       "      <th>party_minor_group</th>\n",
       "      <th>party_major_group</th>\n",
       "      <th>gov_party_raw</th>\n",
       "      <th>gov_minor_group</th>\n",
       "      <th>gov_major_group</th>\n",
       "      <th>num_candidates</th>\n",
       "    </tr>\n",
       "  </thead>\n",
       "  <tbody>\n",
       "    <tr>\n",
       "      <th>12978</th>\n",
       "      <td>29551</td>\n",
       "      <td>22</td>\n",
       "      <td>1953</td>\n",
       "      <td>General</td>\n",
       "      <td>Not elected</td>\n",
       "      <td>THOMAS, Joseph Douglas</td>\n",
       "      <td>1953-08-10</td>\n",
       "      <td>Not incumbent</td>\n",
       "      <td>M</td>\n",
       "      <td>NaN</td>\n",
       "      <td>...</td>\n",
       "      <td>Not acclaimed</td>\n",
       "      <td>Not switcher</td>\n",
       "      <td>Single</td>\n",
       "      <td>Liberal</td>\n",
       "      <td>Liberal</td>\n",
       "      <td>Liberal</td>\n",
       "      <td>Liberal Party of Canada</td>\n",
       "      <td>Liberal</td>\n",
       "      <td>Liberal</td>\n",
       "      <td>4</td>\n",
       "    </tr>\n",
       "    <tr>\n",
       "      <th>26298</th>\n",
       "      <td>1702</td>\n",
       "      <td>34</td>\n",
       "      <td>1988</td>\n",
       "      <td>General</td>\n",
       "      <td>Not elected</td>\n",
       "      <td>BIZZELL, Maggie</td>\n",
       "      <td>1988-11-21</td>\n",
       "      <td>Not incumbent</td>\n",
       "      <td>F</td>\n",
       "      <td>NaN</td>\n",
       "      <td>...</td>\n",
       "      <td>Not acclaimed</td>\n",
       "      <td>Not switcher</td>\n",
       "      <td>Single</td>\n",
       "      <td>Communist Party of Canada</td>\n",
       "      <td>Communist</td>\n",
       "      <td>Third_Party</td>\n",
       "      <td>Progressive Conservative Party</td>\n",
       "      <td>Conservative</td>\n",
       "      <td>Conservative</td>\n",
       "      <td>5</td>\n",
       "    </tr>\n",
       "    <tr>\n",
       "      <th>41311</th>\n",
       "      <td>32852</td>\n",
       "      <td>42</td>\n",
       "      <td>2015</td>\n",
       "      <td>General</td>\n",
       "      <td>Not elected</td>\n",
       "      <td>MCLAREN, David</td>\n",
       "      <td>2015-10-19</td>\n",
       "      <td>Not incumbent</td>\n",
       "      <td>M</td>\n",
       "      <td>NaN</td>\n",
       "      <td>...</td>\n",
       "      <td>Not acclaimed</td>\n",
       "      <td>Not switcher</td>\n",
       "      <td>Single</td>\n",
       "      <td>New Democratic Party</td>\n",
       "      <td>NDP</td>\n",
       "      <td>CCF_NDP</td>\n",
       "      <td>Liberal Party of Canada</td>\n",
       "      <td>Liberal</td>\n",
       "      <td>Liberal</td>\n",
       "      <td>4</td>\n",
       "    </tr>\n",
       "    <tr>\n",
       "      <th>6390</th>\n",
       "      <td>30050</td>\n",
       "      <td>13</td>\n",
       "      <td>1917</td>\n",
       "      <td>General</td>\n",
       "      <td>Elected</td>\n",
       "      <td>TURRIFF, John Gillanders</td>\n",
       "      <td>1917-12-17</td>\n",
       "      <td>Incumbent</td>\n",
       "      <td>M</td>\n",
       "      <td>1855.0</td>\n",
       "      <td>...</td>\n",
       "      <td>Not acclaimed</td>\n",
       "      <td>Not switcher</td>\n",
       "      <td>Single</td>\n",
       "      <td>Unionist</td>\n",
       "      <td>Conservative</td>\n",
       "      <td>Conservative</td>\n",
       "      <td>Conservative</td>\n",
       "      <td>Conservative</td>\n",
       "      <td>Conservative</td>\n",
       "      <td>2</td>\n",
       "    </tr>\n",
       "    <tr>\n",
       "      <th>22473</th>\n",
       "      <td>6925</td>\n",
       "      <td>31</td>\n",
       "      <td>1979</td>\n",
       "      <td>General</td>\n",
       "      <td>Not elected</td>\n",
       "      <td>FOGWILL, Lynn</td>\n",
       "      <td>1979-05-22</td>\n",
       "      <td>Not incumbent</td>\n",
       "      <td>F</td>\n",
       "      <td>NaN</td>\n",
       "      <td>...</td>\n",
       "      <td>Not acclaimed</td>\n",
       "      <td>Not switcher</td>\n",
       "      <td>Single</td>\n",
       "      <td>New Democratic Party</td>\n",
       "      <td>NDP</td>\n",
       "      <td>CCF_NDP</td>\n",
       "      <td>Progressive Conservative Party</td>\n",
       "      <td>Conservative</td>\n",
       "      <td>Conservative</td>\n",
       "      <td>5</td>\n",
       "    </tr>\n",
       "  </tbody>\n",
       "</table>\n",
       "<p>5 rows × 31 columns</p>\n",
       "</div>"
      ],
      "text/plain": [
       "          id  parliament  year type_elxn      elected  \\\n",
       "12978  29551          22  1953   General  Not elected   \n",
       "26298   1702          34  1988   General  Not elected   \n",
       "41311  32852          42  2015   General  Not elected   \n",
       "6390   30050          13  1917   General      Elected   \n",
       "22473   6925          31  1979   General  Not elected   \n",
       "\n",
       "                 candidate_name       edate      incumbent gender  birth_year  \\\n",
       "12978    THOMAS, Joseph Douglas  1953-08-10  Not incumbent      M         NaN   \n",
       "26298           BIZZELL, Maggie  1988-11-21  Not incumbent      F         NaN   \n",
       "41311            MCLAREN, David  2015-10-19  Not incumbent      M         NaN   \n",
       "6390   TURRIFF, John Gillanders  1917-12-17      Incumbent      M      1855.0   \n",
       "22473             FOGWILL, Lynn  1979-05-22  Not incumbent      F         NaN   \n",
       "\n",
       "       ...      acclaimed      switcher multiple_candidacy  \\\n",
       "12978  ...  Not acclaimed  Not switcher             Single   \n",
       "26298  ...  Not acclaimed  Not switcher             Single   \n",
       "41311  ...  Not acclaimed  Not switcher             Single   \n",
       "6390   ...  Not acclaimed  Not switcher             Single   \n",
       "22473  ...  Not acclaimed  Not switcher             Single   \n",
       "\n",
       "                       party_raw party_minor_group party_major_group  \\\n",
       "12978                    Liberal           Liberal           Liberal   \n",
       "26298  Communist Party of Canada         Communist       Third_Party   \n",
       "41311       New Democratic Party               NDP           CCF_NDP   \n",
       "6390                    Unionist      Conservative      Conservative   \n",
       "22473       New Democratic Party               NDP           CCF_NDP   \n",
       "\n",
       "                        gov_party_raw gov_minor_group gov_major_group  \\\n",
       "12978         Liberal Party of Canada         Liberal         Liberal   \n",
       "26298  Progressive Conservative Party    Conservative    Conservative   \n",
       "41311         Liberal Party of Canada         Liberal         Liberal   \n",
       "6390                     Conservative    Conservative    Conservative   \n",
       "22473  Progressive Conservative Party    Conservative    Conservative   \n",
       "\n",
       "       num_candidates  \n",
       "12978               4  \n",
       "26298               5  \n",
       "41311               4  \n",
       "6390                2  \n",
       "22473               5  \n",
       "\n",
       "[5 rows x 31 columns]"
      ]
     },
     "execution_count": 33,
     "metadata": {},
     "output_type": "execute_result"
    }
   ],
   "source": [
    "df.sample(5) # Peek at a random sample of rows."
   ]
  },
  {
   "cell_type": "markdown",
   "metadata": {
    "slideshow": {
     "slide_type": "slide"
    }
   },
   "source": [
    "### Data Cleaning\n",
    "\n",
    "Let's get familiar with some `pandas` data cleaning tools.\n",
    "\n",
    "Our first data cleaning step is to clean up the data types.\n",
    "\n",
    "Sometimes `pandas` fails to assign the right dtype when constructing a variable. "
   ]
  },
  {
   "cell_type": "markdown",
   "metadata": {
    "slideshow": {
     "slide_type": "slide"
    }
   },
   "source": [
    "#### Adjusting Datatypes\n",
    "\n",
    "String data are typically assigned the 'object' type.\n",
    "\n",
    "This is `pandas`'s way of signaling it doesn't really know how to interpret the data.\n",
    "\n",
    "In this dataset, almost all columns with string data represent categorical\n",
    "variables. \n",
    "\n",
    "However, edate is a date, and candidate_name and occupation are a free-form strings."
   ]
  },
  {
   "cell_type": "code",
   "execution_count": 34,
   "metadata": {
    "slideshow": {
     "slide_type": "-"
    }
   },
   "outputs": [
    {
     "name": "stdout",
     "output_type": "stream",
     "text": [
      "Object-type columns: Index(['type_elxn', 'elected', 'candidate_name', 'edate', 'incumbent',\n",
      "       'gender', 'country_birth', 'lgbtq2_out', 'indigenousorigins',\n",
      "       'occupation', 'lawyer', 'censuscategory', 'riding', 'province',\n",
      "       'acclaimed', 'switcher', 'multiple_candidacy', 'party_raw',\n",
      "       'party_minor_group', 'party_major_group', 'gov_party_raw',\n",
      "       'gov_minor_group', 'gov_major_group'],\n",
      "      dtype='object').\n"
     ]
    }
   ],
   "source": [
    "object_cols = df.select_dtypes(include=\"object\").columns\n",
    "print(f\"Object-type columns: {object_cols}.\")"
   ]
  },
  {
   "cell_type": "markdown",
   "metadata": {
    "slideshow": {
     "slide_type": "slide"
    }
   },
   "source": [
    "We can cast the affected variables to the correct dtypes as follows."
   ]
  },
  {
   "cell_type": "code",
   "execution_count": 35,
   "metadata": {
    "slideshow": {
     "slide_type": "-"
    }
   },
   "outputs": [],
   "source": [
    "# Cast edate as a datetime variable\n",
    "df.edate = pd.to_datetime(df.edate, yearfirst=True) \n",
    "\n",
    "# Cast object variables as categorical\n",
    "for col in df.select_dtypes(include=\"object\").columns:\n",
    "    if col not in [\"candidate_name\", \"occupation\"]: \n",
    "        df[col] = df[col].astype(\"category\")"
   ]
  },
  {
   "cell_type": "markdown",
   "metadata": {
    "slideshow": {
     "slide_type": "slide"
    }
   },
   "source": [
    " Let's check what happened to the object-type columns."
   ]
  },
  {
   "cell_type": "code",
   "execution_count": 36,
   "metadata": {
    "slideshow": {
     "slide_type": "-"
    }
   },
   "outputs": [
    {
     "data": {
      "text/plain": [
       "type_elxn                   category\n",
       "elected                     category\n",
       "candidate_name                object\n",
       "edate                 datetime64[ns]\n",
       "incumbent                   category\n",
       "gender                      category\n",
       "country_birth               category\n",
       "lgbtq2_out                  category\n",
       "indigenousorigins           category\n",
       "occupation                    object\n",
       "lawyer                      category\n",
       "censuscategory              category\n",
       "riding                      category\n",
       "province                    category\n",
       "acclaimed                   category\n",
       "switcher                    category\n",
       "multiple_candidacy          category\n",
       "party_raw                   category\n",
       "party_minor_group           category\n",
       "party_major_group           category\n",
       "gov_party_raw               category\n",
       "gov_minor_group             category\n",
       "gov_major_group             category\n",
       "dtype: object"
      ]
     },
     "execution_count": 36,
     "metadata": {},
     "output_type": "execute_result"
    }
   ],
   "source": [
    "df[object_cols].dtypes"
   ]
  },
  {
   "cell_type": "markdown",
   "metadata": {
    "slideshow": {
     "slide_type": "slide"
    }
   },
   "source": [
    "Finally, let's take a look at the numerical data.\n",
    "\n",
    "Do you notice anything weird?"
   ]
  },
  {
   "cell_type": "code",
   "execution_count": 37,
   "metadata": {
    "slideshow": {
     "slide_type": "-"
    }
   },
   "outputs": [
    {
     "name": "stdout",
     "output_type": "stream",
     "text": [
      "Float columns: Index(['birth_year', 'riding_id', 'votes', 'percent_votes'], dtype='object')\n",
      "Int columns: Index(['id', 'parliament', 'year', 'num_candidates'], dtype='object')\n"
     ]
    }
   ],
   "source": [
    "float_cols = df.select_dtypes(\"float\").columns\n",
    "print(f\"Float columns: {float_cols}\")\n",
    "\n",
    "int_cols = df.select_dtypes(\"int\").columns\n",
    "print(f\"Int columns: {int_cols}\")"
   ]
  },
  {
   "cell_type": "markdown",
   "metadata": {
    "slideshow": {
     "slide_type": "fragment"
    }
   },
   "source": [
    "Of the four float columns, it is only natural to represent `percent_votes` as a \n",
    "float type variable. \n",
    "\n",
    "For `riding_id`, we are better off using a categorical datatype, even though the \n",
    "values look like integers. \n",
    "\n",
    "Likewise, the `id` column should also be viewed as a\n",
    "categorical. In both cases, the ordering of the values is not meaningful."
   ]
  },
  {
   "cell_type": "markdown",
   "metadata": {
    "slideshow": {
     "slide_type": "slide"
    }
   },
   "source": [
    "Here is how we convert the dataype of `riding_id` and `id`."
   ]
  },
  {
   "cell_type": "code",
   "execution_count": 38,
   "metadata": {
    "slideshow": {
     "slide_type": "-"
    }
   },
   "outputs": [],
   "source": [
    "df.riding_id = df.riding_id.astype(\"category\")\n",
    "df.id = df.id.astype(\"category\")"
   ]
  },
  {
   "cell_type": "markdown",
   "metadata": {
    "slideshow": {
     "slide_type": "slide"
    }
   },
   "source": [
    "The `birth_year` and `votes` columns should be using an integer dtype.\n",
    "\n",
    "But why were three variables get 'mis-coded' as float in the first place? \n",
    "\n",
    "Perhaps we can get a clue by comparing to correct int variables"
   ]
  },
  {
   "cell_type": "code",
   "execution_count": 39,
   "metadata": {
    "slideshow": {
     "slide_type": "-"
    }
   },
   "outputs": [
    {
     "name": "stdout",
     "output_type": "stream",
     "text": [
      "<class 'pandas.core.frame.DataFrame'>\n",
      "RangeIndex: 46526 entries, 0 to 46525\n",
      "Data columns (total 4 columns):\n",
      " #   Column          Non-Null Count  Dtype  \n",
      "---  ------          --------------  -----  \n",
      " 0   birth_year      12276 non-null  float64\n",
      " 1   votes           45835 non-null  float64\n",
      " 2   year            46526 non-null  int64  \n",
      " 3   num_candidates  46526 non-null  int64  \n",
      "dtypes: float64(2), int64(2)\n",
      "memory usage: 1.4 MB\n"
     ]
    }
   ],
   "source": [
    "df[[\"birth_year\", \"votes\", \"year\", \"num_candidates\"]].info()"
   ]
  },
  {
   "cell_type": "markdown",
   "metadata": {
    "slideshow": {
     "slide_type": "slide"
    }
   },
   "source": [
    "It's because the default integer datatype does not support missing\n",
    "values! \n",
    "\n",
    "Luckily, `pandas` has another integer datatype that supports missing values. We\n",
    "can just cast to that."
   ]
  },
  {
   "cell_type": "code",
   "execution_count": 40,
   "metadata": {
    "slideshow": {
     "slide_type": "-"
    }
   },
   "outputs": [],
   "source": [
    "df.birth_year = df.birth_year.astype(\"Int64\")\n",
    "df.votes = df.votes.astype(\"Int64\")"
   ]
  },
  {
   "cell_type": "markdown",
   "metadata": {
    "slideshow": {
     "slide_type": "fragment"
    }
   },
   "source": [
    "Don't mix up 'int64' with 'Int64'! In pandas, they are different: \n",
    "- `int64` refers to the regular int type that has no missing value support\n",
    "- `Int64` refers to the to the int type with missing value support"
   ]
  },
  {
   "cell_type": "markdown",
   "metadata": {
    "slideshow": {
     "slide_type": "slide"
    }
   },
   "source": [
    "#### Cleaning Categorical Variables\n",
    "\n",
    "Categorical variables tend to require some extra attention, even in the most\n",
    "well-curated datasets."
   ]
  },
  {
   "cell_type": "markdown",
   "metadata": {
    "slideshow": {
     "slide_type": "fragment"
    }
   },
   "source": [
    "Take a look at the values of the `gender` variable. \n",
    "\n",
    "Keep in mind what the data's README file says about this variable:\n",
    "> gender is a binary factor variable encoding candidate gender."
   ]
  },
  {
   "cell_type": "code",
   "execution_count": 41,
   "metadata": {
    "slideshow": {
     "slide_type": "-"
    }
   },
   "outputs": [
    {
     "data": {
      "text/plain": [
       "Index(['2', 'F', 'M'], dtype='object')"
      ]
     },
     "execution_count": 41,
     "metadata": {},
     "output_type": "execute_result"
    }
   ],
   "source": [
    "df.gender.cat.categories # This is how we access category names"
   ]
  },
  {
   "cell_type": "markdown",
   "metadata": {
    "slideshow": {
     "slide_type": "slide"
    }
   },
   "source": [
    "We were told `gender` is supposed to be a binary variable, but we got three values?\n",
    "\n",
    "So what's going on here? \n",
    "\n",
    "To get a better idea, let's tabulate the variable."
   ]
  },
  {
   "cell_type": "code",
   "execution_count": 42,
   "metadata": {
    "slideshow": {
     "slide_type": "-"
    }
   },
   "outputs": [
    {
     "data": {
      "text/plain": [
       "M    39938\n",
       "F     6585\n",
       "2        2\n",
       "Name: gender, dtype: int64"
      ]
     },
     "execution_count": 42,
     "metadata": {},
     "output_type": "execute_result"
    }
   ],
   "source": [
    "df.gender.value_counts()"
   ]
  },
  {
   "cell_type": "markdown",
   "metadata": {
    "slideshow": {
     "slide_type": "slide"
    }
   },
   "source": [
    "Let's look up these cases by subsetting the data. "
   ]
  },
  {
   "cell_type": "code",
   "execution_count": 43,
   "metadata": {
    "slideshow": {
     "slide_type": "-"
    }
   },
   "outputs": [
    {
     "data": {
      "text/html": [
       "<div>\n",
       "<style scoped>\n",
       "    .dataframe tbody tr th:only-of-type {\n",
       "        vertical-align: middle;\n",
       "    }\n",
       "\n",
       "    .dataframe tbody tr th {\n",
       "        vertical-align: top;\n",
       "    }\n",
       "\n",
       "    .dataframe thead th {\n",
       "        text-align: right;\n",
       "    }\n",
       "</style>\n",
       "<table border=\"1\" class=\"dataframe\">\n",
       "  <thead>\n",
       "    <tr style=\"text-align: right;\">\n",
       "      <th></th>\n",
       "      <th>id</th>\n",
       "      <th>parliament</th>\n",
       "      <th>year</th>\n",
       "      <th>type_elxn</th>\n",
       "      <th>elected</th>\n",
       "      <th>candidate_name</th>\n",
       "      <th>edate</th>\n",
       "      <th>incumbent</th>\n",
       "      <th>gender</th>\n",
       "      <th>birth_year</th>\n",
       "      <th>...</th>\n",
       "      <th>acclaimed</th>\n",
       "      <th>switcher</th>\n",
       "      <th>multiple_candidacy</th>\n",
       "      <th>party_raw</th>\n",
       "      <th>party_minor_group</th>\n",
       "      <th>party_major_group</th>\n",
       "      <th>gov_party_raw</th>\n",
       "      <th>gov_minor_group</th>\n",
       "      <th>gov_major_group</th>\n",
       "      <th>num_candidates</th>\n",
       "    </tr>\n",
       "  </thead>\n",
       "  <tbody>\n",
       "    <tr>\n",
       "      <th>45911</th>\n",
       "      <td>34718</td>\n",
       "      <td>44</td>\n",
       "      <td>2021</td>\n",
       "      <td>General</td>\n",
       "      <td>Not elected</td>\n",
       "      <td>Walker, Gillian</td>\n",
       "      <td>2021-09-20</td>\n",
       "      <td>Not incumbent</td>\n",
       "      <td>2</td>\n",
       "      <td>&lt;NA&gt;</td>\n",
       "      <td>...</td>\n",
       "      <td>Not acclaimed</td>\n",
       "      <td>Not switcher</td>\n",
       "      <td>Single</td>\n",
       "      <td>Green Party of Canada</td>\n",
       "      <td>Green</td>\n",
       "      <td>Third_Party</td>\n",
       "      <td>Liberal Party of Canada</td>\n",
       "      <td>Liberal</td>\n",
       "      <td>Liberal</td>\n",
       "      <td>5</td>\n",
       "    </tr>\n",
       "    <tr>\n",
       "      <th>46045</th>\n",
       "      <td>35663</td>\n",
       "      <td>44</td>\n",
       "      <td>2021</td>\n",
       "      <td>General</td>\n",
       "      <td>Not elected</td>\n",
       "      <td>Woodmass, Rowan</td>\n",
       "      <td>2021-09-20</td>\n",
       "      <td>Not incumbent</td>\n",
       "      <td>2</td>\n",
       "      <td>&lt;NA&gt;</td>\n",
       "      <td>...</td>\n",
       "      <td>Not acclaimed</td>\n",
       "      <td>Not switcher</td>\n",
       "      <td>Single</td>\n",
       "      <td>New Democratic Party</td>\n",
       "      <td>NDP</td>\n",
       "      <td>CCF_NDP</td>\n",
       "      <td>Liberal Party of Canada</td>\n",
       "      <td>Liberal</td>\n",
       "      <td>Liberal</td>\n",
       "      <td>6</td>\n",
       "    </tr>\n",
       "  </tbody>\n",
       "</table>\n",
       "<p>2 rows × 31 columns</p>\n",
       "</div>"
      ],
      "text/plain": [
       "          id  parliament  year type_elxn      elected   candidate_name  \\\n",
       "45911  34718          44  2021   General  Not elected  Walker, Gillian   \n",
       "46045  35663          44  2021   General  Not elected  Woodmass, Rowan   \n",
       "\n",
       "           edate      incumbent gender  birth_year  ...      acclaimed  \\\n",
       "45911 2021-09-20  Not incumbent      2        <NA>  ...  Not acclaimed   \n",
       "46045 2021-09-20  Not incumbent      2        <NA>  ...  Not acclaimed   \n",
       "\n",
       "           switcher multiple_candidacy              party_raw  \\\n",
       "45911  Not switcher             Single  Green Party of Canada   \n",
       "46045  Not switcher             Single   New Democratic Party   \n",
       "\n",
       "      party_minor_group party_major_group            gov_party_raw  \\\n",
       "45911             Green       Third_Party  Liberal Party of Canada   \n",
       "46045               NDP           CCF_NDP  Liberal Party of Canada   \n",
       "\n",
       "      gov_minor_group gov_major_group  num_candidates  \n",
       "45911         Liberal         Liberal               5  \n",
       "46045         Liberal         Liberal               6  \n",
       "\n",
       "[2 rows x 31 columns]"
      ]
     },
     "execution_count": 43,
     "metadata": {},
     "output_type": "execute_result"
    }
   ],
   "source": [
    "df[df.gender == \"2\"]"
   ]
  },
  {
   "cell_type": "markdown",
   "metadata": {},
   "source": [
    "These candidates are from the most recent election and, if you look them up, you'll find that they both have non-binary gender identity. "
   ]
  },
  {
   "cell_type": "markdown",
   "metadata": {
    "slideshow": {
     "slide_type": "slide"
    }
   },
   "source": [
    "We can recode the data to give those two cases more explicit labels. "
   ]
  },
  {
   "cell_type": "code",
   "execution_count": 44,
   "metadata": {
    "slideshow": {
     "slide_type": "-"
    }
   },
   "outputs": [
    {
     "data": {
      "text/plain": [
       "Index(['NB', 'F', 'M'], dtype='object')"
      ]
     },
     "execution_count": 44,
     "metadata": {},
     "output_type": "execute_result"
    }
   ],
   "source": [
    "df.gender = df.gender.replace({\"2\": \"NB\"})\n",
    "df.gender.cat.categories"
   ]
  },
  {
   "cell_type": "markdown",
   "metadata": {
    "slideshow": {
     "slide_type": "fragment"
    }
   },
   "source": [
    "Replace is very powerful and works with other variable types as well!\n",
    "\n",
    "It is particularly handy when you want to collapse multiple categories."
   ]
  },
  {
   "cell_type": "markdown",
   "metadata": {
    "slideshow": {
     "slide_type": "slide"
    }
   },
   "source": [
    "Another adjustment we can make is to rename categories. \n",
    "\n",
    "Why? Because it is confusing and difficult to work with\n",
    "poorly named categories."
   ]
  },
  {
   "cell_type": "markdown",
   "metadata": {
    "slideshow": {
     "slide_type": "fragment"
    }
   },
   "source": [
    "Take a look at the category names in the `censuscategory` variable. "
   ]
  },
  {
   "cell_type": "code",
   "execution_count": 45,
   "metadata": {
    "slideshow": {
     "slide_type": "-"
    }
   },
   "outputs": [
    {
     "data": {
      "text/plain": [
       "Index(['Business, finance and administration occupations',\n",
       "       'Health occupations', 'Management occupations', 'Members of Parliament',\n",
       "       'Natural and applied sciences and related occupations',\n",
       "       'Natural resources, agriculture and related production occupations',\n",
       "       'Occupations in art, culture, recreation and sport',\n",
       "       'Occupations in education, law and social, community and government services',\n",
       "       'Occupations in manufacturing and utilities',\n",
       "       'Sales and service occupations',\n",
       "       'Trades, transport and equipment operators and related occupations'],\n",
       "      dtype='object')"
      ]
     },
     "execution_count": 45,
     "metadata": {},
     "output_type": "execute_result"
    }
   ],
   "source": [
    "df.censuscategory.cat.categories"
   ]
  },
  {
   "cell_type": "markdown",
   "metadata": {
    "slideshow": {
     "slide_type": "slide"
    }
   },
   "source": [
    "`censuscategory` gives candidates' occupation according to the Census Canada taxonomy.\n",
    "\n",
    "These names are precise, but wordy. Let's abbreviate them. "
   ]
  },
  {
   "cell_type": "code",
   "execution_count": 46,
   "metadata": {
    "slideshow": {
     "slide_type": "-"
    }
   },
   "outputs": [
    {
     "data": {
      "text/plain": [
       "0       Sales\n",
       "1       Sales\n",
       "2      Social\n",
       "3      Social\n",
       "4      Health\n",
       "5    Business\n",
       "6         NaN\n",
       "7      Social\n",
       "8      Health\n",
       "9         NaN\n",
       "Name: censuscategory, dtype: category\n",
       "Categories (11, object): ['Business', 'Health', 'Management', 'MP', ..., 'Social', 'Manufacturing', 'Sales', 'Trades']"
      ]
     },
     "execution_count": 46,
     "metadata": {},
     "output_type": "execute_result"
    }
   ],
   "source": [
    "df.censuscategory = df.censuscategory.cat.rename_categories([\n",
    "    \"Business\", \"Health\", \"Management\", \"MP\", \"Science\", \"Resources\", \"Culture\",\n",
    "    \"Social\", \"Manufacturing\", \"Sales\", \"Trades\"\n",
    "])\n",
    "df.censuscategory.head(10)"
   ]
  },
  {
   "cell_type": "markdown",
   "metadata": {
    "slideshow": {
     "slide_type": "slide"
    }
   },
   "source": [
    "#### Subsetting the Data\n",
    "\n",
    "Often, we are not interested in the entirety of the data. It then makes sense to subset the data using the techniques we saw above. \n",
    "\n",
    "Here, we'll focus on a subset of the available variables in elections after 1990."
   ]
  },
  {
   "cell_type": "code",
   "execution_count": 62,
   "metadata": {},
   "outputs": [
    {
     "data": {
      "text/html": [
       "<div>\n",
       "<style scoped>\n",
       "    .dataframe tbody tr th:only-of-type {\n",
       "        vertical-align: middle;\n",
       "    }\n",
       "\n",
       "    .dataframe tbody tr th {\n",
       "        vertical-align: top;\n",
       "    }\n",
       "\n",
       "    .dataframe thead th {\n",
       "        text-align: right;\n",
       "    }\n",
       "</style>\n",
       "<table border=\"1\" class=\"dataframe\">\n",
       "  <thead>\n",
       "    <tr style=\"text-align: right;\">\n",
       "      <th></th>\n",
       "      <th>parliament</th>\n",
       "      <th>edate</th>\n",
       "      <th>year</th>\n",
       "      <th>province</th>\n",
       "      <th>riding</th>\n",
       "      <th>type_elxn</th>\n",
       "      <th>id</th>\n",
       "      <th>candidate_name</th>\n",
       "      <th>gender</th>\n",
       "      <th>birth_year</th>\n",
       "      <th>censuscategory</th>\n",
       "      <th>party_major_group</th>\n",
       "      <th>gov_major_group</th>\n",
       "      <th>acclaimed</th>\n",
       "      <th>votes</th>\n",
       "      <th>percent_votes</th>\n",
       "      <th>elected</th>\n",
       "    </tr>\n",
       "  </thead>\n",
       "  <tbody>\n",
       "    <tr>\n",
       "      <th>27908</th>\n",
       "      <td>35</td>\n",
       "      <td>1993-10-25</td>\n",
       "      <td>1993</td>\n",
       "      <td>Manitoba</td>\n",
       "      <td>WINNIPEG--ST. JAMES</td>\n",
       "      <td>General</td>\n",
       "      <td>1851</td>\n",
       "      <td>BLUMENSCHEIN, Peter</td>\n",
       "      <td>M</td>\n",
       "      <td>&lt;NA&gt;</td>\n",
       "      <td>Management</td>\n",
       "      <td>Reform_Alliance</td>\n",
       "      <td>Liberal</td>\n",
       "      <td>Not acclaimed</td>\n",
       "      <td>8246</td>\n",
       "      <td>20.965118</td>\n",
       "      <td>Not elected</td>\n",
       "    </tr>\n",
       "    <tr>\n",
       "      <th>27909</th>\n",
       "      <td>35</td>\n",
       "      <td>1993-10-25</td>\n",
       "      <td>1993</td>\n",
       "      <td>Ontario</td>\n",
       "      <td>Kent</td>\n",
       "      <td>General</td>\n",
       "      <td>18100</td>\n",
       "      <td>KNIGHT, Victor</td>\n",
       "      <td>M</td>\n",
       "      <td>&lt;NA&gt;</td>\n",
       "      <td>Social</td>\n",
       "      <td>Independent</td>\n",
       "      <td>Liberal</td>\n",
       "      <td>Not acclaimed</td>\n",
       "      <td>1014</td>\n",
       "      <td>2.790467</td>\n",
       "      <td>Not elected</td>\n",
       "    </tr>\n",
       "    <tr>\n",
       "      <th>27910</th>\n",
       "      <td>35</td>\n",
       "      <td>1993-10-25</td>\n",
       "      <td>1993</td>\n",
       "      <td>Ontario</td>\n",
       "      <td>LEEDS--GRENVILLE</td>\n",
       "      <td>General</td>\n",
       "      <td>1186</td>\n",
       "      <td>BEECROFT, Richard</td>\n",
       "      <td>M</td>\n",
       "      <td>&lt;NA&gt;</td>\n",
       "      <td>Social</td>\n",
       "      <td>Third_Party</td>\n",
       "      <td>Liberal</td>\n",
       "      <td>Not acclaimed</td>\n",
       "      <td>196</td>\n",
       "      <td>0.387819</td>\n",
       "      <td>Not elected</td>\n",
       "    </tr>\n",
       "    <tr>\n",
       "      <th>27911</th>\n",
       "      <td>35</td>\n",
       "      <td>1993-10-25</td>\n",
       "      <td>1993</td>\n",
       "      <td>Ontario</td>\n",
       "      <td>ETOBICOKE CENTRE</td>\n",
       "      <td>General</td>\n",
       "      <td>5704</td>\n",
       "      <td>DONLEY, Charles</td>\n",
       "      <td>M</td>\n",
       "      <td>&lt;NA&gt;</td>\n",
       "      <td>Sales</td>\n",
       "      <td>Conservative</td>\n",
       "      <td>Liberal</td>\n",
       "      <td>Not acclaimed</td>\n",
       "      <td>9242</td>\n",
       "      <td>19.514359</td>\n",
       "      <td>Not elected</td>\n",
       "    </tr>\n",
       "    <tr>\n",
       "      <th>27912</th>\n",
       "      <td>35</td>\n",
       "      <td>1993-10-25</td>\n",
       "      <td>1993</td>\n",
       "      <td>Alberta</td>\n",
       "      <td>VEGREVILLE</td>\n",
       "      <td>General</td>\n",
       "      <td>21076</td>\n",
       "      <td>LEHR, Roger</td>\n",
       "      <td>M</td>\n",
       "      <td>&lt;NA&gt;</td>\n",
       "      <td>Business</td>\n",
       "      <td>Conservative</td>\n",
       "      <td>Liberal</td>\n",
       "      <td>Not acclaimed</td>\n",
       "      <td>8180</td>\n",
       "      <td>22.692596</td>\n",
       "      <td>Not elected</td>\n",
       "    </tr>\n",
       "  </tbody>\n",
       "</table>\n",
       "</div>"
      ],
      "text/plain": [
       "       parliament      edate  year  province               riding type_elxn  \\\n",
       "27908          35 1993-10-25  1993  Manitoba  WINNIPEG--ST. JAMES   General   \n",
       "27909          35 1993-10-25  1993   Ontario                 Kent   General   \n",
       "27910          35 1993-10-25  1993   Ontario     LEEDS--GRENVILLE   General   \n",
       "27911          35 1993-10-25  1993   Ontario     ETOBICOKE CENTRE   General   \n",
       "27912          35 1993-10-25  1993   Alberta           VEGREVILLE   General   \n",
       "\n",
       "          id       candidate_name gender  birth_year censuscategory  \\\n",
       "27908   1851  BLUMENSCHEIN, Peter      M        <NA>     Management   \n",
       "27909  18100       KNIGHT, Victor      M        <NA>         Social   \n",
       "27910   1186    BEECROFT, Richard      M        <NA>         Social   \n",
       "27911   5704      DONLEY, Charles      M        <NA>          Sales   \n",
       "27912  21076          LEHR, Roger      M        <NA>       Business   \n",
       "\n",
       "      party_major_group gov_major_group      acclaimed  votes  percent_votes  \\\n",
       "27908   Reform_Alliance         Liberal  Not acclaimed   8246      20.965118   \n",
       "27909       Independent         Liberal  Not acclaimed   1014       2.790467   \n",
       "27910       Third_Party         Liberal  Not acclaimed    196       0.387819   \n",
       "27911      Conservative         Liberal  Not acclaimed   9242      19.514359   \n",
       "27912      Conservative         Liberal  Not acclaimed   8180      22.692596   \n",
       "\n",
       "           elected  \n",
       "27908  Not elected  \n",
       "27909  Not elected  \n",
       "27910  Not elected  \n",
       "27911  Not elected  \n",
       "27912  Not elected  "
      ]
     },
     "execution_count": 62,
     "metadata": {},
     "output_type": "execute_result"
    }
   ],
   "source": [
    "df = df[(df.year > 1990) & (df.type_elxn == \"General\")] # keep general election data from 1990 on\n",
    "df = df[[\"parliament\", \"edate\", \"year\", \"province\", \"riding\", \"id\", \"candidate_name\", \"birth_year\", \n",
    "         \"censuscategory\", \"party_major_group\", \"votes\", \"percent_votes\", \"elected\"]]\n",
    "df.head(5)"
   ]
  },
  {
   "cell_type": "markdown",
   "metadata": {
    "slideshow": {
     "slide_type": "slide"
    }
   },
   "source": [
    "### Handling Missing Data\n",
    "\n",
    "Let's try to identify where we have missing values."
   ]
  },
  {
   "cell_type": "code",
   "execution_count": 48,
   "metadata": {},
   "outputs": [
    {
     "data": {
      "text/plain": [
       "gender                1\n",
       "birth_year        34250\n",
       "censuscategory     5596\n",
       "acclaimed            36\n",
       "votes               691\n",
       "percent_votes        73\n",
       "dtype: int64"
      ]
     },
     "execution_count": 48,
     "metadata": {},
     "output_type": "execute_result"
    }
   ],
   "source": [
    "na_counts = df.isna().sum() # .sum() is an aggregation function!\n",
    "na_counts[na_counts > 0]"
   ]
  },
  {
   "cell_type": "markdown",
   "metadata": {
    "slideshow": {
     "slide_type": "slide"
    }
   },
   "source": [
    "`pandas` gives us several options to deal with missing values.\n",
    "\n",
    "Our options are basically to do nothing, drop the missing values, or impute them (i.e., fill them in).\n",
    "\n",
    "Let's work up to dealing with missing data in a complex data set like this one."
   ]
  },
  {
   "cell_type": "markdown",
   "metadata": {
    "slideshow": {
     "slide_type": "slide"
    }
   },
   "source": [
    "To keep things simple, we will focus on a single candidate, Elizabeth May."
   ]
  },
  {
   "cell_type": "code",
   "execution_count": 49,
   "metadata": {
    "scrolled": true,
    "slideshow": {
     "slide_type": "-"
    }
   },
   "outputs": [
    {
     "data": {
      "text/html": [
       "<div>\n",
       "<style scoped>\n",
       "    .dataframe tbody tr th:only-of-type {\n",
       "        vertical-align: middle;\n",
       "    }\n",
       "\n",
       "    .dataframe tbody tr th {\n",
       "        vertical-align: top;\n",
       "    }\n",
       "\n",
       "    .dataframe thead th {\n",
       "        text-align: right;\n",
       "    }\n",
       "</style>\n",
       "<table border=\"1\" class=\"dataframe\">\n",
       "  <thead>\n",
       "    <tr style=\"text-align: right;\">\n",
       "      <th></th>\n",
       "      <th>edate</th>\n",
       "      <th>birth_year</th>\n",
       "      <th>censuscategory</th>\n",
       "    </tr>\n",
       "  </thead>\n",
       "  <tbody>\n",
       "    <tr>\n",
       "      <th>37083</th>\n",
       "      <td>2006-11-27</td>\n",
       "      <td>&lt;NA&gt;</td>\n",
       "      <td>MP</td>\n",
       "    </tr>\n",
       "    <tr>\n",
       "      <th>38431</th>\n",
       "      <td>2008-10-14</td>\n",
       "      <td>&lt;NA&gt;</td>\n",
       "      <td>MP</td>\n",
       "    </tr>\n",
       "    <tr>\n",
       "      <th>38961</th>\n",
       "      <td>2011-05-02</td>\n",
       "      <td>1954</td>\n",
       "      <td>MP</td>\n",
       "    </tr>\n",
       "    <tr>\n",
       "      <th>41310</th>\n",
       "      <td>2015-10-19</td>\n",
       "      <td>1954</td>\n",
       "      <td>MP</td>\n",
       "    </tr>\n",
       "    <tr>\n",
       "      <th>44484</th>\n",
       "      <td>2019-10-21</td>\n",
       "      <td>1954</td>\n",
       "      <td>MP</td>\n",
       "    </tr>\n",
       "    <tr>\n",
       "      <th>45134</th>\n",
       "      <td>2021-09-20</td>\n",
       "      <td>1954</td>\n",
       "      <td>NaN</td>\n",
       "    </tr>\n",
       "  </tbody>\n",
       "</table>\n",
       "</div>"
      ],
      "text/plain": [
       "           edate  birth_year censuscategory\n",
       "37083 2006-11-27        <NA>             MP\n",
       "38431 2008-10-14        <NA>             MP\n",
       "38961 2011-05-02        1954             MP\n",
       "41310 2015-10-19        1954             MP\n",
       "44484 2019-10-21        1954             MP\n",
       "45134 2021-09-20        1954            NaN"
      ]
     },
     "execution_count": 49,
     "metadata": {},
     "output_type": "execute_result"
    }
   ],
   "source": [
    "elizabeth_may = df[df.id == 22644][[\"edate\", \"birth_year\", \"censuscategory\"]]\n",
    "elizabeth_may"
   ]
  },
  {
   "cell_type": "markdown",
   "metadata": {
    "slideshow": {
     "slide_type": "slide"
    }
   },
   "source": [
    "Dropping is the simplest solution, but is not ideal because of how much data is lost."
   ]
  },
  {
   "cell_type": "code",
   "execution_count": 50,
   "metadata": {
    "slideshow": {
     "slide_type": "-"
    }
   },
   "outputs": [
    {
     "data": {
      "text/html": [
       "<div>\n",
       "<style scoped>\n",
       "    .dataframe tbody tr th:only-of-type {\n",
       "        vertical-align: middle;\n",
       "    }\n",
       "\n",
       "    .dataframe tbody tr th {\n",
       "        vertical-align: top;\n",
       "    }\n",
       "\n",
       "    .dataframe thead th {\n",
       "        text-align: right;\n",
       "    }\n",
       "</style>\n",
       "<table border=\"1\" class=\"dataframe\">\n",
       "  <thead>\n",
       "    <tr style=\"text-align: right;\">\n",
       "      <th></th>\n",
       "      <th>edate</th>\n",
       "      <th>birth_year</th>\n",
       "      <th>censuscategory</th>\n",
       "    </tr>\n",
       "  </thead>\n",
       "  <tbody>\n",
       "    <tr>\n",
       "      <th>38961</th>\n",
       "      <td>2011-05-02</td>\n",
       "      <td>1954</td>\n",
       "      <td>MP</td>\n",
       "    </tr>\n",
       "    <tr>\n",
       "      <th>41310</th>\n",
       "      <td>2015-10-19</td>\n",
       "      <td>1954</td>\n",
       "      <td>MP</td>\n",
       "    </tr>\n",
       "    <tr>\n",
       "      <th>44484</th>\n",
       "      <td>2019-10-21</td>\n",
       "      <td>1954</td>\n",
       "      <td>MP</td>\n",
       "    </tr>\n",
       "  </tbody>\n",
       "</table>\n",
       "</div>"
      ],
      "text/plain": [
       "           edate  birth_year censuscategory\n",
       "38961 2011-05-02        1954             MP\n",
       "41310 2015-10-19        1954             MP\n",
       "44484 2019-10-21        1954             MP"
      ]
     },
     "execution_count": 50,
     "metadata": {},
     "output_type": "execute_result"
    }
   ],
   "source": [
    "elizabeth_may.dropna() # Drop all rows with missing data"
   ]
  },
  {
   "cell_type": "code",
   "execution_count": 51,
   "metadata": {},
   "outputs": [
    {
     "data": {
      "text/html": [
       "<div>\n",
       "<style scoped>\n",
       "    .dataframe tbody tr th:only-of-type {\n",
       "        vertical-align: middle;\n",
       "    }\n",
       "\n",
       "    .dataframe tbody tr th {\n",
       "        vertical-align: top;\n",
       "    }\n",
       "\n",
       "    .dataframe thead th {\n",
       "        text-align: right;\n",
       "    }\n",
       "</style>\n",
       "<table border=\"1\" class=\"dataframe\">\n",
       "  <thead>\n",
       "    <tr style=\"text-align: right;\">\n",
       "      <th></th>\n",
       "      <th>edate</th>\n",
       "    </tr>\n",
       "  </thead>\n",
       "  <tbody>\n",
       "    <tr>\n",
       "      <th>37083</th>\n",
       "      <td>2006-11-27</td>\n",
       "    </tr>\n",
       "    <tr>\n",
       "      <th>38431</th>\n",
       "      <td>2008-10-14</td>\n",
       "    </tr>\n",
       "    <tr>\n",
       "      <th>38961</th>\n",
       "      <td>2011-05-02</td>\n",
       "    </tr>\n",
       "    <tr>\n",
       "      <th>41310</th>\n",
       "      <td>2015-10-19</td>\n",
       "    </tr>\n",
       "    <tr>\n",
       "      <th>44484</th>\n",
       "      <td>2019-10-21</td>\n",
       "    </tr>\n",
       "    <tr>\n",
       "      <th>45134</th>\n",
       "      <td>2021-09-20</td>\n",
       "    </tr>\n",
       "  </tbody>\n",
       "</table>\n",
       "</div>"
      ],
      "text/plain": [
       "           edate\n",
       "37083 2006-11-27\n",
       "38431 2008-10-14\n",
       "38961 2011-05-02\n",
       "41310 2015-10-19\n",
       "44484 2019-10-21\n",
       "45134 2021-09-20"
      ]
     },
     "execution_count": 51,
     "metadata": {},
     "output_type": "execute_result"
    }
   ],
   "source": [
    "elizabeth_may.dropna(axis=1) # Drop columns with missing data"
   ]
  },
  {
   "cell_type": "markdown",
   "metadata": {
    "slideshow": {
     "slide_type": "slide"
    }
   },
   "source": [
    "Another strategy is to fill in the missing data with some reasonable values."
   ]
  },
  {
   "cell_type": "code",
   "execution_count": 52,
   "metadata": {
    "slideshow": {
     "slide_type": "-"
    }
   },
   "outputs": [
    {
     "data": {
      "text/plain": [
       "37083    <NA>\n",
       "38431    <NA>\n",
       "38961    1954\n",
       "41310    1954\n",
       "44484    1954\n",
       "45134    1954\n",
       "Name: birth_year, dtype: Int64"
      ]
     },
     "execution_count": 52,
     "metadata": {},
     "output_type": "execute_result"
    }
   ],
   "source": [
    "elizabeth_may.birth_year # original data with missing values"
   ]
  },
  {
   "cell_type": "code",
   "execution_count": 53,
   "metadata": {
    "slideshow": {
     "slide_type": "-"
    }
   },
   "outputs": [
    {
     "data": {
      "text/plain": [
       "37083    1954\n",
       "38431    1954\n",
       "38961    1954\n",
       "41310    1954\n",
       "44484    1954\n",
       "45134    1954\n",
       "Name: birth_year, dtype: Int64"
      ]
     },
     "execution_count": 53,
     "metadata": {},
     "output_type": "execute_result"
    }
   ],
   "source": [
    "elizabeth_may.birth_year.fillna(1954) # fill birth year by fixed value"
   ]
  },
  {
   "cell_type": "markdown",
   "metadata": {
    "slideshow": {
     "slide_type": "slide"
    }
   },
   "source": [
    "But, it's best not to do manual imputation. We could use some automation instead.\n",
    "\n",
    "A simple automation is to carry existing values forwards or backwards through the data. But we have to make sure the data is sorted properly."
   ]
  },
  {
   "cell_type": "code",
   "execution_count": 54,
   "metadata": {},
   "outputs": [],
   "source": [
    "em_sorted = elizabeth_may.sort_values(\"edate\") # make sure data is sorted first."
   ]
  },
  {
   "cell_type": "code",
   "execution_count": 55,
   "metadata": {
    "slideshow": {
     "slide_type": "-"
    }
   },
   "outputs": [
    {
     "data": {
      "text/plain": [
       "37083    1954\n",
       "38431    1954\n",
       "38961    1954\n",
       "41310    1954\n",
       "44484    1954\n",
       "45134    1954\n",
       "Name: birth_year, dtype: Int64"
      ]
     },
     "execution_count": 55,
     "metadata": {},
     "output_type": "execute_result"
    }
   ],
   "source": [
    "em_sorted.birth_year.fillna(method=\"bfill\") # carry birth year back over the index"
   ]
  },
  {
   "cell_type": "code",
   "execution_count": 56,
   "metadata": {},
   "outputs": [
    {
     "data": {
      "text/plain": [
       "37083    MP\n",
       "38431    MP\n",
       "38961    MP\n",
       "41310    MP\n",
       "44484    MP\n",
       "45134    MP\n",
       "Name: censuscategory, dtype: category\n",
       "Categories (11, object): ['Business', 'Health', 'Management', 'MP', ..., 'Social', 'Manufacturing', 'Sales', 'Trades']"
      ]
     },
     "execution_count": 56,
     "metadata": {},
     "output_type": "execute_result"
    }
   ],
   "source": [
    "em_sorted.censuscategory.fillna(method=\"pad\") # carry occupation forward in time"
   ]
  },
  {
   "cell_type": "markdown",
   "metadata": {
    "slideshow": {
     "slide_type": "slide"
    }
   },
   "source": [
    "You can do more sophisticated imputation as well, using the `interpolate()` method.\n",
    "\n",
    "A detailed discussion of missing values and basic imputation is available in [Working with Missing Data](https://pandas.pydata.org/docs/user_guide/missing_data.html).\n",
    "\n",
    "Finally, we can combine the imputation functions with techniques discussed in the next section to handle grouped data."
   ]
  },
  {
   "cell_type": "markdown",
   "metadata": {
    "slideshow": {
     "slide_type": "slide"
    }
   },
   "source": [
    "### Enriching the Data with New Variables\n",
    "\n",
    "Once we have sufficiently cleaned our data, we usually want to calculate new variables from it.\n",
    "\n",
    "We can simply calculate the value and add a new variable as show below."
   ]
  },
  {
   "cell_type": "code",
   "execution_count": 64,
   "metadata": {
    "slideshow": {
     "slide_type": "-"
    }
   },
   "outputs": [],
   "source": [
    "df[\"age\"] = df.year - df.birth_year"
   ]
  },
  {
   "cell_type": "code",
   "execution_count": 65,
   "metadata": {},
   "outputs": [
    {
     "data": {
      "text/plain": [
       "count    3097.000000\n",
       "mean       50.738457\n",
       "std        10.175434\n",
       "min        20.000000\n",
       "25%        44.000000\n",
       "50%        51.000000\n",
       "75%        58.000000\n",
       "max        80.000000\n",
       "Name: age, dtype: float64"
      ]
     },
     "execution_count": 65,
     "metadata": {},
     "output_type": "execute_result"
    }
   ],
   "source": [
    "df.age.describe()"
   ]
  },
  {
   "cell_type": "markdown",
   "metadata": {
    "slideshow": {
     "slide_type": "slide"
    }
   },
   "source": [
    "#### Grouping\n",
    "\n",
    "Often, we want to calculate statistics by group.\n",
    "\n",
    "For this, we can use `groupby()`, which will automatically split the dataset by group. \n",
    "\n",
    "We can then [aggregate, filter, or transform the data by group](https://pandas.pydata.org/docs/user_guide/groupby.html).\n",
    "\n",
    "As a starting example let's try to find the age of the oldest MP in each parliament."
   ]
  },
  {
   "cell_type": "code",
   "execution_count": 104,
   "metadata": {},
   "outputs": [
    {
     "data": {
      "text/plain": [
       "count    18618.000000\n",
       "mean        73.946396\n",
       "std          3.111632\n",
       "min         69.000000\n",
       "25%         72.000000\n",
       "50%         74.000000\n",
       "75%         74.000000\n",
       "max         80.000000\n",
       "Name: oldest_mp_age, dtype: float64"
      ]
     },
     "execution_count": 104,
     "metadata": {},
     "output_type": "execute_result"
    }
   ],
   "source": [
    "grouped = df.groupby(\"parliament\") # Split into groups\n",
    "grouped_age = grouped.age # Select the age variable\n",
    "df[\"oldest_mp_age\"] = grouped_age.transform(max) # Find max age within each group\n",
    "df.oldest_mp_age.describe() # Describe the result"
   ]
  },
  {
   "cell_type": "markdown",
   "metadata": {
    "slideshow": {
     "slide_type": "slide"
    }
   },
   "source": [
    "To give a more complex example, let's try calculating the margin of victory in each contest."
   ]
  },
  {
   "cell_type": "code",
   "execution_count": 103,
   "metadata": {},
   "outputs": [
    {
     "data": {
      "text/plain": [
       "count    18602.000000\n",
       "mean       -10.260525\n",
       "std         19.824150\n",
       "min        -46.508846\n",
       "25%        -25.608196\n",
       "50%        -13.673935\n",
       "75%          0.000000\n",
       "max         90.051051\n",
       "Name: margin, dtype: float64"
      ]
     },
     "execution_count": 103,
     "metadata": {},
     "output_type": "execute_result"
    }
   ],
   "source": [
    "grouped = df.groupby([\"edate\", \"province\", \"riding\"]) # group by contest\n",
    "grouped_pct_votes = grouped.percent_votes # select grouped percent votes variable\n",
    "\n",
    "def compute_margin(data): # define margin computation\n",
    "    if data.size > 1:\n",
    "        runner_up = data.sort_values(ascending=False).iloc[1]\n",
    "        return data - runner_up\n",
    "    else:\n",
    "        return None\n",
    "\n",
    "df[\"margin\"] = grouped_pct_votes.transform(compute_margin) # calculate margin\n",
    "df.margin.describe()"
   ]
  },
  {
   "cell_type": "markdown",
   "metadata": {
    "slideshow": {
     "slide_type": "slide"
    }
   },
   "source": [
    "#### Method Chaining and Piping\n",
    "\n",
    "Did you notice how tedious it was to calculate the pervious variables? \n",
    "\n",
    "We had to set a lot of variables. \n",
    "\n",
    "We can avoid this using a technique called *method chaining* or *piping*.\n",
    "\n",
    "Here is how it goes for the margin of victory:"
   ]
  },
  {
   "cell_type": "code",
   "execution_count": 105,
   "metadata": {},
   "outputs": [],
   "source": [
    "df[\"margin\"] = (df\n",
    "    .groupby([\"edate\", \"province\", \"riding\"])\n",
    "    .percent_votes\n",
    "    .transform(compute_margin)\n",
    ")"
   ]
  },
  {
   "cell_type": "markdown",
   "metadata": {},
   "source": [
    "This works because each function we call in the sequence is calls a method of the result returned by the previous function.\n",
    "\n",
    "It's a technique is good for grouping together operations into logical chunks. But, try not to abuse it."
   ]
  },
  {
   "cell_type": "markdown",
   "metadata": {
    "slideshow": {
     "slide_type": "slide"
    }
   },
   "source": [
    "What happens if we want to use piping with functions that are not methods of the result?\n",
    "\n",
    "For instance, what happens if we want to pipe some custom functions?\n",
    "\n",
    "We just use the special method `pipe()`, allows us to pass in arbitrary functions and arguments."
   ]
  },
  {
   "cell_type": "markdown",
   "metadata": {
    "slideshow": {
     "slide_type": "slide"
    }
   },
   "source": [
    "## More Data Wrangling: Aggregating, Reshaping, Merging and Concatenating Data\n",
    "\n",
    "Often, we need to modify the structure of our dataset.\n",
    "\n",
    "There are a few reasons we might want to do this:\n",
    "- We might want to look at aggregate statistics\n",
    "- Our data might need to be formatted a certain way to facilitate or enable analysis\n",
    "- We might need to incorporate some supplemental data to calculate some variable of interest\n",
    "- Our data may be spread over many files and/or dataframes"
   ]
  },
  {
   "cell_type": "markdown",
   "metadata": {
    "slideshow": {
     "slide_type": "slide"
    }
   },
   "source": [
    "### Aggregating Data\n",
    "\n",
    "We often need to calculate aggregate statistics when trying to provide descriptives for our data. \n",
    "\n",
    "Let's calculate the number of candidates in each election of each party and occupation type."
   ]
  },
  {
   "cell_type": "code",
   "execution_count": 149,
   "metadata": {},
   "outputs": [
    {
     "data": {
      "text/html": [
       "<div>\n",
       "<style scoped>\n",
       "    .dataframe tbody tr th:only-of-type {\n",
       "        vertical-align: middle;\n",
       "    }\n",
       "\n",
       "    .dataframe tbody tr th {\n",
       "        vertical-align: top;\n",
       "    }\n",
       "\n",
       "    .dataframe thead th {\n",
       "        text-align: right;\n",
       "    }\n",
       "</style>\n",
       "<table border=\"1\" class=\"dataframe\">\n",
       "  <thead>\n",
       "    <tr style=\"text-align: right;\">\n",
       "      <th></th>\n",
       "      <th>edate</th>\n",
       "      <th>party_major_group</th>\n",
       "      <th>censuscategory</th>\n",
       "      <th>size</th>\n",
       "    </tr>\n",
       "  </thead>\n",
       "  <tbody>\n",
       "    <tr>\n",
       "      <th>0</th>\n",
       "      <td>1993-10-25</td>\n",
       "      <td>Bloc</td>\n",
       "      <td>Business</td>\n",
       "      <td>16</td>\n",
       "    </tr>\n",
       "    <tr>\n",
       "      <th>1</th>\n",
       "      <td>1993-10-25</td>\n",
       "      <td>Bloc</td>\n",
       "      <td>Health</td>\n",
       "      <td>2</td>\n",
       "    </tr>\n",
       "    <tr>\n",
       "      <th>2</th>\n",
       "      <td>1993-10-25</td>\n",
       "      <td>Bloc</td>\n",
       "      <td>Management</td>\n",
       "      <td>7</td>\n",
       "    </tr>\n",
       "    <tr>\n",
       "      <th>3</th>\n",
       "      <td>1993-10-25</td>\n",
       "      <td>Bloc</td>\n",
       "      <td>MP</td>\n",
       "      <td>4</td>\n",
       "    </tr>\n",
       "    <tr>\n",
       "      <th>4</th>\n",
       "      <td>1993-10-25</td>\n",
       "      <td>Bloc</td>\n",
       "      <td>Science</td>\n",
       "      <td>0</td>\n",
       "    </tr>\n",
       "    <tr>\n",
       "      <th>...</th>\n",
       "      <td>...</td>\n",
       "      <td>...</td>\n",
       "      <td>...</td>\n",
       "      <td>...</td>\n",
       "    </tr>\n",
       "    <tr>\n",
       "      <th>3867</th>\n",
       "      <td>2021-09-20</td>\n",
       "      <td>Third_Party</td>\n",
       "      <td>Culture</td>\n",
       "      <td>0</td>\n",
       "    </tr>\n",
       "    <tr>\n",
       "      <th>3868</th>\n",
       "      <td>2021-09-20</td>\n",
       "      <td>Third_Party</td>\n",
       "      <td>Social</td>\n",
       "      <td>0</td>\n",
       "    </tr>\n",
       "    <tr>\n",
       "      <th>3869</th>\n",
       "      <td>2021-09-20</td>\n",
       "      <td>Third_Party</td>\n",
       "      <td>Manufacturing</td>\n",
       "      <td>0</td>\n",
       "    </tr>\n",
       "    <tr>\n",
       "      <th>3870</th>\n",
       "      <td>2021-09-20</td>\n",
       "      <td>Third_Party</td>\n",
       "      <td>Sales</td>\n",
       "      <td>0</td>\n",
       "    </tr>\n",
       "    <tr>\n",
       "      <th>3871</th>\n",
       "      <td>2021-09-20</td>\n",
       "      <td>Third_Party</td>\n",
       "      <td>Trades</td>\n",
       "      <td>0</td>\n",
       "    </tr>\n",
       "  </tbody>\n",
       "</table>\n",
       "<p>3872 rows × 4 columns</p>\n",
       "</div>"
      ],
      "text/plain": [
       "          edate party_major_group censuscategory  size\n",
       "0    1993-10-25              Bloc       Business    16\n",
       "1    1993-10-25              Bloc         Health     2\n",
       "2    1993-10-25              Bloc     Management     7\n",
       "3    1993-10-25              Bloc             MP     4\n",
       "4    1993-10-25              Bloc        Science     0\n",
       "...         ...               ...            ...   ...\n",
       "3867 2021-09-20       Third_Party        Culture     0\n",
       "3868 2021-09-20       Third_Party         Social     0\n",
       "3869 2021-09-20       Third_Party  Manufacturing     0\n",
       "3870 2021-09-20       Third_Party          Sales     0\n",
       "3871 2021-09-20       Third_Party         Trades     0\n",
       "\n",
       "[3872 rows x 4 columns]"
      ]
     },
     "execution_count": 149,
     "metadata": {},
     "output_type": "execute_result"
    }
   ],
   "source": [
    "count = (df\n",
    "    .groupby([\"edate\", \"party_major_group\", \"censuscategory\"], as_index=False)\n",
    "    .size())"
   ]
  },
  {
   "cell_type": "markdown",
   "metadata": {
    "slideshow": {
     "slide_type": "slide"
    }
   },
   "source": [
    "### Reshaping Data\n",
    "\n",
    "Suppose now that we want the average number of candidates in  each occupation by party.\n",
    "\n",
    "For this, one easy approach is to pivot the party and censuscategory variables to be column indices and then take an average.\n",
    "\n",
    "Refer to [Reshaping and Pivot Tables](https://pandas.pydata.org/docs/user_guide/reshaping.html) for more information."
   ]
  },
  {
   "cell_type": "code",
   "execution_count": 158,
   "metadata": {
    "slideshow": {
     "slide_type": "slide"
    }
   },
   "outputs": [
    {
     "data": {
      "text/html": [
       "<div>\n",
       "<style scoped>\n",
       "    .dataframe tbody tr th:only-of-type {\n",
       "        vertical-align: middle;\n",
       "    }\n",
       "\n",
       "    .dataframe tbody tr th {\n",
       "        vertical-align: top;\n",
       "    }\n",
       "\n",
       "    .dataframe thead tr th {\n",
       "        text-align: left;\n",
       "    }\n",
       "</style>\n",
       "<table border=\"1\" class=\"dataframe\">\n",
       "  <thead>\n",
       "    <tr>\n",
       "      <th>party_major_group</th>\n",
       "      <th colspan=\"10\" halign=\"left\">Bloc</th>\n",
       "      <th>...</th>\n",
       "      <th colspan=\"10\" halign=\"left\">Third_Party</th>\n",
       "    </tr>\n",
       "    <tr>\n",
       "      <th>censuscategory</th>\n",
       "      <th>Business</th>\n",
       "      <th>Health</th>\n",
       "      <th>Management</th>\n",
       "      <th>MP</th>\n",
       "      <th>Science</th>\n",
       "      <th>Resources</th>\n",
       "      <th>Culture</th>\n",
       "      <th>Social</th>\n",
       "      <th>Manufacturing</th>\n",
       "      <th>Sales</th>\n",
       "      <th>...</th>\n",
       "      <th>Health</th>\n",
       "      <th>Management</th>\n",
       "      <th>MP</th>\n",
       "      <th>Science</th>\n",
       "      <th>Resources</th>\n",
       "      <th>Culture</th>\n",
       "      <th>Social</th>\n",
       "      <th>Manufacturing</th>\n",
       "      <th>Sales</th>\n",
       "      <th>Trades</th>\n",
       "    </tr>\n",
       "  </thead>\n",
       "  <tbody>\n",
       "    <tr>\n",
       "      <th>0</th>\n",
       "      <td>16.0</td>\n",
       "      <td>NaN</td>\n",
       "      <td>NaN</td>\n",
       "      <td>NaN</td>\n",
       "      <td>NaN</td>\n",
       "      <td>NaN</td>\n",
       "      <td>NaN</td>\n",
       "      <td>NaN</td>\n",
       "      <td>NaN</td>\n",
       "      <td>NaN</td>\n",
       "      <td>...</td>\n",
       "      <td>NaN</td>\n",
       "      <td>NaN</td>\n",
       "      <td>NaN</td>\n",
       "      <td>NaN</td>\n",
       "      <td>NaN</td>\n",
       "      <td>NaN</td>\n",
       "      <td>NaN</td>\n",
       "      <td>NaN</td>\n",
       "      <td>NaN</td>\n",
       "      <td>NaN</td>\n",
       "    </tr>\n",
       "    <tr>\n",
       "      <th>1</th>\n",
       "      <td>NaN</td>\n",
       "      <td>2.0</td>\n",
       "      <td>NaN</td>\n",
       "      <td>NaN</td>\n",
       "      <td>NaN</td>\n",
       "      <td>NaN</td>\n",
       "      <td>NaN</td>\n",
       "      <td>NaN</td>\n",
       "      <td>NaN</td>\n",
       "      <td>NaN</td>\n",
       "      <td>...</td>\n",
       "      <td>NaN</td>\n",
       "      <td>NaN</td>\n",
       "      <td>NaN</td>\n",
       "      <td>NaN</td>\n",
       "      <td>NaN</td>\n",
       "      <td>NaN</td>\n",
       "      <td>NaN</td>\n",
       "      <td>NaN</td>\n",
       "      <td>NaN</td>\n",
       "      <td>NaN</td>\n",
       "    </tr>\n",
       "    <tr>\n",
       "      <th>2</th>\n",
       "      <td>NaN</td>\n",
       "      <td>NaN</td>\n",
       "      <td>7.0</td>\n",
       "      <td>NaN</td>\n",
       "      <td>NaN</td>\n",
       "      <td>NaN</td>\n",
       "      <td>NaN</td>\n",
       "      <td>NaN</td>\n",
       "      <td>NaN</td>\n",
       "      <td>NaN</td>\n",
       "      <td>...</td>\n",
       "      <td>NaN</td>\n",
       "      <td>NaN</td>\n",
       "      <td>NaN</td>\n",
       "      <td>NaN</td>\n",
       "      <td>NaN</td>\n",
       "      <td>NaN</td>\n",
       "      <td>NaN</td>\n",
       "      <td>NaN</td>\n",
       "      <td>NaN</td>\n",
       "      <td>NaN</td>\n",
       "    </tr>\n",
       "    <tr>\n",
       "      <th>3</th>\n",
       "      <td>NaN</td>\n",
       "      <td>NaN</td>\n",
       "      <td>NaN</td>\n",
       "      <td>4.0</td>\n",
       "      <td>NaN</td>\n",
       "      <td>NaN</td>\n",
       "      <td>NaN</td>\n",
       "      <td>NaN</td>\n",
       "      <td>NaN</td>\n",
       "      <td>NaN</td>\n",
       "      <td>...</td>\n",
       "      <td>NaN</td>\n",
       "      <td>NaN</td>\n",
       "      <td>NaN</td>\n",
       "      <td>NaN</td>\n",
       "      <td>NaN</td>\n",
       "      <td>NaN</td>\n",
       "      <td>NaN</td>\n",
       "      <td>NaN</td>\n",
       "      <td>NaN</td>\n",
       "      <td>NaN</td>\n",
       "    </tr>\n",
       "  </tbody>\n",
       "</table>\n",
       "<p>4 rows × 88 columns</p>\n",
       "</div>"
      ],
      "text/plain": [
       "party_major_group     Bloc                                                   \\\n",
       "censuscategory    Business Health Management   MP Science Resources Culture   \n",
       "0                     16.0    NaN        NaN  NaN     NaN       NaN     NaN   \n",
       "1                      NaN    2.0        NaN  NaN     NaN       NaN     NaN   \n",
       "2                      NaN    NaN        7.0  NaN     NaN       NaN     NaN   \n",
       "3                      NaN    NaN        NaN  4.0     NaN       NaN     NaN   \n",
       "\n",
       "party_major_group                             ... Third_Party                 \\\n",
       "censuscategory    Social Manufacturing Sales  ...      Health Management  MP   \n",
       "0                    NaN           NaN   NaN  ...         NaN        NaN NaN   \n",
       "1                    NaN           NaN   NaN  ...         NaN        NaN NaN   \n",
       "2                    NaN           NaN   NaN  ...         NaN        NaN NaN   \n",
       "3                    NaN           NaN   NaN  ...         NaN        NaN NaN   \n",
       "\n",
       "party_major_group                                                              \n",
       "censuscategory    Science Resources Culture Social Manufacturing Sales Trades  \n",
       "0                     NaN       NaN     NaN    NaN           NaN   NaN    NaN  \n",
       "1                     NaN       NaN     NaN    NaN           NaN   NaN    NaN  \n",
       "2                     NaN       NaN     NaN    NaN           NaN   NaN    NaN  \n",
       "3                     NaN       NaN     NaN    NaN           NaN   NaN    NaN  \n",
       "\n",
       "[4 rows x 88 columns]"
      ]
     },
     "execution_count": 158,
     "metadata": {},
     "output_type": "execute_result"
    }
   ],
   "source": [
    "count_p = count.pivot(columns=[\"party_major_group\", \"censuscategory\"], values=\"size\")\n",
    "count_p.head(4)"
   ]
  },
  {
   "cell_type": "code",
   "execution_count": 159,
   "metadata": {},
   "outputs": [
    {
     "data": {
      "text/plain": [
       "party_major_group  censuscategory\n",
       "Bloc               Business           2.113636\n",
       "                   Health             0.204545\n",
       "                   Management         0.795455\n",
       "                   MP                 3.545455\n",
       "                   Science            0.659091\n",
       "                                       ...    \n",
       "Third_Party        Culture            9.909091\n",
       "                   Social            36.727273\n",
       "                   Manufacturing      1.113636\n",
       "                   Sales             13.000000\n",
       "                   Trades             7.545455\n",
       "Length: 88, dtype: float64"
      ]
     },
     "execution_count": 159,
     "metadata": {},
     "output_type": "execute_result"
    }
   ],
   "source": [
    "count_p.mean()"
   ]
  },
  {
   "cell_type": "markdown",
   "metadata": {
    "slideshow": {
     "slide_type": "slide"
    }
   },
   "source": [
    "### Merging Data\n",
    "\n",
    "To get a handle on merging, let's say we are interested in analyzing candidate occupation by sector."
   ]
  },
  {
   "cell_type": "code",
   "execution_count": 60,
   "metadata": {
    "slideshow": {
     "slide_type": "-"
    }
   },
   "outputs": [
    {
     "data": {
      "text/html": [
       "<div>\n",
       "<style scoped>\n",
       "    .dataframe tbody tr th:only-of-type {\n",
       "        vertical-align: middle;\n",
       "    }\n",
       "\n",
       "    .dataframe tbody tr th {\n",
       "        vertical-align: top;\n",
       "    }\n",
       "\n",
       "    .dataframe thead th {\n",
       "        text-align: right;\n",
       "    }\n",
       "</style>\n",
       "<table border=\"1\" class=\"dataframe\">\n",
       "  <thead>\n",
       "    <tr style=\"text-align: right;\">\n",
       "      <th></th>\n",
       "      <th>sector</th>\n",
       "      <th>censuscategory</th>\n",
       "    </tr>\n",
       "  </thead>\n",
       "  <tbody>\n",
       "    <tr>\n",
       "      <th>0</th>\n",
       "      <td>Tertiary</td>\n",
       "      <td>Business</td>\n",
       "    </tr>\n",
       "    <tr>\n",
       "      <th>1</th>\n",
       "      <td>Tertiary</td>\n",
       "      <td>Health</td>\n",
       "    </tr>\n",
       "    <tr>\n",
       "      <th>2</th>\n",
       "      <td>Tertiary</td>\n",
       "      <td>Management</td>\n",
       "    </tr>\n",
       "    <tr>\n",
       "      <th>3</th>\n",
       "      <td>Tertiary</td>\n",
       "      <td>MP</td>\n",
       "    </tr>\n",
       "    <tr>\n",
       "      <th>4</th>\n",
       "      <td>Tertiary</td>\n",
       "      <td>Science</td>\n",
       "    </tr>\n",
       "    <tr>\n",
       "      <th>5</th>\n",
       "      <td>Primary</td>\n",
       "      <td>Resources</td>\n",
       "    </tr>\n",
       "    <tr>\n",
       "      <th>6</th>\n",
       "      <td>Tertiary</td>\n",
       "      <td>Culture</td>\n",
       "    </tr>\n",
       "    <tr>\n",
       "      <th>7</th>\n",
       "      <td>Tertiary</td>\n",
       "      <td>Social</td>\n",
       "    </tr>\n",
       "    <tr>\n",
       "      <th>8</th>\n",
       "      <td>Secondary</td>\n",
       "      <td>Manufacturing</td>\n",
       "    </tr>\n",
       "    <tr>\n",
       "      <th>9</th>\n",
       "      <td>Tertiary</td>\n",
       "      <td>Sales</td>\n",
       "    </tr>\n",
       "    <tr>\n",
       "      <th>10</th>\n",
       "      <td>Secondary</td>\n",
       "      <td>Trades</td>\n",
       "    </tr>\n",
       "  </tbody>\n",
       "</table>\n",
       "</div>"
      ],
      "text/plain": [
       "       sector censuscategory\n",
       "0    Tertiary       Business\n",
       "1    Tertiary         Health\n",
       "2    Tertiary     Management\n",
       "3    Tertiary             MP\n",
       "4    Tertiary        Science\n",
       "5     Primary      Resources\n",
       "6    Tertiary        Culture\n",
       "7    Tertiary         Social\n",
       "8   Secondary  Manufacturing\n",
       "9    Tertiary          Sales\n",
       "10  Secondary         Trades"
      ]
     },
     "execution_count": 60,
     "metadata": {},
     "output_type": "execute_result"
    }
   ],
   "source": [
    "sector = pd.DataFrame({\n",
    "            \"sector\": [\"Tertiary\", \"Tertiary\", \"Tertiary\", \"Tertiary\", \"Tertiary\", \"Primary\", \n",
    "                       \"Tertiary\", \"Tertiary\", \"Secondary\", \"Tertiary\", \"Secondary\"],\n",
    "    \"censuscategory\": [\"Business\", \"Health\", \"Management\", \"MP\", \"Science\", \"Resources\", \"Culture\", \n",
    "                       \"Social\", \"Manufacturing\", \"Sales\", \"Trades\"]\n",
    "})\n",
    "sector"
   ]
  },
  {
   "cell_type": "markdown",
   "metadata": {
    "slideshow": {
     "slide_type": "slide"
    }
   },
   "source": [
    "Using the merge function we can specify how we want this DataFrame to be combined with the main data set."
   ]
  },
  {
   "cell_type": "code",
   "execution_count": 61,
   "metadata": {},
   "outputs": [
    {
     "data": {
      "text/html": [
       "<div>\n",
       "<style scoped>\n",
       "    .dataframe tbody tr th:only-of-type {\n",
       "        vertical-align: middle;\n",
       "    }\n",
       "\n",
       "    .dataframe tbody tr th {\n",
       "        vertical-align: top;\n",
       "    }\n",
       "\n",
       "    .dataframe thead th {\n",
       "        text-align: right;\n",
       "    }\n",
       "</style>\n",
       "<table border=\"1\" class=\"dataframe\">\n",
       "  <thead>\n",
       "    <tr style=\"text-align: right;\">\n",
       "      <th></th>\n",
       "      <th>year</th>\n",
       "      <th>candidate_name</th>\n",
       "      <th>censuscategory</th>\n",
       "      <th>sector</th>\n",
       "    </tr>\n",
       "  </thead>\n",
       "  <tbody>\n",
       "    <tr>\n",
       "      <th>0</th>\n",
       "      <td>1867</td>\n",
       "      <td>POWER,</td>\n",
       "      <td>Sales</td>\n",
       "      <td>Tertiary</td>\n",
       "    </tr>\n",
       "    <tr>\n",
       "      <th>1</th>\n",
       "      <td>1867</td>\n",
       "      <td>JONES,</td>\n",
       "      <td>Sales</td>\n",
       "      <td>Tertiary</td>\n",
       "    </tr>\n",
       "    <tr>\n",
       "      <th>2</th>\n",
       "      <td>1867</td>\n",
       "      <td>SHANNON, S.L.</td>\n",
       "      <td>Social</td>\n",
       "      <td>Tertiary</td>\n",
       "    </tr>\n",
       "    <tr>\n",
       "      <th>3</th>\n",
       "      <td>1867</td>\n",
       "      <td>KIRKPATRICK, Thomas</td>\n",
       "      <td>Social</td>\n",
       "      <td>Tertiary</td>\n",
       "    </tr>\n",
       "    <tr>\n",
       "      <th>4</th>\n",
       "      <td>1867</td>\n",
       "      <td>BLANCHET, Hon. J.G.</td>\n",
       "      <td>Health</td>\n",
       "      <td>Tertiary</td>\n",
       "    </tr>\n",
       "    <tr>\n",
       "      <th>...</th>\n",
       "      <td>...</td>\n",
       "      <td>...</td>\n",
       "      <td>...</td>\n",
       "      <td>...</td>\n",
       "    </tr>\n",
       "    <tr>\n",
       "      <th>46521</th>\n",
       "      <td>2021</td>\n",
       "      <td>Bandou, Rachid</td>\n",
       "      <td>NaN</td>\n",
       "      <td>NaN</td>\n",
       "    </tr>\n",
       "    <tr>\n",
       "      <th>46522</th>\n",
       "      <td>2021</td>\n",
       "      <td>Zahid, Salma</td>\n",
       "      <td>NaN</td>\n",
       "      <td>NaN</td>\n",
       "    </tr>\n",
       "    <tr>\n",
       "      <th>46523</th>\n",
       "      <td>2021</td>\n",
       "      <td>Jemmah, Rachid</td>\n",
       "      <td>NaN</td>\n",
       "      <td>NaN</td>\n",
       "    </tr>\n",
       "    <tr>\n",
       "      <th>46524</th>\n",
       "      <td>2021</td>\n",
       "      <td>McLeod, Michael</td>\n",
       "      <td>NaN</td>\n",
       "      <td>NaN</td>\n",
       "    </tr>\n",
       "    <tr>\n",
       "      <th>46525</th>\n",
       "      <td>2021</td>\n",
       "      <td>Joshi, Medha</td>\n",
       "      <td>NaN</td>\n",
       "      <td>NaN</td>\n",
       "    </tr>\n",
       "  </tbody>\n",
       "</table>\n",
       "<p>46526 rows × 4 columns</p>\n",
       "</div>"
      ],
      "text/plain": [
       "       year       candidate_name censuscategory    sector\n",
       "0      1867               POWER,          Sales  Tertiary\n",
       "1      1867               JONES,          Sales  Tertiary\n",
       "2      1867        SHANNON, S.L.         Social  Tertiary\n",
       "3      1867  KIRKPATRICK, Thomas         Social  Tertiary\n",
       "4      1867  BLANCHET, Hon. J.G.         Health  Tertiary\n",
       "...     ...                  ...            ...       ...\n",
       "46521  2021       Bandou, Rachid            NaN       NaN\n",
       "46522  2021         Zahid, Salma            NaN       NaN\n",
       "46523  2021       Jemmah, Rachid            NaN       NaN\n",
       "46524  2021      McLeod, Michael            NaN       NaN\n",
       "46525  2021         Joshi, Medha            NaN       NaN\n",
       "\n",
       "[46526 rows x 4 columns]"
      ]
     },
     "execution_count": 61,
     "metadata": {},
     "output_type": "execute_result"
    }
   ],
   "source": [
    "merged = pd.merge(df, sector, on=\"censuscategory\", how=\"left\")\n",
    "merged[[\"year\", \"candidate_name\", \"censuscategory\", \"sector\"]]"
   ]
  },
  {
   "cell_type": "markdown",
   "metadata": {
    "slideshow": {
     "slide_type": "slide"
    }
   },
   "source": [
    "Look more closely at the code:\n",
    "```python\n",
    "pd.merge(df, sector, on=\"censuscategory\", how=\"left\")\n",
    "```\n",
    "\n",
    "We usually talk about a left and right hand arguments. These are the first two arguments to merge.\n",
    "\n",
    "The `on` argument tells us what variable(s) to merge on. \n",
    "\n",
    "The `how` argument specifies how the data gets merged.\n",
    "\n",
    "To read more see the [guide on database-style joins](https://pandas.pydata.org/pandas-docs/stable/user_guide/merging.html#database-style-dataframe-or-named-series-joining-merging)"
   ]
  },
  {
   "cell_type": "markdown",
   "metadata": {
    "slideshow": {
     "slide_type": "slide"
    }
   },
   "source": [
    "### Concatenating Data\n",
    "\n",
    "Finally, sometimes our data is spread over multiple dataframes, and we just want to combine it.\n",
    "\n",
    "This is what the concatenation operation does.\n",
    "\n",
    "See [Concatenating Objects](https://pandas.pydata.org/docs/user_guide/merging.html#concatenating-objects) for further details."
   ]
  },
  {
   "cell_type": "code",
   "execution_count": 165,
   "metadata": {
    "slideshow": {
     "slide_type": "slide"
    }
   },
   "outputs": [
    {
     "data": {
      "text/plain": [
       "[        edate party_major_group censuscategory  size\n",
       " 0  1993-10-25              Bloc       Business    16\n",
       " 1  1993-10-25              Bloc         Health     2\n",
       " 2  1993-10-25              Bloc     Management     7\n",
       " 3  1993-10-25              Bloc             MP     4\n",
       " 4  1993-10-25              Bloc        Science     0\n",
       " ..        ...               ...            ...   ...\n",
       " 83 1993-10-25       Third_Party        Culture    36\n",
       " 84 1993-10-25       Third_Party         Social   204\n",
       " 85 1993-10-25       Third_Party  Manufacturing     8\n",
       " 86 1993-10-25       Third_Party          Sales    52\n",
       " 87 1993-10-25       Third_Party         Trades    42\n",
       " \n",
       " [88 rows x 4 columns],\n",
       "          edate party_major_group censuscategory  size\n",
       " 88  1995-02-13              Bloc       Business     0\n",
       " 89  1995-02-13              Bloc         Health     0\n",
       " 90  1995-02-13              Bloc     Management     0\n",
       " 91  1995-02-13              Bloc             MP     0\n",
       " 92  1995-02-13              Bloc        Science     0\n",
       " ..         ...               ...            ...   ...\n",
       " 171 1995-02-13       Third_Party        Culture     0\n",
       " 172 1995-02-13       Third_Party         Social     3\n",
       " 173 1995-02-13       Third_Party  Manufacturing     0\n",
       " 174 1995-02-13       Third_Party          Sales     2\n",
       " 175 1995-02-13       Third_Party         Trades     0\n",
       " \n",
       " [88 rows x 4 columns]]"
      ]
     },
     "execution_count": 165,
     "metadata": {},
     "output_type": "execute_result"
    }
   ],
   "source": [
    "# Separate counts by election; note iteration over groupby\n",
    "separate_dataframes = [obj for name, obj in count.groupby(\"edate\")]\n",
    "separate_dataframes[:2]"
   ]
  },
  {
   "cell_type": "code",
   "execution_count": 167,
   "metadata": {
    "slideshow": {
     "slide_type": "slide"
    }
   },
   "outputs": [
    {
     "data": {
      "text/html": [
       "<div>\n",
       "<style scoped>\n",
       "    .dataframe tbody tr th:only-of-type {\n",
       "        vertical-align: middle;\n",
       "    }\n",
       "\n",
       "    .dataframe tbody tr th {\n",
       "        vertical-align: top;\n",
       "    }\n",
       "\n",
       "    .dataframe thead th {\n",
       "        text-align: right;\n",
       "    }\n",
       "</style>\n",
       "<table border=\"1\" class=\"dataframe\">\n",
       "  <thead>\n",
       "    <tr style=\"text-align: right;\">\n",
       "      <th></th>\n",
       "      <th>edate</th>\n",
       "      <th>party_major_group</th>\n",
       "      <th>censuscategory</th>\n",
       "      <th>size</th>\n",
       "    </tr>\n",
       "  </thead>\n",
       "  <tbody>\n",
       "    <tr>\n",
       "      <th>0</th>\n",
       "      <td>1993-10-25</td>\n",
       "      <td>Bloc</td>\n",
       "      <td>Business</td>\n",
       "      <td>16</td>\n",
       "    </tr>\n",
       "    <tr>\n",
       "      <th>1</th>\n",
       "      <td>1993-10-25</td>\n",
       "      <td>Bloc</td>\n",
       "      <td>Health</td>\n",
       "      <td>2</td>\n",
       "    </tr>\n",
       "    <tr>\n",
       "      <th>2</th>\n",
       "      <td>1993-10-25</td>\n",
       "      <td>Bloc</td>\n",
       "      <td>Management</td>\n",
       "      <td>7</td>\n",
       "    </tr>\n",
       "    <tr>\n",
       "      <th>3</th>\n",
       "      <td>1993-10-25</td>\n",
       "      <td>Bloc</td>\n",
       "      <td>MP</td>\n",
       "      <td>4</td>\n",
       "    </tr>\n",
       "    <tr>\n",
       "      <th>4</th>\n",
       "      <td>1993-10-25</td>\n",
       "      <td>Bloc</td>\n",
       "      <td>Science</td>\n",
       "      <td>0</td>\n",
       "    </tr>\n",
       "    <tr>\n",
       "      <th>...</th>\n",
       "      <td>...</td>\n",
       "      <td>...</td>\n",
       "      <td>...</td>\n",
       "      <td>...</td>\n",
       "    </tr>\n",
       "    <tr>\n",
       "      <th>3867</th>\n",
       "      <td>2021-09-20</td>\n",
       "      <td>Third_Party</td>\n",
       "      <td>Culture</td>\n",
       "      <td>0</td>\n",
       "    </tr>\n",
       "    <tr>\n",
       "      <th>3868</th>\n",
       "      <td>2021-09-20</td>\n",
       "      <td>Third_Party</td>\n",
       "      <td>Social</td>\n",
       "      <td>0</td>\n",
       "    </tr>\n",
       "    <tr>\n",
       "      <th>3869</th>\n",
       "      <td>2021-09-20</td>\n",
       "      <td>Third_Party</td>\n",
       "      <td>Manufacturing</td>\n",
       "      <td>0</td>\n",
       "    </tr>\n",
       "    <tr>\n",
       "      <th>3870</th>\n",
       "      <td>2021-09-20</td>\n",
       "      <td>Third_Party</td>\n",
       "      <td>Sales</td>\n",
       "      <td>0</td>\n",
       "    </tr>\n",
       "    <tr>\n",
       "      <th>3871</th>\n",
       "      <td>2021-09-20</td>\n",
       "      <td>Third_Party</td>\n",
       "      <td>Trades</td>\n",
       "      <td>0</td>\n",
       "    </tr>\n",
       "  </tbody>\n",
       "</table>\n",
       "<p>3872 rows × 4 columns</p>\n",
       "</div>"
      ],
      "text/plain": [
       "          edate party_major_group censuscategory  size\n",
       "0    1993-10-25              Bloc       Business    16\n",
       "1    1993-10-25              Bloc         Health     2\n",
       "2    1993-10-25              Bloc     Management     7\n",
       "3    1993-10-25              Bloc             MP     4\n",
       "4    1993-10-25              Bloc        Science     0\n",
       "...         ...               ...            ...   ...\n",
       "3867 2021-09-20       Third_Party        Culture     0\n",
       "3868 2021-09-20       Third_Party         Social     0\n",
       "3869 2021-09-20       Third_Party  Manufacturing     0\n",
       "3870 2021-09-20       Third_Party          Sales     0\n",
       "3871 2021-09-20       Third_Party         Trades     0\n",
       "\n",
       "[3872 rows x 4 columns]"
      ]
     },
     "execution_count": 167,
     "metadata": {},
     "output_type": "execute_result"
    }
   ],
   "source": [
    "pd.concat(separate_dataframes) # back together!"
   ]
  },
  {
   "cell_type": "markdown",
   "metadata": {
    "slideshow": {
     "slide_type": "slide"
    }
   },
   "source": [
    "## Conlusion\n",
    "\n",
    "We have only scratched the surface of what you can do with `pandas`.\n",
    "\n",
    "Always remember that the documentation is your best friend.\n",
    "\n",
    "Let me leave you with a pointer to a few other libraries;\n",
    "\n",
    "- `numpy` is the standard Python library for mathematical tasks. It is very powerful and you can use it almost seamlessly in conjunction with `pandas`.\n",
    "- If you want to run statistical analyses with your `pandas` data, check out Python's `statsmodels` package.\n",
    "- Finally, if you want to make beautiful graphs, please come back next week, when we will look at `matplotlib`, Python's de facto standard plotting library.\n"
   ]
  }
 ],
 "metadata": {
  "celltoolbar": "Slideshow",
  "interpreter": {
   "hash": "7bb8eae9c2297506b9894494f89ab8d67c41d115c2354c72d7d438870909f850"
  },
  "kernelspec": {
   "display_name": "Python 3 (ipykernel)",
   "language": "python",
   "name": "python3"
  },
  "language_info": {
   "codemirror_mode": {
    "name": "ipython",
    "version": 3
   },
   "file_extension": ".py",
   "mimetype": "text/x-python",
   "name": "python",
   "nbconvert_exporter": "python",
   "pygments_lexer": "ipython3",
   "version": "3.9.0"
  }
 },
 "nbformat": 4,
 "nbformat_minor": 2
}
