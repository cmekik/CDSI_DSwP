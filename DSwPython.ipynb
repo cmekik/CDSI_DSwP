{
 "cells": [
  {
   "cell_type": "markdown",
   "metadata": {
    "slideshow": {
     "slide_type": "slide"
    }
   },
   "source": [
    "# Intermediate Python (Pandas)\n",
    "\n",
    "Can Şerif Mekik\n",
    "\n",
    "PhD Candidate <br/>\n",
    "Department of Cognitive Science <br/>\n",
    "Rensselaer Polytechnic Institute\n",
    "\n",
    "February 24, 2022\n",
    "\n",
    "<table align=\"left\">\n",
    "<tr>\n",
    "<td><img src=CDSI_Fac.of.Sc_logo.png alt=\"CDSI Logo\" width=\"300\"/></td>\n",
    "<td><img src=mcgill_ccr_approval_croppedforblock_0.png alt=\"CCR Approved Logo\" width=\"300\"/></td>\n",
    "</tr>\n",
    "</table>"
   ]
  },
  {
   "cell_type": "markdown",
   "metadata": {
    "slideshow": {
     "slide_type": "slide"
    }
   },
   "source": [
    "## Introductory Remarks\n",
    "\n",
    "This workshop assumes familiarity with basic Python syntax. \n",
    "\n",
    "Pandas is a great place to start using Python for data science\n",
    "- Similar feel to other stats software like R or Stata\n",
    "- Works well on its own but also integrates well with the Python data science ecosystem\n",
    "\n",
    "`Pandas` is excellent for [Data Wrangling](https://en.wikipedia.org/wiki/Data_wrangling), our main topic. \n",
    "\n",
    "This is the process making raw data ready for statistical analysis and/or modeling."
   ]
  },
  {
   "cell_type": "markdown",
   "metadata": {
    "slideshow": {
     "slide_type": "slide"
    }
   },
   "source": [
    "## Useful Resources\n",
    "\n",
    "The [Pandas Cheatsheet](https://pandas.pydata.org/Pandas_Cheat_Sheet.pdf) is an excellent two-page summary of essential `pandas` features.\n",
    "\n",
    "The [Official Pandas Docs](https://pandas.pydata.org/docs/) are the single best resource for information on `pandas` short of the source code.\n",
    "\n",
    "If you are looking to learn about a specific function or feature, go into the API section.\n",
    "\n",
    "The docs also offer tutorials and other helpful material."
   ]
  },
  {
   "cell_type": "markdown",
   "metadata": {
    "slideshow": {
     "slide_type": "slide"
    }
   },
   "source": [
    "## Contents\n",
    "\n",
    "1. Setup\n",
    "2. Main Data Structures\n",
    "3. Basic Data Wrangling: Loading, Viewing, Cleaning, and Enriching Data\n",
    "4. More Data Wrangling: Aggregating, Reshaping, Merging and Concatenating Data\n",
    "5. Conclusion"
   ]
  },
  {
   "cell_type": "markdown",
   "metadata": {
    "slideshow": {
     "slide_type": "slide"
    }
   },
   "source": [
    "## Setup\n",
    "\n",
    "We will walk through the first steps of analyzing a sample dataset.\n",
    "\n",
    "To follow the workshop on your own machine, you should have Anaconda already installed.\n",
    "\n",
    "https://www.anaconda.com/products/individual\n",
    "\n",
    "This will automatically include the necessary dependencies.\n",
    "\n",
    "Our data set is Semra Sevi's Canadian Federal Elections dataset.\n",
    "\n",
    "You can find a copies of the dataset and code at the following addresses.\n",
    "\n",
    "- Code: https://github.com/cmekik/CDSI_DSwP\n",
    "- Data: https://doi.org/10.7910/DVN/ABFNSQ "
   ]
  },
  {
   "cell_type": "markdown",
   "metadata": {
    "slideshow": {
     "slide_type": "slide"
    }
   },
   "source": [
    "### Getting Ready to Code\n",
    "\n",
    "`Jupyter` is a python tool for rich interactive coding that ships with Anaconda.\n",
    "\n",
    "This presentation uses `Jupyter` notebook, in fact!\n",
    "\n",
    "To get set, create a new folder in which you will work and copy the materials into it.\n",
    "\n",
    "Then launch your machines console, navigate to your folder, activate your conda environment, and run the following.\n",
    "\n",
    "```jupyter notebook```\n",
    "\n",
    "This should launch Jupyter notebook in your browser. When it does, you can open the notebook."
   ]
  },
  {
   "cell_type": "markdown",
   "metadata": {
    "slideshow": {
     "slide_type": "slide"
    }
   },
   "source": [
    "### Installing and Importing pandas\n",
    "\n",
    "`pandas` comes pre-packaged in Anaconda.\n",
    "\n",
    "You can always install it using the following pip command: ```pip install pandas```\n",
    "\n",
    "If you have conda, but not pandas, you can also do: ```conda install pandas```\n",
    "\n",
    "Base `pandas` has only a few dependencies, but you may have to install optional dependencies depending on your work and your setup.\n",
    "\n",
    "For a full list of optional dependencies see the\n",
    "[Installation Documentation](https://pandas.pydata.org/docs/getting_started/install.html)\n"
   ]
  },
  {
   "cell_type": "code",
   "execution_count": null,
   "metadata": {
    "slideshow": {
     "slide_type": "fragment"
    }
   },
   "outputs": [],
   "source": [
    "# import the pandas library!\n",
    "\n",
    "import pandas as pd"
   ]
  },
  {
   "cell_type": "markdown",
   "metadata": {
    "slideshow": {
     "slide_type": "slide"
    }
   },
   "source": [
    "## Main Data Structures\n",
    "\n",
    "There are two main data structures in `pandas`. \n",
    "- `Series` represent one single column of data\n",
    "- `DataFrame` represents a two dimensional array of data\n",
    "\n",
    "These are *array-like* data structures. \n",
    "\n",
    "- They have fixed dimensions.\n",
    "- Their entries are of a homogeneous datatype.\n",
    "- They are associated with indices, which help with data access\n",
    "- They support a variety of mathematical operations."
   ]
  },
  {
   "cell_type": "markdown",
   "metadata": {
    "slideshow": {
     "slide_type": "slide"
    }
   },
   "source": [
    "### Pandas Series\n",
    "\n",
    "> Series is a one-dimensional labeled array capable of holding any data type (integers, strings, floating point numbers, Python objects, etc.). The axis labels are collectively referred to as the index. "
   ]
  },
  {
   "cell_type": "code",
   "execution_count": null,
   "metadata": {
    "scrolled": true,
    "slideshow": {
     "slide_type": "fragment"
    }
   },
   "outputs": [],
   "source": [
    "s = pd.Series([1, 2, 3, 4, 5], index=[\"Lbl1\", \"Lbl2\", \"Lbl3\", \"Lbl4\", \"Lbl5\"])\n",
    "s"
   ]
  },
  {
   "cell_type": "code",
   "execution_count": null,
   "metadata": {
    "slideshow": {
     "slide_type": "fragment"
    }
   },
   "outputs": [],
   "source": [
    "s.shape, s.size, s.dtype"
   ]
  },
  {
   "cell_type": "code",
   "execution_count": null,
   "metadata": {},
   "outputs": [],
   "source": [
    "s.index"
   ]
  },
  {
   "cell_type": "markdown",
   "metadata": {
    "slideshow": {
     "slide_type": "slide"
    }
   },
   "source": [
    "### Series Data Access\n",
    "\n",
    "There are *many* ways to access data with Series objects.\n",
    "\n",
    "Which one you use will depend on the situation.\n",
    "\n",
    "Let's look at some common patterns.\n",
    "\n",
    "See the docs on [Indexing and Selecting Data](https://pandas.pydata.org/docs/user_guide/indexing.html) for more details."
   ]
  },
  {
   "cell_type": "markdown",
   "metadata": {
    "slideshow": {
     "slide_type": "slide"
    }
   },
   "source": [
    "#### Using `loc` and `iloc`\n",
    "\n",
    "These are the basic data access methods"
   ]
  },
  {
   "cell_type": "code",
   "execution_count": null,
   "metadata": {
    "scrolled": true,
    "slideshow": {
     "slide_type": "-"
    }
   },
   "outputs": [],
   "source": [
    "s.loc[\"Lbl1\"]  # access data by index label"
   ]
  },
  {
   "cell_type": "code",
   "execution_count": null,
   "metadata": {},
   "outputs": [],
   "source": [
    "s.iloc[0] # access data by position in index"
   ]
  },
  {
   "cell_type": "markdown",
   "metadata": {
    "slideshow": {
     "slide_type": "fragment"
    }
   },
   "source": [
    "#### Using Regular Subscripts\n",
    "\n",
    "Subscripts try to behave intelligently depending on the data type you pass in."
   ]
  },
  {
   "cell_type": "code",
   "execution_count": null,
   "metadata": {
    "slideshow": {
     "slide_type": "-"
    }
   },
   "outputs": [],
   "source": [
    "s[\"Lbl1\"], s[0] \n",
    "# direct indexing; multifunction, tries to be smart"
   ]
  },
  {
   "cell_type": "markdown",
   "metadata": {
    "slideshow": {
     "slide_type": "slide"
    }
   },
   "source": [
    "#### Subsetting Data\n",
    "\n",
    "We can use boolean/logical expressions to select data.\n",
    "\n",
    "See the cheat sheet for a quick list of different operators."
   ]
  },
  {
   "cell_type": "code",
   "execution_count": null,
   "metadata": {},
   "outputs": [],
   "source": [
    "2 < s # Constructing a boolean series"
   ]
  },
  {
   "cell_type": "code",
   "execution_count": null,
   "metadata": {},
   "outputs": [],
   "source": [
    "s[2 < s] # Simple boolean query"
   ]
  },
  {
   "cell_type": "code",
   "execution_count": null,
   "metadata": {},
   "outputs": [],
   "source": [
    "s[(2 < s) & (s < 5)] # More complex boolean; watch operator precedence!"
   ]
  },
  {
   "cell_type": "markdown",
   "metadata": {
    "slideshow": {
     "slide_type": "slide"
    }
   },
   "source": [
    "Look at what happens to the index with a boolean selection."
   ]
  },
  {
   "cell_type": "code",
   "execution_count": null,
   "metadata": {},
   "outputs": [],
   "source": [
    "s[2 < s] "
   ]
  },
  {
   "cell_type": "markdown",
   "metadata": {
    "slideshow": {
     "slide_type": "fragment"
    }
   },
   "source": [
    "We lose some index entries! \n",
    "\n",
    "But, sometimes, we want to keep the index intact. Here is how to do that."
   ]
  },
  {
   "cell_type": "code",
   "execution_count": null,
   "metadata": {
    "slideshow": {
     "slide_type": "-"
    }
   },
   "outputs": [],
   "source": [
    "s.where(s > 2) # boolean indexing again, but preserving the original index"
   ]
  },
  {
   "cell_type": "markdown",
   "metadata": {
    "slideshow": {
     "slide_type": "slide"
    }
   },
   "source": [
    "### Pandas DataFrames\n",
    "\n",
    "> DataFrame is a 2-dimensional labeled data structure with columns of potentially different types. You can think of it like a spreadsheet or SQL table, or a dict of Series objects. It is generally the most commonly used pandas object.\n"
   ]
  },
  {
   "cell_type": "code",
   "execution_count": null,
   "metadata": {},
   "outputs": [],
   "source": [
    "df = pd.DataFrame({\"another_s\": [6, 7, 8, 9, 10],\n",
    "                   \"yet another\": [11, None, None, 14, 15]},\n",
    "    index=[\"Lbl1\", \"Lbl2\", \"Lbl3\", \"Lbl4\", \"Lbl5\"])\n",
    "df"
   ]
  },
  {
   "cell_type": "code",
   "execution_count": null,
   "metadata": {
    "slideshow": {
     "slide_type": "fragment"
    }
   },
   "outputs": [],
   "source": [
    "df.columns # dfs have column indices!"
   ]
  },
  {
   "cell_type": "markdown",
   "metadata": {
    "slideshow": {
     "slide_type": "slide"
    }
   },
   "source": [
    "### DataFrame Data Access\n",
    "\n",
    "You can use the same methods as Series to access and subset DataFrame data.\n",
    "\n",
    "The behaviour is slightly different in some cases, and there some additional functionality that allows you to work with columns.\n",
    "\n",
    "For further details, see "
   ]
  },
  {
   "cell_type": "markdown",
   "metadata": {
    "slideshow": {
     "slide_type": "slide"
    }
   },
   "source": [
    "#### Accessing Rows and Columns"
   ]
  },
  {
   "cell_type": "code",
   "execution_count": null,
   "metadata": {},
   "outputs": [],
   "source": [
    "df.another_s"
   ]
  },
  {
   "cell_type": "code",
   "execution_count": null,
   "metadata": {},
   "outputs": [],
   "source": [
    "# 'df.yet another' invalid!\n",
    "df[\"yet another\"]"
   ]
  },
  {
   "cell_type": "markdown",
   "metadata": {
    "slideshow": {
     "slide_type": "slide"
    }
   },
   "source": [
    "To select individual rows, use `loc` and `iloc`"
   ]
  },
  {
   "cell_type": "code",
   "execution_count": null,
   "metadata": {},
   "outputs": [],
   "source": [
    "df.loc[\"Lbl1\"]"
   ]
  },
  {
   "cell_type": "code",
   "execution_count": null,
   "metadata": {},
   "outputs": [],
   "source": [
    "df.iloc[0]"
   ]
  },
  {
   "cell_type": "markdown",
   "metadata": {
    "slideshow": {
     "slide_type": "slide"
    }
   },
   "source": [
    "#### Adding, Selecting and Reordering Columns"
   ]
  },
  {
   "cell_type": "code",
   "execution_count": null,
   "metadata": {},
   "outputs": [],
   "source": [
    "df[\"s\"] = s # Remeber s?\n",
    "df"
   ]
  },
  {
   "cell_type": "code",
   "execution_count": null,
   "metadata": {},
   "outputs": [],
   "source": [
    "df[[\"s\", \"another_s\"]] # Subset and reorder columns"
   ]
  },
  {
   "cell_type": "markdown",
   "metadata": {
    "slideshow": {
     "slide_type": "slide"
    }
   },
   "source": [
    "### DataFrame Subsetting\n",
    "\n",
    "You can use boolean expressions as with series, but with different columns too!"
   ]
  },
  {
   "cell_type": "code",
   "execution_count": null,
   "metadata": {},
   "outputs": [],
   "source": [
    "df[df.s < 2]"
   ]
  },
  {
   "cell_type": "code",
   "execution_count": null,
   "metadata": {},
   "outputs": [],
   "source": [
    "df[df[\"yet another\"] > df.s]"
   ]
  },
  {
   "cell_type": "markdown",
   "metadata": {
    "slideshow": {
     "slide_type": "slide"
    }
   },
   "source": [
    "### Working with Missing Data\n",
    "\n",
    "Take another look at the Dataframe."
   ]
  },
  {
   "cell_type": "code",
   "execution_count": null,
   "metadata": {},
   "outputs": [],
   "source": [
    "df"
   ]
  },
  {
   "cell_type": "markdown",
   "metadata": {
    "slideshow": {
     "slide_type": "fragment"
    }
   },
   "source": [
    "The `NaN` values indicate missing data. \n",
    "\n",
    "Let's briefly review their behavior. We'll look into how to deal with them later."
   ]
  },
  {
   "cell_type": "markdown",
   "metadata": {
    "slideshow": {
     "slide_type": "slide"
    }
   },
   "source": [
    "We can check for missing values."
   ]
  },
  {
   "cell_type": "code",
   "execution_count": null,
   "metadata": {
    "slideshow": {
     "slide_type": "-"
    }
   },
   "outputs": [],
   "source": [
    "df[\"yet another na\"] = df[\"yet another\"].isna()\n",
    "df[[\"another_s\", \"yet another\", \"yet another na\"]]"
   ]
  },
  {
   "cell_type": "markdown",
   "metadata": {},
   "source": [
    "Missing values get propagated in mathematical operations and ignored in aggregation functions."
   ]
  },
  {
   "cell_type": "code",
   "execution_count": null,
   "metadata": {},
   "outputs": [],
   "source": [
    "df[\"another_s\"] + df[\"yet another\"]"
   ]
  },
  {
   "cell_type": "code",
   "execution_count": null,
   "metadata": {},
   "outputs": [],
   "source": [
    "df[\"yet another\"].sum()"
   ]
  },
  {
   "cell_type": "markdown",
   "metadata": {
    "slideshow": {
     "slide_type": "slide"
    }
   },
   "source": [
    "### Special Datatypes\n",
    "\n",
    "Pandas has special datatypes for categorical and time data.\n",
    "\n",
    "These datatypes support a number of sophisticated operations.\n",
    "\n",
    "We will see some of them later on, but for reference see the following:\n",
    "- [Categorical data](https://pandas.pydata.org/pandas-docs/stable/user_guide/categorical.html)\n",
    "- [Timeseries data](https://pandas.pydata.org/pandas-docs/stable/user_guide/timeseries.html)"
   ]
  },
  {
   "cell_type": "markdown",
   "metadata": {
    "slideshow": {
     "slide_type": "slide"
    }
   },
   "source": [
    "## Basic Data Wrangling: Loading, Viewing, Cleaning and Enriching Data\n",
    "\n",
    "You can divide data wrangling into three broad activities.\n",
    "1. Inspection - Get familiar with the data and check for potential problems\n",
    "2. Preparation - Create or clean variables, deal with missing values\n",
    "3. Exploration - Compute descriptives statistics and identify basic patterns in the data\n",
    "\n",
    "The ordering above is typical, but not absolute. \n",
    "\n",
    "The different activities often tend to blend together. "
   ]
  },
  {
   "cell_type": "markdown",
   "metadata": {
    "slideshow": {
     "slide_type": "slide"
    }
   },
   "source": [
    "### Reading and Writing Data\n",
    "\n",
    "`pandas` can import a wide variety of common data formats. \n",
    "\n",
    "Some supported file types include the following.\n",
    "- CSV\n",
    "- Excel\n",
    "- SPSS\n",
    "- STATA\n",
    "\n",
    "For a full list, see the [I/O documentation](https://pandas.pydata.org/docs/reference/io.html)."
   ]
  },
  {
   "cell_type": "markdown",
   "metadata": {
    "slideshow": {
     "slide_type": "slide"
    }
   },
   "source": [
    "We can load datasets by calling the appropriate read function."
   ]
  },
  {
   "cell_type": "code",
   "execution_count": null,
   "metadata": {
    "slideshow": {
     "slide_type": "-"
    }
   },
   "outputs": [],
   "source": [
    "# For this workshop, we will work with the following data\n",
    "load_path = \"federal-candidates-2021-10-20.csv\"\n",
    "\n",
    "# Load the data \n",
    "df = pd.read_csv(load_path)"
   ]
  },
  {
   "cell_type": "markdown",
   "metadata": {
    "slideshow": {
     "slide_type": "fragment"
    }
   },
   "source": [
    "Writing to these formats is also generally supported."
   ]
  },
  {
   "cell_type": "code",
   "execution_count": null,
   "metadata": {
    "slideshow": {
     "slide_type": "-"
    }
   },
   "outputs": [],
   "source": [
    "# Let's save a copy of the data to this file\n",
    "save_path = \"federal-candidates-copy.csv\"\n",
    "\n",
    "# To write a dataframe, call the write method for the chosen format\n",
    "df.to_csv(save_path)"
   ]
  },
  {
   "cell_type": "markdown",
   "metadata": {
    "slideshow": {
     "slide_type": "slide"
    }
   },
   "source": [
    "### Viewing the Data\n",
    "\n",
    "The first step in analyzing data is to get familiar with it.\n",
    "\n",
    "This way, we get a feel for how much cleaning will be necessary.\n",
    "\n",
    "We also give ourselves a chance to catch anything weird."
   ]
  },
  {
   "cell_type": "markdown",
   "metadata": {
    "slideshow": {
     "slide_type": "slide"
    }
   },
   "source": [
    "To get our bearings, let's take a look at the metadata."
   ]
  },
  {
   "cell_type": "code",
   "execution_count": null,
   "metadata": {
    "slideshow": {
     "slide_type": "-"
    }
   },
   "outputs": [],
   "source": [
    "df[df.columns[:10]].info()"
   ]
  },
  {
   "cell_type": "markdown",
   "metadata": {
    "slideshow": {
     "slide_type": "slide"
    }
   },
   "source": [
    "A good next step is to inspect the data directly and continue to look for\n",
    "anything weird.\n",
    "\n",
    "We can look at the top or bottom of the dataset or to randomly sample rows from the data set."
   ]
  },
  {
   "cell_type": "code",
   "execution_count": null,
   "metadata": {
    "slideshow": {
     "slide_type": "-"
    }
   },
   "outputs": [],
   "source": [
    "df.head(5) # Peek at the first n rows. See anything weird?"
   ]
  },
  {
   "cell_type": "code",
   "execution_count": null,
   "metadata": {
    "slideshow": {
     "slide_type": "slide"
    }
   },
   "outputs": [],
   "source": [
    "df.tail(5) # Peek at the last n rows."
   ]
  },
  {
   "cell_type": "code",
   "execution_count": null,
   "metadata": {
    "slideshow": {
     "slide_type": "-"
    }
   },
   "outputs": [],
   "source": [
    "df.sample(5) # Peek at a random sample of rows."
   ]
  },
  {
   "cell_type": "markdown",
   "metadata": {
    "slideshow": {
     "slide_type": "slide"
    }
   },
   "source": [
    "### Data Cleaning\n",
    "\n",
    "Let's get familiar with some `pandas` data cleaning tools.\n",
    "\n",
    "Our first data cleaning step is to clean up the data types.\n",
    "\n",
    "Sometimes `pandas` fails to assign the right dtype when constructing a variable. "
   ]
  },
  {
   "cell_type": "markdown",
   "metadata": {
    "slideshow": {
     "slide_type": "slide"
    }
   },
   "source": [
    "#### Adjusting Datatypes\n",
    "\n",
    "String data are typically assigned the 'object' type.\n",
    "\n",
    "This is `pandas`'s way of signaling it doesn't really know how to interpret the data.\n",
    "\n",
    "In this dataset, almost all columns with string data represent categorical\n",
    "variables. \n",
    "\n",
    "However, edate is a date, and candidate_name and occupation are a free-form strings."
   ]
  },
  {
   "cell_type": "code",
   "execution_count": null,
   "metadata": {
    "slideshow": {
     "slide_type": "-"
    }
   },
   "outputs": [],
   "source": [
    "object_cols = df.select_dtypes(include=\"object\").columns\n",
    "print(f\"Object-type columns: {object_cols}.\")"
   ]
  },
  {
   "cell_type": "markdown",
   "metadata": {
    "slideshow": {
     "slide_type": "slide"
    }
   },
   "source": [
    "We can cast the affected variables to the correct dtypes as follows."
   ]
  },
  {
   "cell_type": "code",
   "execution_count": null,
   "metadata": {
    "slideshow": {
     "slide_type": "-"
    }
   },
   "outputs": [],
   "source": [
    "# Cast edate as a datetime variable\n",
    "df.edate = pd.to_datetime(df.edate, yearfirst=True) \n",
    "\n",
    "# Cast object variables as categorical\n",
    "for col in df.select_dtypes(include=\"object\").columns:\n",
    "    if col not in [\"candidate_name\", \"occupation\"]: \n",
    "        df[col] = df[col].astype(\"category\")"
   ]
  },
  {
   "cell_type": "markdown",
   "metadata": {
    "slideshow": {
     "slide_type": "slide"
    }
   },
   "source": [
    " Let's check what happened to the object-type columns."
   ]
  },
  {
   "cell_type": "code",
   "execution_count": null,
   "metadata": {
    "slideshow": {
     "slide_type": "-"
    }
   },
   "outputs": [],
   "source": [
    "df[object_cols].dtypes"
   ]
  },
  {
   "cell_type": "markdown",
   "metadata": {
    "slideshow": {
     "slide_type": "slide"
    }
   },
   "source": [
    "Finally, let's take a look at the numerical data.\n",
    "\n",
    "Do you notice anything weird?"
   ]
  },
  {
   "cell_type": "code",
   "execution_count": null,
   "metadata": {
    "slideshow": {
     "slide_type": "-"
    }
   },
   "outputs": [],
   "source": [
    "float_cols = df.select_dtypes(\"float\").columns\n",
    "print(f\"Float columns: {float_cols}\")\n",
    "\n",
    "int_cols = df.select_dtypes(\"int\").columns\n",
    "print(f\"Int columns: {int_cols}\")"
   ]
  },
  {
   "cell_type": "markdown",
   "metadata": {
    "slideshow": {
     "slide_type": "fragment"
    }
   },
   "source": [
    "Of the four float columns, it is only natural to represent `percent_votes` as a \n",
    "float type variable. \n",
    "\n",
    "For `riding_id`, we are better off using a categorical datatype, even though the \n",
    "values look like integers. \n",
    "\n",
    "Likewise, the `id` column should also be viewed as a\n",
    "categorical. In both cases, the ordering of the values is not meaningful."
   ]
  },
  {
   "cell_type": "markdown",
   "metadata": {
    "slideshow": {
     "slide_type": "slide"
    }
   },
   "source": [
    "Here is how we convert the dataype of `riding_id` and `id`."
   ]
  },
  {
   "cell_type": "code",
   "execution_count": null,
   "metadata": {
    "slideshow": {
     "slide_type": "-"
    }
   },
   "outputs": [],
   "source": [
    "df.riding_id = df.riding_id.astype(\"category\")\n",
    "df.id = df.id.astype(\"category\")"
   ]
  },
  {
   "cell_type": "markdown",
   "metadata": {
    "slideshow": {
     "slide_type": "slide"
    }
   },
   "source": [
    "The `birth_year` and `votes` columns should be using an integer dtype.\n",
    "\n",
    "But why were three variables get 'mis-coded' as float in the first place? \n",
    "\n",
    "Perhaps we can get a clue by comparing to correct int variables"
   ]
  },
  {
   "cell_type": "code",
   "execution_count": null,
   "metadata": {
    "slideshow": {
     "slide_type": "-"
    }
   },
   "outputs": [],
   "source": [
    "df[[\"birth_year\", \"votes\", \"year\", \"num_candidates\"]].info()"
   ]
  },
  {
   "cell_type": "markdown",
   "metadata": {
    "slideshow": {
     "slide_type": "slide"
    }
   },
   "source": [
    "It's because the default integer datatype does not support missing\n",
    "values! \n",
    "\n",
    "Luckily, `pandas` has another integer datatype that supports missing values. We\n",
    "can just cast to that."
   ]
  },
  {
   "cell_type": "code",
   "execution_count": null,
   "metadata": {
    "slideshow": {
     "slide_type": "-"
    }
   },
   "outputs": [],
   "source": [
    "df.birth_year = df.birth_year.astype(\"Int64\")\n",
    "df.votes = df.votes.astype(\"Int64\")"
   ]
  },
  {
   "cell_type": "markdown",
   "metadata": {
    "slideshow": {
     "slide_type": "fragment"
    }
   },
   "source": [
    "Don't mix up 'int64' with 'Int64'! In pandas, they are different: \n",
    "- `int64` refers to the regular int type that has no missing value support\n",
    "- `Int64` refers to the to the int type with missing value support"
   ]
  },
  {
   "cell_type": "markdown",
   "metadata": {
    "slideshow": {
     "slide_type": "slide"
    }
   },
   "source": [
    "#### Cleaning Categorical Variables\n",
    "\n",
    "Categorical variables tend to require some extra attention, even in the most\n",
    "well-curated datasets."
   ]
  },
  {
   "cell_type": "markdown",
   "metadata": {
    "slideshow": {
     "slide_type": "fragment"
    }
   },
   "source": [
    "Take a look at the values of the `gender` variable. \n",
    "\n",
    "Keep in mind what the data's README file says about this variable:\n",
    "> gender is a binary factor variable encoding candidate gender."
   ]
  },
  {
   "cell_type": "code",
   "execution_count": null,
   "metadata": {
    "slideshow": {
     "slide_type": "-"
    }
   },
   "outputs": [],
   "source": [
    "df.gender.cat.categories # This is how we access category names"
   ]
  },
  {
   "cell_type": "markdown",
   "metadata": {
    "slideshow": {
     "slide_type": "slide"
    }
   },
   "source": [
    "We were told `gender` is supposed to be a binary variable, but we got three values?\n",
    "\n",
    "So what's going on here? \n",
    "\n",
    "To get a better idea, let's tabulate the variable."
   ]
  },
  {
   "cell_type": "code",
   "execution_count": null,
   "metadata": {
    "slideshow": {
     "slide_type": "-"
    }
   },
   "outputs": [],
   "source": [
    "df.gender.value_counts()"
   ]
  },
  {
   "cell_type": "markdown",
   "metadata": {
    "slideshow": {
     "slide_type": "slide"
    }
   },
   "source": [
    "Let's look up these cases by subsetting the data. "
   ]
  },
  {
   "cell_type": "code",
   "execution_count": null,
   "metadata": {
    "slideshow": {
     "slide_type": "-"
    }
   },
   "outputs": [],
   "source": [
    "df[df.gender == \"2\"]"
   ]
  },
  {
   "cell_type": "markdown",
   "metadata": {
    "slideshow": {
     "slide_type": "fragment"
    }
   },
   "source": [
    "These candidates are from the most recent election and, if you look them up, you'll find that they both have non-binary gender identity. "
   ]
  },
  {
   "cell_type": "markdown",
   "metadata": {
    "slideshow": {
     "slide_type": "slide"
    }
   },
   "source": [
    "We can recode the data to give those two cases more explicit labels. "
   ]
  },
  {
   "cell_type": "code",
   "execution_count": null,
   "metadata": {
    "slideshow": {
     "slide_type": "-"
    }
   },
   "outputs": [],
   "source": [
    "df.gender = df.gender.replace({\"2\": \"NB\"}).astype(\"category\")\n",
    "df.gender.cat.categories"
   ]
  },
  {
   "cell_type": "markdown",
   "metadata": {
    "slideshow": {
     "slide_type": "fragment"
    }
   },
   "source": [
    "Replace is very powerful and works with other variable types as well!\n",
    "\n",
    "It is particularly handy when you want to collapse multiple categories."
   ]
  },
  {
   "cell_type": "markdown",
   "metadata": {
    "slideshow": {
     "slide_type": "slide"
    }
   },
   "source": [
    "Another adjustment we can make is to rename categories. \n",
    "\n",
    "Why? Because it is confusing and difficult to work with\n",
    "poorly named categories."
   ]
  },
  {
   "cell_type": "markdown",
   "metadata": {
    "slideshow": {
     "slide_type": "fragment"
    }
   },
   "source": [
    "Take a look at the category names in the `censuscategory` variable. "
   ]
  },
  {
   "cell_type": "code",
   "execution_count": null,
   "metadata": {
    "slideshow": {
     "slide_type": "-"
    }
   },
   "outputs": [],
   "source": [
    "df.censuscategory.cat.categories"
   ]
  },
  {
   "cell_type": "markdown",
   "metadata": {
    "slideshow": {
     "slide_type": "slide"
    }
   },
   "source": [
    "`censuscategory` gives candidates' occupation according to the Census Canada taxonomy.\n",
    "\n",
    "These names are precise, but wordy. Let's abbreviate them. "
   ]
  },
  {
   "cell_type": "code",
   "execution_count": null,
   "metadata": {
    "slideshow": {
     "slide_type": "-"
    }
   },
   "outputs": [],
   "source": [
    "df.censuscategory = df.censuscategory.cat.rename_categories([\n",
    "    \"Business\", \"Health\", \"Management\", \"MP\", \"Science\", \"Resources\", \"Culture\",\n",
    "    \"Social\", \"Manufacturing\", \"Sales\", \"Trades\"\n",
    "])\n",
    "df.censuscategory.head(10)"
   ]
  },
  {
   "cell_type": "markdown",
   "metadata": {
    "slideshow": {
     "slide_type": "slide"
    }
   },
   "source": [
    "#### Subsetting the Data\n",
    "\n",
    "Often, we are not interested in the entirety of the data. It then makes sense to subset the data using the techniques we saw above. \n",
    "\n",
    "Here, we'll focus on a subset of the available variables in elections after 1990."
   ]
  },
  {
   "cell_type": "code",
   "execution_count": null,
   "metadata": {},
   "outputs": [],
   "source": [
    "df = df[(df.year > 1990) & (df.type_elxn == \"General\")] # keep general election data from 1990 on\n",
    "df = df[[\"parliament\", \"edate\", \"year\", \"province\", \"riding\", \"id\", \"candidate_name\", \"birth_year\", \n",
    "         \"gender\", \"censuscategory\", \"party_major_group\", \"votes\", \"percent_votes\", \"elected\"]]\n",
    "df.head(5)"
   ]
  },
  {
   "cell_type": "markdown",
   "metadata": {
    "slideshow": {
     "slide_type": "slide"
    }
   },
   "source": [
    "### Handling Missing Data\n",
    "\n",
    "Let's try to identify where we have missing values."
   ]
  },
  {
   "cell_type": "code",
   "execution_count": null,
   "metadata": {},
   "outputs": [],
   "source": [
    "na_counts = df.isna().sum() # .sum() is an aggregation function!\n",
    "na_counts[na_counts > 0]"
   ]
  },
  {
   "cell_type": "markdown",
   "metadata": {
    "slideshow": {
     "slide_type": "slide"
    }
   },
   "source": [
    "`pandas` gives us several options to deal with missing values.\n",
    "\n",
    "Our options are basically to do nothing, drop the missing values, or impute them (i.e., fill them in)."
   ]
  },
  {
   "cell_type": "markdown",
   "metadata": {
    "slideshow": {
     "slide_type": "slide"
    }
   },
   "source": [
    "To keep things simple, let's focus on a single candidate, Elizabeth May (`id == 22644`)."
   ]
  },
  {
   "cell_type": "code",
   "execution_count": null,
   "metadata": {
    "scrolled": true,
    "slideshow": {
     "slide_type": "-"
    }
   },
   "outputs": [],
   "source": [
    "elizabeth_may = df[df.id == 22644][[\"edate\", \"birth_year\", \"censuscategory\"]]\n",
    "elizabeth_may"
   ]
  },
  {
   "cell_type": "markdown",
   "metadata": {
    "slideshow": {
     "slide_type": "slide"
    }
   },
   "source": [
    "Dropping is the simplest solution, but is not ideal because of how much data is lost."
   ]
  },
  {
   "cell_type": "code",
   "execution_count": null,
   "metadata": {
    "slideshow": {
     "slide_type": "-"
    }
   },
   "outputs": [],
   "source": [
    "elizabeth_may.dropna() # Drop all rows with missing data"
   ]
  },
  {
   "cell_type": "code",
   "execution_count": null,
   "metadata": {},
   "outputs": [],
   "source": [
    "elizabeth_may.dropna(axis=1) # Drop columns with missing data"
   ]
  },
  {
   "cell_type": "markdown",
   "metadata": {
    "slideshow": {
     "slide_type": "slide"
    }
   },
   "source": [
    "Another strategy is to fill in the missing data with some reasonable values."
   ]
  },
  {
   "cell_type": "code",
   "execution_count": null,
   "metadata": {
    "slideshow": {
     "slide_type": "-"
    }
   },
   "outputs": [],
   "source": [
    "elizabeth_may.birth_year # Original data with missing values"
   ]
  },
  {
   "cell_type": "code",
   "execution_count": null,
   "metadata": {
    "slideshow": {
     "slide_type": "-"
    }
   },
   "outputs": [],
   "source": [
    "elizabeth_may.birth_year.fillna(1954) # Fill birth year by fixed value"
   ]
  },
  {
   "cell_type": "markdown",
   "metadata": {
    "slideshow": {
     "slide_type": "slide"
    }
   },
   "source": [
    "It's best not to do manual imputation. We could use some automation instead.\n",
    "\n",
    "A simple automation is to carry existing values forwards or backwards through the data. But, we have to make sure the data is sorted properly."
   ]
  },
  {
   "cell_type": "code",
   "execution_count": null,
   "metadata": {},
   "outputs": [],
   "source": [
    "em_sorted = elizabeth_may.sort_values(\"edate\") # Make sure data is sorted first."
   ]
  },
  {
   "cell_type": "code",
   "execution_count": null,
   "metadata": {
    "slideshow": {
     "slide_type": "-"
    }
   },
   "outputs": [],
   "source": [
    "em_sorted.birth_year.fillna(method=\"bfill\") # Carry birth year back over the index"
   ]
  },
  {
   "cell_type": "code",
   "execution_count": null,
   "metadata": {},
   "outputs": [],
   "source": [
    "em_sorted.censuscategory.fillna(method=\"pad\") # Carry occupation forward in time"
   ]
  },
  {
   "cell_type": "markdown",
   "metadata": {
    "slideshow": {
     "slide_type": "slide"
    }
   },
   "source": [
    "You can do more sophisticated imputation as well, using the `interpolate()` method.\n",
    "\n",
    "A detailed discussion of missing values and basic imputation is available in [Working with Missing Data](https://pandas.pydata.org/docs/user_guide/missing_data.html).\n",
    "\n",
    "Finally, we can combine the imputation functions with techniques discussed in the next section to handle grouped data."
   ]
  },
  {
   "cell_type": "markdown",
   "metadata": {
    "slideshow": {
     "slide_type": "slide"
    }
   },
   "source": [
    "### Enriching the Data with New Variables\n",
    "\n",
    "Once we have sufficiently cleaned our data, we usually want to calculate new variables from it.\n",
    "\n",
    "We can simply calculate the value and add a new variable as show below."
   ]
  },
  {
   "cell_type": "code",
   "execution_count": null,
   "metadata": {
    "slideshow": {
     "slide_type": "-"
    }
   },
   "outputs": [],
   "source": [
    "df[\"age\"] = df.year - df.birth_year\n",
    "df.age.describe()"
   ]
  },
  {
   "cell_type": "markdown",
   "metadata": {
    "slideshow": {
     "slide_type": "slide"
    }
   },
   "source": [
    "#### Grouping\n",
    "\n",
    "Often, we want to calculate statistics by group.\n",
    "\n",
    "For this, we can use `groupby()`, which will automatically split the dataset by group. \n",
    "\n",
    "We can then [aggregate, filter, or transform the data by group](https://pandas.pydata.org/docs/user_guide/groupby.html).\n",
    "\n",
    "As a starting example let's try to find the age of the oldest MP in each parliament."
   ]
  },
  {
   "cell_type": "code",
   "execution_count": null,
   "metadata": {
    "scrolled": true
   },
   "outputs": [],
   "source": [
    "grouped = df.groupby(\"parliament\") # Split into groups\n",
    "grouped_age = grouped.age # Select the age variable\n",
    "df[\"oldest_mp_age\"] = grouped_age.transform(max) # Find max age within each group\n",
    "df.oldest_mp_age.describe() # Describe the result"
   ]
  },
  {
   "cell_type": "markdown",
   "metadata": {
    "slideshow": {
     "slide_type": "slide"
    }
   },
   "source": [
    "To give a more complex example, let's try calculating the margin of victory in each contest."
   ]
  },
  {
   "cell_type": "code",
   "execution_count": null,
   "metadata": {},
   "outputs": [],
   "source": [
    "grouped = df.groupby([\"edate\", \"province\", \"riding\"]) # group by contest\n",
    "grouped_pct_votes = grouped.percent_votes # select grouped percent votes variable\n",
    "\n",
    "def compute_margin(data): # define margin computation\n",
    "    if data.size > 1:\n",
    "        winner = data.sort_values(ascending=False).iloc[0]\n",
    "        runner_up = data.sort_values(ascending=False).iloc[1]\n",
    "        output = data - winner\n",
    "        output.iloc[output.argmax()] = winner - runner_up\n",
    "        return output\n",
    "    else:\n",
    "        return None\n",
    "\n",
    "df[\"margin\"] = grouped_pct_votes.transform(compute_margin) # calculate margin"
   ]
  },
  {
   "cell_type": "markdown",
   "metadata": {
    "slideshow": {
     "slide_type": "slide"
    }
   },
   "source": [
    "Let's inspect the result to make sure we did not blunder."
   ]
  },
  {
   "cell_type": "code",
   "execution_count": 77,
   "metadata": {},
   "outputs": [
    {
     "data": {
      "text/html": [
       "<div>\n",
       "<style scoped>\n",
       "    .dataframe tbody tr th:only-of-type {\n",
       "        vertical-align: middle;\n",
       "    }\n",
       "\n",
       "    .dataframe tbody tr th {\n",
       "        vertical-align: top;\n",
       "    }\n",
       "\n",
       "    .dataframe thead th {\n",
       "        text-align: right;\n",
       "    }\n",
       "</style>\n",
       "<table border=\"1\" class=\"dataframe\">\n",
       "  <thead>\n",
       "    <tr style=\"text-align: right;\">\n",
       "      <th></th>\n",
       "      <th>parliament</th>\n",
       "      <th>province</th>\n",
       "      <th>riding</th>\n",
       "      <th>party_major_group</th>\n",
       "      <th>percent_votes</th>\n",
       "      <th>margin</th>\n",
       "    </tr>\n",
       "  </thead>\n",
       "  <tbody>\n",
       "    <tr>\n",
       "      <th>29438</th>\n",
       "      <td>35</td>\n",
       "      <td>Alberta</td>\n",
       "      <td>ATHABASCA</td>\n",
       "      <td>Third_Party</td>\n",
       "      <td>0.597903</td>\n",
       "      <td>-46.467775</td>\n",
       "    </tr>\n",
       "    <tr>\n",
       "      <th>28555</th>\n",
       "      <td>35</td>\n",
       "      <td>Alberta</td>\n",
       "      <td>ATHABASCA</td>\n",
       "      <td>Third_Party</td>\n",
       "      <td>0.956644</td>\n",
       "      <td>-46.109034</td>\n",
       "    </tr>\n",
       "    <tr>\n",
       "      <th>29459</th>\n",
       "      <td>35</td>\n",
       "      <td>Alberta</td>\n",
       "      <td>ATHABASCA</td>\n",
       "      <td>CCF_NDP</td>\n",
       "      <td>7.631692</td>\n",
       "      <td>-39.433986</td>\n",
       "    </tr>\n",
       "    <tr>\n",
       "      <th>29514</th>\n",
       "      <td>35</td>\n",
       "      <td>Alberta</td>\n",
       "      <td>ATHABASCA</td>\n",
       "      <td>Conservative</td>\n",
       "      <td>19.157417</td>\n",
       "      <td>-27.908261</td>\n",
       "    </tr>\n",
       "    <tr>\n",
       "      <th>29177</th>\n",
       "      <td>35</td>\n",
       "      <td>Alberta</td>\n",
       "      <td>ATHABASCA</td>\n",
       "      <td>Liberal</td>\n",
       "      <td>24.590666</td>\n",
       "      <td>-22.475012</td>\n",
       "    </tr>\n",
       "    <tr>\n",
       "      <th>29102</th>\n",
       "      <td>35</td>\n",
       "      <td>Alberta</td>\n",
       "      <td>ATHABASCA</td>\n",
       "      <td>Reform_Alliance</td>\n",
       "      <td>47.065678</td>\n",
       "      <td>22.475012</td>\n",
       "    </tr>\n",
       "    <tr>\n",
       "      <th>28610</th>\n",
       "      <td>35</td>\n",
       "      <td>Alberta</td>\n",
       "      <td>BEAVER RIVER</td>\n",
       "      <td>Independent</td>\n",
       "      <td>0.307602</td>\n",
       "      <td>-57.694950</td>\n",
       "    </tr>\n",
       "    <tr>\n",
       "      <th>29309</th>\n",
       "      <td>35</td>\n",
       "      <td>Alberta</td>\n",
       "      <td>BEAVER RIVER</td>\n",
       "      <td>Third_Party</td>\n",
       "      <td>0.962073</td>\n",
       "      <td>-57.040479</td>\n",
       "    </tr>\n",
       "    <tr>\n",
       "      <th>28190</th>\n",
       "      <td>35</td>\n",
       "      <td>Alberta</td>\n",
       "      <td>BEAVER RIVER</td>\n",
       "      <td>CCF_NDP</td>\n",
       "      <td>3.435976</td>\n",
       "      <td>-54.566576</td>\n",
       "    </tr>\n",
       "    <tr>\n",
       "      <th>29518</th>\n",
       "      <td>35</td>\n",
       "      <td>Alberta</td>\n",
       "      <td>BEAVER RIVER</td>\n",
       "      <td>Conservative</td>\n",
       "      <td>12.611670</td>\n",
       "      <td>-45.390882</td>\n",
       "    </tr>\n",
       "    <tr>\n",
       "      <th>28594</th>\n",
       "      <td>35</td>\n",
       "      <td>Alberta</td>\n",
       "      <td>BEAVER RIVER</td>\n",
       "      <td>Liberal</td>\n",
       "      <td>24.680126</td>\n",
       "      <td>-33.322426</td>\n",
       "    </tr>\n",
       "    <tr>\n",
       "      <th>28228</th>\n",
       "      <td>35</td>\n",
       "      <td>Alberta</td>\n",
       "      <td>BEAVER RIVER</td>\n",
       "      <td>Reform_Alliance</td>\n",
       "      <td>58.002552</td>\n",
       "      <td>33.322426</td>\n",
       "    </tr>\n",
       "    <tr>\n",
       "      <th>28596</th>\n",
       "      <td>35</td>\n",
       "      <td>Alberta</td>\n",
       "      <td>CALGARY CENTRE</td>\n",
       "      <td>Third_Party</td>\n",
       "      <td>0.181503</td>\n",
       "      <td>-44.894989</td>\n",
       "    </tr>\n",
       "    <tr>\n",
       "      <th>28876</th>\n",
       "      <td>35</td>\n",
       "      <td>Alberta</td>\n",
       "      <td>CALGARY CENTRE</td>\n",
       "      <td>Third_Party</td>\n",
       "      <td>0.183497</td>\n",
       "      <td>-44.892995</td>\n",
       "    </tr>\n",
       "    <tr>\n",
       "      <th>29002</th>\n",
       "      <td>35</td>\n",
       "      <td>Alberta</td>\n",
       "      <td>CALGARY CENTRE</td>\n",
       "      <td>Third_Party</td>\n",
       "      <td>0.708060</td>\n",
       "      <td>-44.368432</td>\n",
       "    </tr>\n",
       "    <tr>\n",
       "      <th>29673</th>\n",
       "      <td>35</td>\n",
       "      <td>Alberta</td>\n",
       "      <td>CALGARY CENTRE</td>\n",
       "      <td>Third_Party</td>\n",
       "      <td>0.965355</td>\n",
       "      <td>-44.111137</td>\n",
       "    </tr>\n",
       "    <tr>\n",
       "      <th>29094</th>\n",
       "      <td>35</td>\n",
       "      <td>Alberta</td>\n",
       "      <td>CALGARY CENTRE</td>\n",
       "      <td>Independent</td>\n",
       "      <td>3.476475</td>\n",
       "      <td>-41.600017</td>\n",
       "    </tr>\n",
       "    <tr>\n",
       "      <th>28709</th>\n",
       "      <td>35</td>\n",
       "      <td>Alberta</td>\n",
       "      <td>CALGARY CENTRE</td>\n",
       "      <td>CCF_NDP</td>\n",
       "      <td>4.286256</td>\n",
       "      <td>-40.790236</td>\n",
       "    </tr>\n",
       "    <tr>\n",
       "      <th>28490</th>\n",
       "      <td>35</td>\n",
       "      <td>Alberta</td>\n",
       "      <td>CALGARY CENTRE</td>\n",
       "      <td>Conservative</td>\n",
       "      <td>14.891198</td>\n",
       "      <td>-30.185294</td>\n",
       "    </tr>\n",
       "    <tr>\n",
       "      <th>27918</th>\n",
       "      <td>35</td>\n",
       "      <td>Alberta</td>\n",
       "      <td>CALGARY CENTRE</td>\n",
       "      <td>Liberal</td>\n",
       "      <td>30.231167</td>\n",
       "      <td>-14.845325</td>\n",
       "    </tr>\n",
       "  </tbody>\n",
       "</table>\n",
       "</div>"
      ],
      "text/plain": [
       "       parliament province          riding party_major_group  percent_votes  \\\n",
       "29438          35  Alberta       ATHABASCA       Third_Party       0.597903   \n",
       "28555          35  Alberta       ATHABASCA       Third_Party       0.956644   \n",
       "29459          35  Alberta       ATHABASCA           CCF_NDP       7.631692   \n",
       "29514          35  Alberta       ATHABASCA      Conservative      19.157417   \n",
       "29177          35  Alberta       ATHABASCA           Liberal      24.590666   \n",
       "29102          35  Alberta       ATHABASCA   Reform_Alliance      47.065678   \n",
       "28610          35  Alberta    BEAVER RIVER       Independent       0.307602   \n",
       "29309          35  Alberta    BEAVER RIVER       Third_Party       0.962073   \n",
       "28190          35  Alberta    BEAVER RIVER           CCF_NDP       3.435976   \n",
       "29518          35  Alberta    BEAVER RIVER      Conservative      12.611670   \n",
       "28594          35  Alberta    BEAVER RIVER           Liberal      24.680126   \n",
       "28228          35  Alberta    BEAVER RIVER   Reform_Alliance      58.002552   \n",
       "28596          35  Alberta  CALGARY CENTRE       Third_Party       0.181503   \n",
       "28876          35  Alberta  CALGARY CENTRE       Third_Party       0.183497   \n",
       "29002          35  Alberta  CALGARY CENTRE       Third_Party       0.708060   \n",
       "29673          35  Alberta  CALGARY CENTRE       Third_Party       0.965355   \n",
       "29094          35  Alberta  CALGARY CENTRE       Independent       3.476475   \n",
       "28709          35  Alberta  CALGARY CENTRE           CCF_NDP       4.286256   \n",
       "28490          35  Alberta  CALGARY CENTRE      Conservative      14.891198   \n",
       "27918          35  Alberta  CALGARY CENTRE           Liberal      30.231167   \n",
       "\n",
       "          margin  \n",
       "29438 -46.467775  \n",
       "28555 -46.109034  \n",
       "29459 -39.433986  \n",
       "29514 -27.908261  \n",
       "29177 -22.475012  \n",
       "29102  22.475012  \n",
       "28610 -57.694950  \n",
       "29309 -57.040479  \n",
       "28190 -54.566576  \n",
       "29518 -45.390882  \n",
       "28594 -33.322426  \n",
       "28228  33.322426  \n",
       "28596 -44.894989  \n",
       "28876 -44.892995  \n",
       "29002 -44.368432  \n",
       "29673 -44.111137  \n",
       "29094 -41.600017  \n",
       "28709 -40.790236  \n",
       "28490 -30.185294  \n",
       "27918 -14.845325  "
      ]
     },
     "execution_count": 77,
     "metadata": {},
     "output_type": "execute_result"
    }
   ],
   "source": [
    "(df[[\"parliament\", \"province\", \"riding\", \"party_major_group\", \"percent_votes\", \"margin\"]]\n",
    "    .sort_values(by=[\"parliament\", \"province\", \"riding\", \"percent_votes\"])).head(20)"
   ]
  },
  {
   "cell_type": "code",
   "execution_count": 78,
   "metadata": {},
   "outputs": [
    {
     "data": {
      "text/plain": [
       "count    18076.000000\n",
       "mean       -28.122740\n",
       "std         28.020632\n",
       "min        -83.992778\n",
       "25%        -46.974372\n",
       "50%        -36.710155\n",
       "75%        -13.597773\n",
       "max         80.378445\n",
       "Name: margin, dtype: float64"
      ]
     },
     "execution_count": 78,
     "metadata": {},
     "output_type": "execute_result"
    }
   ],
   "source": [
    "df.margin.describe()"
   ]
  },
  {
   "cell_type": "markdown",
   "metadata": {
    "slideshow": {
     "slide_type": "slide"
    }
   },
   "source": [
    "#### Method Chaining and Piping\n",
    "\n",
    "Did you notice how tedious it was to calculate the pervious variables? \n",
    "\n",
    "We had to set a lot of variables. \n",
    "\n",
    "We can avoid this using a technique called *method chaining* or *piping*.\n",
    "\n",
    "Here is how it goes for the margin of victory:"
   ]
  },
  {
   "cell_type": "code",
   "execution_count": null,
   "metadata": {},
   "outputs": [],
   "source": [
    "df[\"margin\"] = (df\n",
    "    .groupby([\"edate\", \"province\", \"riding\"])\n",
    "    .percent_votes\n",
    "    .transform(compute_margin)\n",
    ")"
   ]
  },
  {
   "cell_type": "markdown",
   "metadata": {
    "slideshow": {
     "slide_type": "fragment"
    }
   },
   "source": [
    "This works because each function we call in the sequence calls a method of the result returned by the previous function.\n",
    "\n",
    "It's a technique is good for grouping together operations into logical chunks."
   ]
  },
  {
   "cell_type": "markdown",
   "metadata": {
    "slideshow": {
     "slide_type": "slide"
    }
   },
   "source": [
    "What happens if we want to use piping with functions that are not methods of the result?\n",
    "\n",
    "For instance, what happens if we want to pipe some custom functions?\n",
    "\n",
    "We just use the special method `pipe()`, allows us to pass in arbitrary functions and arguments.\n",
    "\n",
    "- [DataFrame pipe method](https://pandas.pydata.org/docs/reference/api/pandas.DataFrame.pipe.html)\n",
    "- Also available for `Series` and grouped data"
   ]
  },
  {
   "cell_type": "markdown",
   "metadata": {
    "slideshow": {
     "slide_type": "slide"
    }
   },
   "source": [
    "## More Data Wrangling: Aggregating, Reshaping, Merging and Concatenating Data\n",
    "\n",
    "Often, we need to modify the structure of our dataset.\n",
    "\n",
    "There are a few reasons we might want to do this:\n",
    "- We might want to look at aggregate statistics\n",
    "- Our data might need to be formatted a certain way to facilitate or enable analysis\n",
    "- We might need to incorporate some supplemental data to calculate some variable of interest\n",
    "- Our data may be spread over many files and/or dataframes"
   ]
  },
  {
   "cell_type": "markdown",
   "metadata": {
    "slideshow": {
     "slide_type": "slide"
    }
   },
   "source": [
    "### Aggregating Data\n",
    "\n",
    "We often need to calculate aggregate statistics when trying to provide descriptives for our data. \n",
    "\n",
    "Let's calculate the number of candidates in each election of each party and occupation type."
   ]
  },
  {
   "cell_type": "code",
   "execution_count": 79,
   "metadata": {},
   "outputs": [
    {
     "data": {
      "text/html": [
       "<div>\n",
       "<style scoped>\n",
       "    .dataframe tbody tr th:only-of-type {\n",
       "        vertical-align: middle;\n",
       "    }\n",
       "\n",
       "    .dataframe tbody tr th {\n",
       "        vertical-align: top;\n",
       "    }\n",
       "\n",
       "    .dataframe thead th {\n",
       "        text-align: right;\n",
       "    }\n",
       "</style>\n",
       "<table border=\"1\" class=\"dataframe\">\n",
       "  <thead>\n",
       "    <tr style=\"text-align: right;\">\n",
       "      <th></th>\n",
       "      <th>edate</th>\n",
       "      <th>party_major_group</th>\n",
       "      <th>censuscategory</th>\n",
       "      <th>size</th>\n",
       "    </tr>\n",
       "  </thead>\n",
       "  <tbody>\n",
       "    <tr>\n",
       "      <th>0</th>\n",
       "      <td>1993-10-25</td>\n",
       "      <td>Bloc</td>\n",
       "      <td>Business</td>\n",
       "      <td>16</td>\n",
       "    </tr>\n",
       "    <tr>\n",
       "      <th>1</th>\n",
       "      <td>1993-10-25</td>\n",
       "      <td>Bloc</td>\n",
       "      <td>Health</td>\n",
       "      <td>2</td>\n",
       "    </tr>\n",
       "    <tr>\n",
       "      <th>2</th>\n",
       "      <td>1993-10-25</td>\n",
       "      <td>Bloc</td>\n",
       "      <td>Management</td>\n",
       "      <td>7</td>\n",
       "    </tr>\n",
       "    <tr>\n",
       "      <th>3</th>\n",
       "      <td>1993-10-25</td>\n",
       "      <td>Bloc</td>\n",
       "      <td>MP</td>\n",
       "      <td>4</td>\n",
       "    </tr>\n",
       "    <tr>\n",
       "      <th>4</th>\n",
       "      <td>1993-10-25</td>\n",
       "      <td>Bloc</td>\n",
       "      <td>Science</td>\n",
       "      <td>0</td>\n",
       "    </tr>\n",
       "    <tr>\n",
       "      <th>...</th>\n",
       "      <td>...</td>\n",
       "      <td>...</td>\n",
       "      <td>...</td>\n",
       "      <td>...</td>\n",
       "    </tr>\n",
       "    <tr>\n",
       "      <th>875</th>\n",
       "      <td>2021-09-20</td>\n",
       "      <td>Third_Party</td>\n",
       "      <td>Culture</td>\n",
       "      <td>0</td>\n",
       "    </tr>\n",
       "    <tr>\n",
       "      <th>876</th>\n",
       "      <td>2021-09-20</td>\n",
       "      <td>Third_Party</td>\n",
       "      <td>Social</td>\n",
       "      <td>0</td>\n",
       "    </tr>\n",
       "    <tr>\n",
       "      <th>877</th>\n",
       "      <td>2021-09-20</td>\n",
       "      <td>Third_Party</td>\n",
       "      <td>Manufacturing</td>\n",
       "      <td>0</td>\n",
       "    </tr>\n",
       "    <tr>\n",
       "      <th>878</th>\n",
       "      <td>2021-09-20</td>\n",
       "      <td>Third_Party</td>\n",
       "      <td>Sales</td>\n",
       "      <td>0</td>\n",
       "    </tr>\n",
       "    <tr>\n",
       "      <th>879</th>\n",
       "      <td>2021-09-20</td>\n",
       "      <td>Third_Party</td>\n",
       "      <td>Trades</td>\n",
       "      <td>0</td>\n",
       "    </tr>\n",
       "  </tbody>\n",
       "</table>\n",
       "<p>880 rows × 4 columns</p>\n",
       "</div>"
      ],
      "text/plain": [
       "         edate party_major_group censuscategory  size\n",
       "0   1993-10-25              Bloc       Business    16\n",
       "1   1993-10-25              Bloc         Health     2\n",
       "2   1993-10-25              Bloc     Management     7\n",
       "3   1993-10-25              Bloc             MP     4\n",
       "4   1993-10-25              Bloc        Science     0\n",
       "..         ...               ...            ...   ...\n",
       "875 2021-09-20       Third_Party        Culture     0\n",
       "876 2021-09-20       Third_Party         Social     0\n",
       "877 2021-09-20       Third_Party  Manufacturing     0\n",
       "878 2021-09-20       Third_Party          Sales     0\n",
       "879 2021-09-20       Third_Party         Trades     0\n",
       "\n",
       "[880 rows x 4 columns]"
      ]
     },
     "execution_count": 79,
     "metadata": {},
     "output_type": "execute_result"
    }
   ],
   "source": [
    "count = (df\n",
    "    .groupby([\"edate\", \"party_major_group\", \"censuscategory\"], as_index=False)\n",
    "    .size())\n",
    "count"
   ]
  },
  {
   "cell_type": "markdown",
   "metadata": {
    "slideshow": {
     "slide_type": "slide"
    }
   },
   "source": [
    "### Reshaping Data\n",
    "\n",
    "Suppose now that we want the average number of candidates in  each occupation by party.\n",
    "\n",
    "For this, one easy approach is to pivot the party and censuscategory variables to be column indices and then take an average.\n",
    "\n",
    "Refer to [Reshaping and Pivot Tables](https://pandas.pydata.org/docs/user_guide/reshaping.html) for more information."
   ]
  },
  {
   "cell_type": "code",
   "execution_count": 80,
   "metadata": {
    "slideshow": {
     "slide_type": "slide"
    }
   },
   "outputs": [
    {
     "data": {
      "text/html": [
       "<div>\n",
       "<style scoped>\n",
       "    .dataframe tbody tr th:only-of-type {\n",
       "        vertical-align: middle;\n",
       "    }\n",
       "\n",
       "    .dataframe tbody tr th {\n",
       "        vertical-align: top;\n",
       "    }\n",
       "\n",
       "    .dataframe thead tr th {\n",
       "        text-align: left;\n",
       "    }\n",
       "\n",
       "    .dataframe thead tr:last-of-type th {\n",
       "        text-align: right;\n",
       "    }\n",
       "</style>\n",
       "<table border=\"1\" class=\"dataframe\">\n",
       "  <thead>\n",
       "    <tr>\n",
       "      <th>party_major_group</th>\n",
       "      <th colspan=\"10\" halign=\"left\">Bloc</th>\n",
       "      <th>...</th>\n",
       "      <th colspan=\"10\" halign=\"left\">Third_Party</th>\n",
       "    </tr>\n",
       "    <tr>\n",
       "      <th>censuscategory</th>\n",
       "      <th>Business</th>\n",
       "      <th>Health</th>\n",
       "      <th>Management</th>\n",
       "      <th>MP</th>\n",
       "      <th>Science</th>\n",
       "      <th>Resources</th>\n",
       "      <th>Culture</th>\n",
       "      <th>Social</th>\n",
       "      <th>Manufacturing</th>\n",
       "      <th>Sales</th>\n",
       "      <th>...</th>\n",
       "      <th>Health</th>\n",
       "      <th>Management</th>\n",
       "      <th>MP</th>\n",
       "      <th>Science</th>\n",
       "      <th>Resources</th>\n",
       "      <th>Culture</th>\n",
       "      <th>Social</th>\n",
       "      <th>Manufacturing</th>\n",
       "      <th>Sales</th>\n",
       "      <th>Trades</th>\n",
       "    </tr>\n",
       "    <tr>\n",
       "      <th>edate</th>\n",
       "      <th></th>\n",
       "      <th></th>\n",
       "      <th></th>\n",
       "      <th></th>\n",
       "      <th></th>\n",
       "      <th></th>\n",
       "      <th></th>\n",
       "      <th></th>\n",
       "      <th></th>\n",
       "      <th></th>\n",
       "      <th></th>\n",
       "      <th></th>\n",
       "      <th></th>\n",
       "      <th></th>\n",
       "      <th></th>\n",
       "      <th></th>\n",
       "      <th></th>\n",
       "      <th></th>\n",
       "      <th></th>\n",
       "      <th></th>\n",
       "      <th></th>\n",
       "    </tr>\n",
       "  </thead>\n",
       "  <tbody>\n",
       "    <tr>\n",
       "      <th>1993-10-25</th>\n",
       "      <td>16</td>\n",
       "      <td>2</td>\n",
       "      <td>7</td>\n",
       "      <td>4</td>\n",
       "      <td>0</td>\n",
       "      <td>3</td>\n",
       "      <td>3</td>\n",
       "      <td>30</td>\n",
       "      <td>0</td>\n",
       "      <td>4</td>\n",
       "      <td>...</td>\n",
       "      <td>24</td>\n",
       "      <td>42</td>\n",
       "      <td>3</td>\n",
       "      <td>51</td>\n",
       "      <td>26</td>\n",
       "      <td>36</td>\n",
       "      <td>204</td>\n",
       "      <td>8</td>\n",
       "      <td>52</td>\n",
       "      <td>42</td>\n",
       "    </tr>\n",
       "    <tr>\n",
       "      <th>1997-06-02</th>\n",
       "      <td>15</td>\n",
       "      <td>1</td>\n",
       "      <td>6</td>\n",
       "      <td>7</td>\n",
       "      <td>1</td>\n",
       "      <td>1</td>\n",
       "      <td>5</td>\n",
       "      <td>34</td>\n",
       "      <td>0</td>\n",
       "      <td>2</td>\n",
       "      <td>...</td>\n",
       "      <td>18</td>\n",
       "      <td>22</td>\n",
       "      <td>1</td>\n",
       "      <td>24</td>\n",
       "      <td>8</td>\n",
       "      <td>29</td>\n",
       "      <td>137</td>\n",
       "      <td>8</td>\n",
       "      <td>34</td>\n",
       "      <td>20</td>\n",
       "    </tr>\n",
       "    <tr>\n",
       "      <th>2000-11-27</th>\n",
       "      <td>11</td>\n",
       "      <td>1</td>\n",
       "      <td>3</td>\n",
       "      <td>22</td>\n",
       "      <td>1</td>\n",
       "      <td>1</td>\n",
       "      <td>3</td>\n",
       "      <td>29</td>\n",
       "      <td>0</td>\n",
       "      <td>2</td>\n",
       "      <td>...</td>\n",
       "      <td>19</td>\n",
       "      <td>26</td>\n",
       "      <td>5</td>\n",
       "      <td>30</td>\n",
       "      <td>13</td>\n",
       "      <td>32</td>\n",
       "      <td>180</td>\n",
       "      <td>1</td>\n",
       "      <td>41</td>\n",
       "      <td>27</td>\n",
       "    </tr>\n",
       "    <tr>\n",
       "      <th>2004-06-28</th>\n",
       "      <td>9</td>\n",
       "      <td>1</td>\n",
       "      <td>3</td>\n",
       "      <td>20</td>\n",
       "      <td>6</td>\n",
       "      <td>1</td>\n",
       "      <td>5</td>\n",
       "      <td>23</td>\n",
       "      <td>0</td>\n",
       "      <td>0</td>\n",
       "      <td>...</td>\n",
       "      <td>17</td>\n",
       "      <td>33</td>\n",
       "      <td>2</td>\n",
       "      <td>44</td>\n",
       "      <td>19</td>\n",
       "      <td>51</td>\n",
       "      <td>215</td>\n",
       "      <td>8</td>\n",
       "      <td>61</td>\n",
       "      <td>38</td>\n",
       "    </tr>\n",
       "  </tbody>\n",
       "</table>\n",
       "<p>4 rows × 88 columns</p>\n",
       "</div>"
      ],
      "text/plain": [
       "party_major_group     Bloc                                                  \\\n",
       "censuscategory    Business Health Management  MP Science Resources Culture   \n",
       "edate                                                                        \n",
       "1993-10-25              16      2          7   4       0         3       3   \n",
       "1997-06-02              15      1          6   7       1         1       5   \n",
       "2000-11-27              11      1          3  22       1         1       3   \n",
       "2004-06-28               9      1          3  20       6         1       5   \n",
       "\n",
       "party_major_group                             ... Third_Party                \\\n",
       "censuscategory    Social Manufacturing Sales  ...      Health Management MP   \n",
       "edate                                         ...                             \n",
       "1993-10-25            30             0     4  ...          24         42  3   \n",
       "1997-06-02            34             0     2  ...          18         22  1   \n",
       "2000-11-27            29             0     2  ...          19         26  5   \n",
       "2004-06-28            23             0     0  ...          17         33  2   \n",
       "\n",
       "party_major_group                                                              \n",
       "censuscategory    Science Resources Culture Social Manufacturing Sales Trades  \n",
       "edate                                                                          \n",
       "1993-10-25             51        26      36    204             8    52     42  \n",
       "1997-06-02             24         8      29    137             8    34     20  \n",
       "2000-11-27             30        13      32    180             1    41     27  \n",
       "2004-06-28             44        19      51    215             8    61     38  \n",
       "\n",
       "[4 rows x 88 columns]"
      ]
     },
     "execution_count": 80,
     "metadata": {},
     "output_type": "execute_result"
    }
   ],
   "source": [
    "count_p = count.pivot(index=\"edate\", columns=[\"party_major_group\", \"censuscategory\"], values=\"size\")\n",
    "count_p.head(4)"
   ]
  },
  {
   "cell_type": "code",
   "execution_count": 81,
   "metadata": {},
   "outputs": [
    {
     "data": {
      "text/plain": [
       "party_major_group  censuscategory\n",
       "Bloc               Business            8.7\n",
       "                   Health              0.8\n",
       "                   Management          3.5\n",
       "                   MP                 15.6\n",
       "                   Science             2.8\n",
       "                                     ...  \n",
       "Third_Party        Culture            41.6\n",
       "                   Social            159.4\n",
       "                   Manufacturing       4.9\n",
       "                   Sales              56.1\n",
       "                   Trades             32.0\n",
       "Length: 88, dtype: float64"
      ]
     },
     "execution_count": 81,
     "metadata": {},
     "output_type": "execute_result"
    }
   ],
   "source": [
    "count_p.mean()"
   ]
  },
  {
   "cell_type": "markdown",
   "metadata": {
    "slideshow": {
     "slide_type": "slide"
    }
   },
   "source": [
    "We can massage the dataset back to its original shape."
   ]
  },
  {
   "cell_type": "code",
   "execution_count": 82,
   "metadata": {
    "slideshow": {
     "slide_type": "-"
    }
   },
   "outputs": [
    {
     "data": {
      "text/html": [
       "<div>\n",
       "<style scoped>\n",
       "    .dataframe tbody tr th:only-of-type {\n",
       "        vertical-align: middle;\n",
       "    }\n",
       "\n",
       "    .dataframe tbody tr th {\n",
       "        vertical-align: top;\n",
       "    }\n",
       "\n",
       "    .dataframe thead th {\n",
       "        text-align: right;\n",
       "    }\n",
       "</style>\n",
       "<table border=\"1\" class=\"dataframe\">\n",
       "  <thead>\n",
       "    <tr style=\"text-align: right;\">\n",
       "      <th></th>\n",
       "      <th>party_major_group</th>\n",
       "      <th>censuscategory</th>\n",
       "      <th>edate</th>\n",
       "      <th>0</th>\n",
       "    </tr>\n",
       "  </thead>\n",
       "  <tbody>\n",
       "    <tr>\n",
       "      <th>0</th>\n",
       "      <td>Bloc</td>\n",
       "      <td>Business</td>\n",
       "      <td>1993-10-25</td>\n",
       "      <td>16</td>\n",
       "    </tr>\n",
       "    <tr>\n",
       "      <th>1</th>\n",
       "      <td>Bloc</td>\n",
       "      <td>Business</td>\n",
       "      <td>1997-06-02</td>\n",
       "      <td>15</td>\n",
       "    </tr>\n",
       "    <tr>\n",
       "      <th>2</th>\n",
       "      <td>Bloc</td>\n",
       "      <td>Business</td>\n",
       "      <td>2000-11-27</td>\n",
       "      <td>11</td>\n",
       "    </tr>\n",
       "    <tr>\n",
       "      <th>3</th>\n",
       "      <td>Bloc</td>\n",
       "      <td>Business</td>\n",
       "      <td>2004-06-28</td>\n",
       "      <td>9</td>\n",
       "    </tr>\n",
       "    <tr>\n",
       "      <th>4</th>\n",
       "      <td>Bloc</td>\n",
       "      <td>Business</td>\n",
       "      <td>2006-01-23</td>\n",
       "      <td>4</td>\n",
       "    </tr>\n",
       "    <tr>\n",
       "      <th>...</th>\n",
       "      <td>...</td>\n",
       "      <td>...</td>\n",
       "      <td>...</td>\n",
       "      <td>...</td>\n",
       "    </tr>\n",
       "    <tr>\n",
       "      <th>875</th>\n",
       "      <td>Third_Party</td>\n",
       "      <td>Trades</td>\n",
       "      <td>2008-10-14</td>\n",
       "      <td>34</td>\n",
       "    </tr>\n",
       "    <tr>\n",
       "      <th>876</th>\n",
       "      <td>Third_Party</td>\n",
       "      <td>Trades</td>\n",
       "      <td>2011-05-02</td>\n",
       "      <td>28</td>\n",
       "    </tr>\n",
       "    <tr>\n",
       "      <th>877</th>\n",
       "      <td>Third_Party</td>\n",
       "      <td>Trades</td>\n",
       "      <td>2015-10-19</td>\n",
       "      <td>33</td>\n",
       "    </tr>\n",
       "    <tr>\n",
       "      <th>878</th>\n",
       "      <td>Third_Party</td>\n",
       "      <td>Trades</td>\n",
       "      <td>2019-10-21</td>\n",
       "      <td>63</td>\n",
       "    </tr>\n",
       "    <tr>\n",
       "      <th>879</th>\n",
       "      <td>Third_Party</td>\n",
       "      <td>Trades</td>\n",
       "      <td>2021-09-20</td>\n",
       "      <td>0</td>\n",
       "    </tr>\n",
       "  </tbody>\n",
       "</table>\n",
       "<p>880 rows × 4 columns</p>\n",
       "</div>"
      ],
      "text/plain": [
       "    party_major_group censuscategory      edate   0\n",
       "0                Bloc       Business 1993-10-25  16\n",
       "1                Bloc       Business 1997-06-02  15\n",
       "2                Bloc       Business 2000-11-27  11\n",
       "3                Bloc       Business 2004-06-28   9\n",
       "4                Bloc       Business 2006-01-23   4\n",
       "..                ...            ...        ...  ..\n",
       "875       Third_Party         Trades 2008-10-14  34\n",
       "876       Third_Party         Trades 2011-05-02  28\n",
       "877       Third_Party         Trades 2015-10-19  33\n",
       "878       Third_Party         Trades 2019-10-21  63\n",
       "879       Third_Party         Trades 2021-09-20   0\n",
       "\n",
       "[880 rows x 4 columns]"
      ]
     },
     "execution_count": 82,
     "metadata": {},
     "output_type": "execute_result"
    }
   ],
   "source": [
    "count_p.unstack().reset_index()"
   ]
  },
  {
   "cell_type": "markdown",
   "metadata": {
    "slideshow": {
     "slide_type": "slide"
    }
   },
   "source": [
    "### Merging Data\n",
    "\n",
    "To get a handle on merging, let's say we are interested in analyzing candidate occupation by sector."
   ]
  },
  {
   "cell_type": "code",
   "execution_count": null,
   "metadata": {
    "slideshow": {
     "slide_type": "-"
    }
   },
   "outputs": [],
   "source": [
    "sector = pd.DataFrame({\n",
    "            \"sector\": [\"Tertiary\", \"Tertiary\", \"Tertiary\", \"Tertiary\", \"Tertiary\", \"Primary\", \n",
    "                       \"Tertiary\", \"Tertiary\", \"Secondary\", \"Tertiary\", \"Secondary\"],\n",
    "    \"censuscategory\": [\"Business\", \"Health\", \"Management\", \"MP\", \"Science\", \"Resources\", \"Culture\", \n",
    "                       \"Social\", \"Manufacturing\", \"Sales\", \"Trades\"]\n",
    "})\n",
    "sector"
   ]
  },
  {
   "cell_type": "markdown",
   "metadata": {
    "slideshow": {
     "slide_type": "slide"
    }
   },
   "source": [
    "Using the merge function we can specify how we want this DataFrame to be combined with the main data set."
   ]
  },
  {
   "cell_type": "code",
   "execution_count": null,
   "metadata": {},
   "outputs": [],
   "source": [
    "merged = pd.merge(df, sector, on=\"censuscategory\", how=\"left\")\n",
    "merged[[\"year\", \"candidate_name\", \"censuscategory\", \"sector\"]]"
   ]
  },
  {
   "cell_type": "markdown",
   "metadata": {
    "slideshow": {
     "slide_type": "slide"
    }
   },
   "source": [
    "Look more closely at the code:\n",
    "```python\n",
    "pd.merge(df, sector, on=\"censuscategory\", how=\"left\")\n",
    "```\n",
    "\n",
    "We usually talk about a left and right hand arguments. These are the first two arguments to merge.\n",
    "\n",
    "The `on` argument tells us what variable(s) to merge on. \n",
    "\n",
    "The `how` argument specifies how the data gets merged.\n",
    "\n",
    "To read more see the [guide on database-style joins](https://pandas.pydata.org/pandas-docs/stable/user_guide/merging.html#database-style-dataframe-or-named-series-joining-merging)"
   ]
  },
  {
   "cell_type": "markdown",
   "metadata": {
    "slideshow": {
     "slide_type": "slide"
    }
   },
   "source": [
    "### Concatenating Data\n",
    "\n",
    "Finally, sometimes our data is spread over multiple dataframes, and we just want to combine it.\n",
    "\n",
    "This is what the concatenation operation does.\n",
    "\n",
    "See [Concatenating Objects](https://pandas.pydata.org/docs/user_guide/merging.html#concatenating-objects) for further details."
   ]
  },
  {
   "cell_type": "code",
   "execution_count": null,
   "metadata": {
    "slideshow": {
     "slide_type": "slide"
    }
   },
   "outputs": [],
   "source": [
    "# Separate counts by election; note iteration over groupby\n",
    "separate_dataframes = [obj for name, obj in count.groupby(\"edate\")]\n",
    "separate_dataframes[:2]"
   ]
  },
  {
   "cell_type": "code",
   "execution_count": null,
   "metadata": {
    "slideshow": {
     "slide_type": "slide"
    }
   },
   "outputs": [],
   "source": [
    "pd.concat(separate_dataframes) # back together!"
   ]
  },
  {
   "cell_type": "markdown",
   "metadata": {
    "slideshow": {
     "slide_type": "slide"
    }
   },
   "source": [
    "## Conlusion\n",
    "\n",
    "We have only scratched the surface of what you can do with `pandas`.\n",
    "\n",
    "Always remember that the documentation is your best friend.\n",
    "\n",
    "Let me leave you with a pointer to a few other libraries;\n",
    "\n",
    "- `numpy` is the standard Python library for mathematical tasks. It is very powerful and you can use it almost seamlessly in conjunction with `pandas`.\n",
    "- If you want to run statistical analyses with your `pandas` data, check out Python's `statsmodels` package.\n",
    "- Finally, if you want to make beautiful graphs, please come back next week, when we will look at `matplotlib`, Python's de facto standard plotting library.\n"
   ]
  }
 ],
 "metadata": {
  "celltoolbar": "Slideshow",
  "interpreter": {
   "hash": "7bb8eae9c2297506b9894494f89ab8d67c41d115c2354c72d7d438870909f850"
  },
  "kernelspec": {
   "display_name": "Python 3 (ipykernel)",
   "language": "python",
   "name": "python3"
  },
  "language_info": {
   "codemirror_mode": {
    "name": "ipython",
    "version": 3
   },
   "file_extension": ".py",
   "mimetype": "text/x-python",
   "name": "python",
   "nbconvert_exporter": "python",
   "pygments_lexer": "ipython3",
   "version": "3.9.0"
  }
 },
 "nbformat": 4,
 "nbformat_minor": 2
}
